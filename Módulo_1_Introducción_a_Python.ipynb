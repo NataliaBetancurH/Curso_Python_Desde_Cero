{
  "nbformat": 4,
  "nbformat_minor": 0,
  "metadata": {
    "kernelspec": {
      "display_name": "Python 3",
      "language": "python",
      "name": "python3"
    },
    "language_info": {
      "codemirror_mode": {
        "name": "ipython",
        "version": 3
      },
      "file_extension": ".py",
      "mimetype": "text/x-python",
      "name": "python",
      "nbconvert_exporter": "python",
      "pygments_lexer": "ipython3",
      "version": "3.6.10"
    },
    "colab": {
      "provenance": []
    }
  },
  "cells": [
    {
      "cell_type": "markdown",
      "source": [
        "Módulo 1: Introducción a Python\n",
        "\n",
        "**Autor:    Natalia Betancur Herrera**\n",
        "\n",
        "Objetivos de la clase:\n",
        "\n",
        "* Instalación y uso de Google Colab\n",
        "* Primeros pasos en Python: variables y tipos de datos\n",
        "* Operadores aritméticos y lógicos\n",
        "* Estructuras de control: condicionales (if, else, elif)\n"
      ],
      "metadata": {
        "id": "Sv4yjqJ-M3Zw"
      }
    },
    {
      "cell_type": "markdown",
      "metadata": {
        "id": "52SUbXml_VFl"
      },
      "source": [
        "# ¿Qué es una variable?\n",
        "\n",
        "Una variable en Python es un espacio en la memoria donde podemos almacenar datos. Las variables no necesitan ser declaradas con un tipo de dato específico, ya que Python es un lenguaje de tipado dinámico."
      ]
    },
    {
      "cell_type": "code",
      "source": [
        "#Sintaxis: nombre_variable = valor\n",
        "nombre_variable = 3"
      ],
      "metadata": {
        "id": "RyjkLUqYNvvE"
      },
      "execution_count": null,
      "outputs": []
    },
    {
      "cell_type": "code",
      "metadata": {
        "id": "upk4joD7_VG2"
      },
      "source": [
        "#Ejemplos\n",
        "edad = 25\n",
        "nombre = \"Natalia\"\n",
        "altura = 1.75"
      ],
      "execution_count": null,
      "outputs": []
    },
    {
      "cell_type": "markdown",
      "source": [
        "# Tipos de datos\n",
        "\n",
        "Los tipos de datos en Python definen el tipo de valor que una variable puede almacenar, lo que permite al lenguaje gestionar correctamente las operaciones que realizamos con dichos valores. A diferencia de otros lenguajes, en Python no es necesario declarar el tipo de una variable, ya que Python lo infiere automáticamente cuando asignamos un valor. A continuación, exploraremos los tipos de datos más comunes"
      ],
      "metadata": {
        "id": "G37zhQbZOOSg"
      }
    },
    {
      "cell_type": "markdown",
      "source": [
        "\n",
        "1.   Números enteros (int): Representan números sin decimales."
      ],
      "metadata": {
        "id": "RHmjBOcKPJ-4"
      }
    },
    {
      "cell_type": "code",
      "source": [
        "#Ejemplo de asignación de números enteros\n",
        "edad = 30\n",
        "x1 = 2"
      ],
      "metadata": {
        "id": "TSY-SjVrPJaQ"
      },
      "execution_count": null,
      "outputs": []
    },
    {
      "cell_type": "code",
      "source": [
        "#Función para conocer el tipo de variable\n",
        "type(x1)"
      ],
      "metadata": {
        "colab": {
          "base_uri": "https://localhost:8080/"
        },
        "id": "I0Q1VQIGPG3v",
        "outputId": "8afc96c4-5cab-46e0-c00f-c2cf73466a56"
      },
      "execution_count": null,
      "outputs": [
        {
          "output_type": "execute_result",
          "data": {
            "text/plain": [
              "int"
            ]
          },
          "metadata": {},
          "execution_count": 13
        }
      ]
    },
    {
      "cell_type": "markdown",
      "source": [
        "\n",
        "2.   Números de punto flotante (float): Representan números con decimales."
      ],
      "metadata": {
        "id": "c6vo9okpP0kG"
      }
    },
    {
      "cell_type": "code",
      "source": [
        "#Ejemplo de asignación de números punto flotante\n",
        "altura = 1.75\n",
        "x2 = 3.2"
      ],
      "metadata": {
        "id": "eZTk07m6P0kG"
      },
      "execution_count": null,
      "outputs": []
    },
    {
      "cell_type": "code",
      "source": [
        "#Función para conocer el tipo de variable\n",
        "type(x2)"
      ],
      "metadata": {
        "colab": {
          "base_uri": "https://localhost:8080/"
        },
        "outputId": "b623b2c5-c3aa-4d10-f3e7-3281fd2d8da4",
        "id": "fp7-cLLyP0kH"
      },
      "execution_count": null,
      "outputs": [
        {
          "output_type": "execute_result",
          "data": {
            "text/plain": [
              "float"
            ]
          },
          "metadata": {},
          "execution_count": 15
        }
      ]
    },
    {
      "cell_type": "markdown",
      "source": [
        "\n",
        "3.   Cadenas de texto (str): Representan secuencias de caracteres."
      ],
      "metadata": {
        "id": "x2-pKs2pQF0A"
      }
    },
    {
      "cell_type": "code",
      "source": [
        "#Ejemplo de asignación de cadenas de texto\n",
        "nombre = \"Natalia\"\n",
        "x3 = 'hola mundo'"
      ],
      "metadata": {
        "id": "8U2chNuKQF0B"
      },
      "execution_count": null,
      "outputs": []
    },
    {
      "cell_type": "code",
      "source": [
        "#Función para conocer el tipo de variable\n",
        "type(x3)"
      ],
      "metadata": {
        "colab": {
          "base_uri": "https://localhost:8080/"
        },
        "outputId": "5515eed6-a0ad-491f-f412-20e39a1f7809",
        "id": "-Wzc_VqmQF0B"
      },
      "execution_count": null,
      "outputs": [
        {
          "output_type": "execute_result",
          "data": {
            "text/plain": [
              "str"
            ]
          },
          "metadata": {},
          "execution_count": 17
        }
      ]
    },
    {
      "cell_type": "markdown",
      "source": [
        "\n",
        "4.  Booleanos (bool): Representan valores lógicos: True o False."
      ],
      "metadata": {
        "id": "Pw_thAiDQnGM"
      }
    },
    {
      "cell_type": "code",
      "source": [
        "#Ejemplo de asignación de booleanos\n",
        "es_estudiante = True\n",
        "x4 = True"
      ],
      "metadata": {
        "id": "7Lkcc5dsQnGN"
      },
      "execution_count": null,
      "outputs": []
    },
    {
      "cell_type": "code",
      "source": [
        "#Función para conocer el tipo de variable\n",
        "type(x4)"
      ],
      "metadata": {
        "colab": {
          "base_uri": "https://localhost:8080/"
        },
        "outputId": "2477bbab-efce-4fc1-c8ec-7a2dcd150064",
        "id": "cq5nAGgkQnGN"
      },
      "execution_count": null,
      "outputs": [
        {
          "output_type": "execute_result",
          "data": {
            "text/plain": [
              "bool"
            ]
          },
          "metadata": {},
          "execution_count": 19
        }
      ]
    },
    {
      "cell_type": "markdown",
      "metadata": {
        "id": "V1zeMdcF_VHw"
      },
      "source": [
        "# Entrada y salida de datos\n",
        "\n",
        "La interacción con el usuario es fundamental para recibir información (entrada de datos) y proporcionar resultados (salida de datos). En Python, esto se maneja principalmente con dos funciones clave:\n",
        "\n",
        "* input() permite al usuario ingresar datos a través del teclado.\n",
        "* print() se utiliza para mostrar mensajes y resultados en la consola."
      ]
    },
    {
      "cell_type": "code",
      "metadata": {
        "id": "7UNKJxAM_VHx",
        "outputId": "f0414a53-fcb4-4698-c796-777cf7a7ca20",
        "colab": {
          "base_uri": "https://localhost:8080/"
        }
      },
      "source": [
        "#Entrada de datos\n",
        "x = input('Ingrese el dato: ')"
      ],
      "execution_count": null,
      "outputs": [
        {
          "name": "stdout",
          "output_type": "stream",
          "text": [
            "ingrese el dato: 3\n"
          ]
        }
      ]
    },
    {
      "cell_type": "code",
      "metadata": {
        "id": "Hc1SWGMg_VHy",
        "outputId": "c4278c64-fedb-4a8e-8426-2dc2c097020f",
        "colab": {
          "base_uri": "https://localhost:8080/"
        }
      },
      "source": [
        "#Entrada de datos\n",
        "y = input('Ingrese el dato: ')"
      ],
      "execution_count": null,
      "outputs": [
        {
          "name": "stdout",
          "output_type": "stream",
          "text": [
            "ingrese el dato: 2\n"
          ]
        }
      ]
    },
    {
      "cell_type": "code",
      "metadata": {
        "id": "hI4U_rPs_VH4",
        "outputId": "c4f9b86f-cb06-48e7-bcf5-c22f719254c0",
        "colab": {
          "base_uri": "https://localhost:8080/"
        }
      },
      "source": [
        "#Salida de datos\n",
        "print('El primer dato ingresado es:', x,' El segundo dato ingresado es:', y)"
      ],
      "execution_count": null,
      "outputs": [
        {
          "output_type": "stream",
          "name": "stdout",
          "text": [
            "El primer dato ingresado es: 3  El segundo dato ingresado es: 2\n"
          ]
        }
      ]
    },
    {
      "cell_type": "markdown",
      "metadata": {
        "id": "RHhAvSG-_VH5"
      },
      "source": [
        "# Operaciones aritméticas\n",
        "\n",
        "Las operaciones aritméticas permiten realizar cálculos matemáticos básicos como suma, resta, multiplicación, y división. En Python, las operaciones aritméticas pueden realizarse de varias maneras dependiendo de las necesidades del problema. Puedes utilizar operadores básicos, funciones predefinidas o librerías especializadas."
      ]
    },
    {
      "cell_type": "markdown",
      "source": [
        "1. Suma"
      ],
      "metadata": {
        "id": "OQJQi66MXOYB"
      }
    },
    {
      "cell_type": "code",
      "source": [
        "#Operador básico\n",
        "suma = 5 + 3  # Resultado: 8\n",
        "print(suma)"
      ],
      "metadata": {
        "colab": {
          "base_uri": "https://localhost:8080/"
        },
        "id": "SzNx5o37VCX-",
        "outputId": "a55b0283-2684-4902-98c1-93cb5b94e260"
      },
      "execution_count": null,
      "outputs": [
        {
          "output_type": "stream",
          "name": "stdout",
          "text": [
            "8\n"
          ]
        }
      ]
    },
    {
      "cell_type": "code",
      "source": [
        "#Función predefinida\n",
        "suma = sum([5, 3])  # Resultado: 8\n",
        "print(suma)"
      ],
      "metadata": {
        "colab": {
          "base_uri": "https://localhost:8080/"
        },
        "id": "eLEeeUT1VNOH",
        "outputId": "c503bb7a-d46c-48a6-d3cf-b8ac912d6b38"
      },
      "execution_count": null,
      "outputs": [
        {
          "output_type": "stream",
          "name": "stdout",
          "text": [
            "8\n"
          ]
        }
      ]
    },
    {
      "cell_type": "code",
      "source": [
        "#Librería\n",
        "import numpy as np\n",
        "suma = np.add(5, 3)  # Resultado: 8"
      ],
      "metadata": {
        "id": "_Arw6qh5VWiE"
      },
      "execution_count": null,
      "outputs": []
    },
    {
      "cell_type": "markdown",
      "source": [
        "2. Resta"
      ],
      "metadata": {
        "id": "JJkd_s3rXU5O"
      }
    },
    {
      "cell_type": "code",
      "source": [
        "#Operador básico\n",
        "resta = 10 - 2  # Resultado: 8\n",
        "print(resta)"
      ],
      "metadata": {
        "colab": {
          "base_uri": "https://localhost:8080/"
        },
        "id": "rLSgw1B7Y_mZ",
        "outputId": "1b7afc9e-a6a2-45f4-9343-09532b5c89b8"
      },
      "execution_count": null,
      "outputs": [
        {
          "output_type": "stream",
          "name": "stdout",
          "text": [
            "8\n"
          ]
        }
      ]
    },
    {
      "cell_type": "code",
      "source": [
        "#Función predefinida\n",
        "import operator\n",
        "resta = operator.sub(10, 2)  # Resultado: 8\n",
        "print(resta)"
      ],
      "metadata": {
        "colab": {
          "base_uri": "https://localhost:8080/"
        },
        "outputId": "83dc4f10-a735-4756-b44b-15c34007345d",
        "id": "Seq_L6NIXU5O"
      },
      "execution_count": null,
      "outputs": [
        {
          "output_type": "stream",
          "name": "stdout",
          "text": [
            "8\n"
          ]
        }
      ]
    },
    {
      "cell_type": "code",
      "source": [
        "#Librería\n",
        "resta = np.subtract(10, 2)  # Resultado: 8\n",
        "print(resta)"
      ],
      "metadata": {
        "colab": {
          "base_uri": "https://localhost:8080/"
        },
        "id": "stYQsFq6XU5O",
        "outputId": "831ac977-9bc4-40d3-e2cf-ad17fd00ab5d"
      },
      "execution_count": null,
      "outputs": [
        {
          "output_type": "stream",
          "name": "stdout",
          "text": [
            "8\n"
          ]
        }
      ]
    },
    {
      "cell_type": "markdown",
      "source": [
        "3. Multiplicación"
      ],
      "metadata": {
        "id": "ngLNbYs7ZE5E"
      }
    },
    {
      "cell_type": "code",
      "source": [
        "#Operador básico\n",
        "multiplicacion = 4 * 7  # Resultado: 28\n",
        "print(multiplicacion)"
      ],
      "metadata": {
        "colab": {
          "base_uri": "https://localhost:8080/"
        },
        "outputId": "1db54c0b-df7d-41f6-fbd0-9c305a6b3c06",
        "id": "qJGFV8WLZE5E"
      },
      "execution_count": null,
      "outputs": [
        {
          "output_type": "stream",
          "name": "stdout",
          "text": [
            "28\n"
          ]
        }
      ]
    },
    {
      "cell_type": "code",
      "source": [
        "#Función predefinida\n",
        "import operator\n",
        "multiplicacion = operator.mul(4, 7)  # Resultado: 28\n",
        "print(multiplicacion)"
      ],
      "metadata": {
        "colab": {
          "base_uri": "https://localhost:8080/"
        },
        "outputId": "4feab364-b857-48c7-c665-a9de0395b6c8",
        "id": "6-WokM2KZE5E"
      },
      "execution_count": null,
      "outputs": [
        {
          "output_type": "stream",
          "name": "stdout",
          "text": [
            "28\n"
          ]
        }
      ]
    },
    {
      "cell_type": "code",
      "source": [
        "#Librería\n",
        "multiplicacion = np.multiply(4, 7)  # Resultado: 28\n",
        "print(multiplicacion)"
      ],
      "metadata": {
        "colab": {
          "base_uri": "https://localhost:8080/"
        },
        "outputId": "901874a4-27b6-49db-8202-38c916e9f373",
        "id": "IY400frLZE5F"
      },
      "execution_count": null,
      "outputs": [
        {
          "output_type": "stream",
          "name": "stdout",
          "text": [
            "28\n"
          ]
        }
      ]
    },
    {
      "cell_type": "markdown",
      "source": [
        "4. División"
      ],
      "metadata": {
        "id": "wXk6AKG7Z7ax"
      }
    },
    {
      "cell_type": "code",
      "source": [
        "#Operador básico\n",
        "division = 16 / 4  # Resultado: 4.0\n",
        "print(division)"
      ],
      "metadata": {
        "colab": {
          "base_uri": "https://localhost:8080/"
        },
        "outputId": "7f46f9db-952a-4ec1-99c6-050fc7f685bf",
        "id": "OD3by7gTZ7ay"
      },
      "execution_count": null,
      "outputs": [
        {
          "output_type": "stream",
          "name": "stdout",
          "text": [
            "4.0\n"
          ]
        }
      ]
    },
    {
      "cell_type": "code",
      "source": [
        "#Función predefinida\n",
        "import operator\n",
        "division = operator.truediv(16, 4)  # Resultado: 4.0\n",
        "print(division)"
      ],
      "metadata": {
        "colab": {
          "base_uri": "https://localhost:8080/"
        },
        "outputId": "392cd926-2cef-44bb-befc-8eab55384d9f",
        "id": "lMbCeryXZ7ay"
      },
      "execution_count": null,
      "outputs": [
        {
          "output_type": "stream",
          "name": "stdout",
          "text": [
            "4.0\n"
          ]
        }
      ]
    },
    {
      "cell_type": "code",
      "source": [
        "#Librería\n",
        "division = np.divide(16, 4)  # Resultado: 4.0\n",
        "print(division)"
      ],
      "metadata": {
        "colab": {
          "base_uri": "https://localhost:8080/"
        },
        "outputId": "4521497d-50fd-487c-f888-60c3673e56ae",
        "id": "qS-IJfwcZ7ay"
      },
      "execution_count": null,
      "outputs": [
        {
          "output_type": "stream",
          "name": "stdout",
          "text": [
            "4.0\n"
          ]
        }
      ]
    },
    {
      "cell_type": "markdown",
      "source": [
        "Nota: Es importante diferenciar el uso de / para división y de // para división entera"
      ],
      "metadata": {
        "id": "z1pPQqUYac16"
      }
    },
    {
      "cell_type": "code",
      "source": [
        "#Operador básico división entera\n",
        "division = 6//5 # Resultado: 1\n",
        "print(division)"
      ],
      "metadata": {
        "colab": {
          "base_uri": "https://localhost:8080/"
        },
        "id": "1FDjfI45akdR",
        "outputId": "1d48aac5-1e15-4c40-e778-6768ea826c40"
      },
      "execution_count": null,
      "outputs": [
        {
          "output_type": "stream",
          "name": "stdout",
          "text": [
            "1\n"
          ]
        }
      ]
    },
    {
      "cell_type": "markdown",
      "source": [
        "5. Exponente"
      ],
      "metadata": {
        "id": "oX2iTScLbmeV"
      }
    },
    {
      "cell_type": "code",
      "source": [
        "#Operador básico\n",
        "exponente = 2 ** 3  # Resultado: 8\n",
        "print(exponente)"
      ],
      "metadata": {
        "colab": {
          "base_uri": "https://localhost:8080/"
        },
        "outputId": "c03164ba-15a5-461b-df40-b4c1c9ccfe63",
        "id": "GQN4_uv_bmeV"
      },
      "execution_count": null,
      "outputs": [
        {
          "output_type": "stream",
          "name": "stdout",
          "text": [
            "8\n"
          ]
        }
      ]
    },
    {
      "cell_type": "code",
      "source": [
        "#Función predefinida\n",
        "exponente = pow(2, 3)  # Resultado: 8\n",
        "print(exponente)"
      ],
      "metadata": {
        "colab": {
          "base_uri": "https://localhost:8080/"
        },
        "outputId": "211552bf-6db5-4819-fc9a-7d17a985198d",
        "id": "Z247iUYFbmeW"
      },
      "execution_count": null,
      "outputs": [
        {
          "output_type": "stream",
          "name": "stdout",
          "text": [
            "8\n"
          ]
        }
      ]
    },
    {
      "cell_type": "code",
      "source": [
        "#Librería\n",
        "exponente = np.power(2, 3)  # Resultado: 8\n",
        "print(exponente)"
      ],
      "metadata": {
        "colab": {
          "base_uri": "https://localhost:8080/"
        },
        "outputId": "5fe3610a-a923-4502-b932-ee9f8fe1b617",
        "id": "zblwzvQZbmeW"
      },
      "execution_count": null,
      "outputs": [
        {
          "output_type": "stream",
          "name": "stdout",
          "text": [
            "8\n"
          ]
        }
      ]
    },
    {
      "cell_type": "markdown",
      "source": [
        "6. Potencia"
      ],
      "metadata": {
        "id": "D0-DkAgNb6IB"
      }
    },
    {
      "cell_type": "code",
      "source": [
        "#Operador básico\n",
        "valor_absoluto = abs(-5)  # Resultado: 5\n",
        "print(valor_absoluto)"
      ],
      "metadata": {
        "colab": {
          "base_uri": "https://localhost:8080/"
        },
        "outputId": "b34bf2a9-529a-4f40-eff9-7527c68821d1",
        "id": "U7HGfJaCb6IB"
      },
      "execution_count": null,
      "outputs": [
        {
          "output_type": "stream",
          "name": "stdout",
          "text": [
            "5\n"
          ]
        }
      ]
    },
    {
      "cell_type": "code",
      "source": [
        "#Función predefinida\n",
        "valor_absoluto = operator.abs(-5)  # Resultado: 5\n",
        "print(valor_absoluto)"
      ],
      "metadata": {
        "colab": {
          "base_uri": "https://localhost:8080/"
        },
        "outputId": "7d2a2542-0124-4d62-e1a9-57909d43f064",
        "id": "doc-yBSYb6IB"
      },
      "execution_count": null,
      "outputs": [
        {
          "output_type": "stream",
          "name": "stdout",
          "text": [
            "5\n"
          ]
        }
      ]
    },
    {
      "cell_type": "code",
      "source": [
        "#Librería\n",
        "valor_absoluto = np.abs(-5)  # Resultado: 5\n",
        "print(valor_absoluto)"
      ],
      "metadata": {
        "colab": {
          "base_uri": "https://localhost:8080/"
        },
        "outputId": "ace7ae23-8237-47f3-e5c8-bc755730b102",
        "id": "2SsqrWlub6IC"
      },
      "execution_count": null,
      "outputs": [
        {
          "output_type": "stream",
          "name": "stdout",
          "text": [
            "5\n"
          ]
        }
      ]
    },
    {
      "cell_type": "markdown",
      "metadata": {
        "id": "zQ_r6I-u_VH7"
      },
      "source": [
        "# Operadores relacionales\n",
        "\n",
        "Las operaciones relacionales permiten comparar valores y determinar si una condición es verdadera o falsa. En Python, estas comparaciones se realizan utilizando operadores relacionales, que devuelven un valor booleano (True o False).\n",
        "\n",
        "Principales Operadores Relacionales:"
      ]
    },
    {
      "cell_type": "markdown",
      "source": [
        "1. Igualdad (==): Comprueba si dos valores son iguales."
      ],
      "metadata": {
        "id": "3r_EgquWrPiy"
      }
    },
    {
      "cell_type": "code",
      "source": [
        "es_igual = 'Hola' == 'Hola'  # Resultado: True\n",
        "print(es_igual)"
      ],
      "metadata": {
        "colab": {
          "base_uri": "https://localhost:8080/"
        },
        "id": "4DxTrHaRq7Oh",
        "outputId": "6e9f77b8-bd98-4a69-c2ab-1a9c6e21f9e5"
      },
      "execution_count": null,
      "outputs": [
        {
          "output_type": "stream",
          "name": "stdout",
          "text": [
            "True\n"
          ]
        }
      ]
    },
    {
      "cell_type": "markdown",
      "source": [
        "2. Desigualdad (!=): Comprueba si dos valores son diferentes."
      ],
      "metadata": {
        "id": "Mm6dS3sVrWDS"
      }
    },
    {
      "cell_type": "code",
      "source": [
        "es_diferente = 5 != 3  # Resultado: True\n",
        "print(es_diferente)"
      ],
      "metadata": {
        "colab": {
          "base_uri": "https://localhost:8080/"
        },
        "id": "MUzhdr7OrZgR",
        "outputId": "540fe102-afe6-4058-a014-b88d8817e41b"
      },
      "execution_count": null,
      "outputs": [
        {
          "output_type": "stream",
          "name": "stdout",
          "text": [
            "True\n"
          ]
        }
      ]
    },
    {
      "cell_type": "markdown",
      "source": [
        "3. Mayor que (>): Comprueba si un valor es mayor que otro."
      ],
      "metadata": {
        "id": "klozBJMlrhbx"
      }
    },
    {
      "cell_type": "code",
      "source": [
        "mayor_que = 10 > 5  # Resultado: True\n",
        "print(mayor_que)"
      ],
      "metadata": {
        "colab": {
          "base_uri": "https://localhost:8080/"
        },
        "id": "VBwjcCM7refI",
        "outputId": "1ff6dece-6462-46f4-876a-8a5c2da316a8"
      },
      "execution_count": null,
      "outputs": [
        {
          "output_type": "stream",
          "name": "stdout",
          "text": [
            "True\n"
          ]
        }
      ]
    },
    {
      "cell_type": "markdown",
      "source": [
        "4. Menor que (<): Comprueba si un valor es menor que otro."
      ],
      "metadata": {
        "id": "K7gUfpTIr2Qi"
      }
    },
    {
      "cell_type": "code",
      "source": [
        "menor_que = 3 < 7  # Resultado: True\n",
        "print(menor_que)"
      ],
      "metadata": {
        "colab": {
          "base_uri": "https://localhost:8080/"
        },
        "id": "0qVwQQJ6r1xI",
        "outputId": "6024fa52-5896-4020-8add-3a30dca8fcd8"
      },
      "execution_count": null,
      "outputs": [
        {
          "output_type": "stream",
          "name": "stdout",
          "text": [
            "True\n"
          ]
        }
      ]
    },
    {
      "cell_type": "markdown",
      "source": [
        "5. Mayor o igual que (>=): Comprueba si un valor es mayor o igual que otro."
      ],
      "metadata": {
        "id": "jr54z6pQr8DY"
      }
    },
    {
      "cell_type": "code",
      "source": [
        "mayor_o_igual = 10 >= 10  # Resultado: True\n",
        "print(mayor_o_igual)"
      ],
      "metadata": {
        "colab": {
          "base_uri": "https://localhost:8080/"
        },
        "id": "m_TWm5ZXr_xY",
        "outputId": "fe6efcf5-4085-49f2-83f9-9b30a31ef82a"
      },
      "execution_count": null,
      "outputs": [
        {
          "output_type": "stream",
          "name": "stdout",
          "text": [
            "True\n"
          ]
        }
      ]
    },
    {
      "cell_type": "markdown",
      "source": [
        "6. Menor o igual que (<=): Comprueba si un valor es menor o igual que otro."
      ],
      "metadata": {
        "id": "yb1QHjLesUeP"
      }
    },
    {
      "cell_type": "code",
      "source": [
        "menor_o_igual = 4 <= 4  # Resultado: True\n",
        "print(menor_o_igual)"
      ],
      "metadata": {
        "colab": {
          "base_uri": "https://localhost:8080/"
        },
        "id": "Uwis2tA3sWF_",
        "outputId": "ea21eab0-3627-4f91-f009-34516b2799aa"
      },
      "execution_count": null,
      "outputs": [
        {
          "output_type": "stream",
          "name": "stdout",
          "text": [
            "True\n"
          ]
        }
      ]
    },
    {
      "cell_type": "markdown",
      "metadata": {
        "id": "rSrL6xHi_VIA"
      },
      "source": [
        "# Modulo Math\n",
        "\n",
        "El módulo math es una biblioteca estándar en Python que proporciona acceso a funciones matemáticas avanzadas y constantes. Este módulo extiende las capacidades aritméticas básicas del lenguaje, permitiendo realizar cálculos más complejos como operaciones trigonométricas, exponenciales, logarítmicas, y manipulación de números en diferentes bases.\n",
        "\n",
        "¿Qué ofrece el módulo math?\n",
        "* Funciones matemáticas estándar como raíces cuadradas, logaritmos y exponenciales.\n",
        "* Funciones trigonométricas como seno, coseno y tangente.\n",
        "* Constantes matemáticas como pi y e."
      ]
    },
    {
      "cell_type": "code",
      "metadata": {
        "id": "T2nlkwcA_VIA",
        "colab": {
          "base_uri": "https://localhost:8080/"
        },
        "outputId": "b30d24c7-9292-43df-8509-a9582c630631"
      },
      "source": [
        "#Raíz Cuadrada\n",
        "import math\n",
        "\n",
        "raiz_cuadrada_16 = math.sqrt(16)  # Resultado: 4.0\n",
        "logaritmo_10 = math.log(10)  # Resultado: 2.302585092994046\n",
        "print('Raiz cuadrada de 16: ', raiz_cuadrada_16)\n",
        "print('logaritmo natural de 10 : ', logaritmo_10 )"
      ],
      "execution_count": null,
      "outputs": [
        {
          "output_type": "stream",
          "name": "stdout",
          "text": [
            "Raiz cuadrada de 16:  4.0\n",
            "logaritmo natural de 10 :  2.302585092994046\n"
          ]
        }
      ]
    },
    {
      "cell_type": "code",
      "metadata": {
        "id": "QS_NUvde_VIA",
        "outputId": "384f829b-77a8-4919-a570-46b4be919fdc",
        "colab": {
          "base_uri": "https://localhost:8080/"
        }
      },
      "source": [
        "#Funciones Trigonométricas\n",
        "seno_pi_2 = math.sin(math.pi/2)  # Resultado: 1.0\n",
        "coseno_0 = math.cos(0)  # Resultado: 1.0\n",
        "tangente_pi_4 = math.tan(math.pi/4)  # Resultado: 1.0\n",
        "print('Seno de pi medios: ', seno_pi_2)\n",
        "print('Coseno de cero: ', coseno_0)\n",
        "print('Tangente de pi cuartos: ', tangente_pi_4)"
      ],
      "execution_count": null,
      "outputs": [
        {
          "output_type": "stream",
          "name": "stdout",
          "text": [
            "Seno de pi medios:  1.0\n",
            "Coseno de cero:  1.0\n",
            "Tangente de pi cuartos:  0.9999999999999999\n"
          ]
        }
      ]
    },
    {
      "cell_type": "code",
      "metadata": {
        "id": "0Eh06Pwh_VID",
        "outputId": "4fae3b4f-784b-424a-8c65-9d3b124247b1",
        "colab": {
          "base_uri": "https://localhost:8080/"
        }
      },
      "source": [
        "#Constantes Matemáticas\n",
        "print('Valor de Pi', math.pi)  # Resultado: 3.141592653589793\n",
        "area_circulo = math.pi * (5 ** 2)  # Área de un círculo con radio 5\n",
        "print('Area del circulo con radio 5', math.pi)  # Resultado: 3.141592653589793"
      ],
      "execution_count": null,
      "outputs": [
        {
          "output_type": "stream",
          "name": "stdout",
          "text": [
            "Valor de Pi 3.141592653589793\n",
            "Area del circulo con radio 5 3.141592653589793\n"
          ]
        }
      ]
    },
    {
      "cell_type": "markdown",
      "metadata": {
        "id": "YDk65Ln-_VIJ"
      },
      "source": [
        "# Operaciones con cadenas de texto\n",
        "\n",
        "Las cadenas de texto (o strings) son secuencias de caracteres y uno de los tipos de datos más utilizados en Python, el cual, ofrece una variedad de formas para realizar operaciones con cadenas de texto, incluyendo concatenación, repetición, slicing (corte), y muchas funciones integradas que facilitan la manipulación de estas.\n",
        "\n",
        "Operaciones básicas con cadenas de texto:"
      ]
    },
    {
      "cell_type": "code",
      "source": [
        "# Comillas simples\n",
        "cadena1 = 'Texto entre comillas simples'\n",
        "print ('Cadena 1 (comillas simples): ', cadena1)\n",
        "\n",
        "\n",
        "# Comillas dobles\n",
        "cadena2 = \"Texto entre comillas dobles\"\n",
        "print ('Cadena 2 (comillas dobles): ', cadena2)\n",
        "\n",
        "\n",
        "# Cadena con codigo escapes\n",
        "cadena3 = 'Texto entre \\n\\tcomillas simples'\n",
        "print ('Cadena 3 (con escape): ', cadena3)\n",
        "\n",
        "\n",
        "\n",
        "# Cadena multilinea\n",
        "cadena4 = \"\"\"Texto linea 1\n",
        "linea 2\n",
        "linea 3\n",
        "linea 4\n",
        ".\n",
        ".\n",
        ".\n",
        ".\n",
        ".\n",
        "linea N\n",
        "\"\"\"\n",
        "print ('Cadena 4 (multilinea): ', cadena4)"
      ],
      "metadata": {
        "colab": {
          "base_uri": "https://localhost:8080/"
        },
        "id": "KVt4oatd54Ea",
        "outputId": "850bbb05-79f6-4d8b-89ae-938496e6940c"
      },
      "execution_count": null,
      "outputs": [
        {
          "output_type": "stream",
          "name": "stdout",
          "text": [
            "Cadena 1 (comillas simples):  Texto entre comillas simples\n",
            "Cadena 2 (comillas dobles):  Texto entre comillas dobles\n",
            "Cadena 3 (con escape):  Texto entre \n",
            "\tcomillas simples\n",
            "Cadena 4 (multilinea):  Texto linea 1\n",
            "linea 2\n",
            "linea 3\n",
            "linea 4\n",
            ".\n",
            ".\n",
            ".\n",
            ".\n",
            ".\n",
            "linea N\n",
            "\n"
          ]
        }
      ]
    },
    {
      "cell_type": "markdown",
      "source": [
        "1. Concatenación: Combinar dos o más cadenas de texto en una sola."
      ],
      "metadata": {
        "id": "uNPv3mckwClo"
      }
    },
    {
      "cell_type": "code",
      "source": [
        "cadena1 = \"Hola\"\n",
        "cadena2 = \"Mundo\"\n",
        "resultado = cadena1 + \" \" + cadena2  # Resultado: \"Hola Mundo\"\n",
        "print(resultado)"
      ],
      "metadata": {
        "colab": {
          "base_uri": "https://localhost:8080/"
        },
        "id": "Cim5lSFVwGBQ",
        "outputId": "aba4eda7-71b5-4fb7-d5d2-7d8127360aec"
      },
      "execution_count": null,
      "outputs": [
        {
          "output_type": "stream",
          "name": "stdout",
          "text": [
            "Hola Mundo\n"
          ]
        }
      ]
    },
    {
      "cell_type": "code",
      "metadata": {
        "id": "WvvT4Mbs_VIK",
        "outputId": "f2e85b41-c3de-4380-f39e-f2556814aa36",
        "colab": {
          "base_uri": "https://localhost:8080/",
          "height": 35
        }
      },
      "source": [
        "\"Primera \"+\"clase \"+\"de \"+ \"programacion\""
      ],
      "execution_count": null,
      "outputs": [
        {
          "output_type": "execute_result",
          "data": {
            "text/plain": [
              "'Primera clase de programacion'"
            ],
            "application/vnd.google.colaboratory.intrinsic+json": {
              "type": "string"
            }
          },
          "metadata": {},
          "execution_count": 23
        }
      ]
    },
    {
      "cell_type": "markdown",
      "source": [
        "2. Repetición: Repetir una cadena de texto varias veces."
      ],
      "metadata": {
        "id": "U1I2FaMPwb9w"
      }
    },
    {
      "cell_type": "code",
      "source": [
        "saludo = \"Hola! \"\n",
        "repeticion = saludo * 3  # Resultado: \"Hola! Hola! Hola! \"\n",
        "print(repeticion)"
      ],
      "metadata": {
        "colab": {
          "base_uri": "https://localhost:8080/"
        },
        "id": "bFtcnFVewgbZ",
        "outputId": "1bdc882c-0a21-4258-c053-825c865a4a5b"
      },
      "execution_count": null,
      "outputs": [
        {
          "output_type": "stream",
          "name": "stdout",
          "text": [
            "Hola! Hola! Hola! \n"
          ]
        }
      ]
    },
    {
      "cell_type": "markdown",
      "source": [
        "3. Corte: Extraer una parte de una cadena de texto."
      ],
      "metadata": {
        "id": "UzJeZ4pwwq4Y"
      }
    },
    {
      "cell_type": "code",
      "source": [
        "mensaje = \"Python es increíble\"\n",
        "parte = mensaje[0:6]  # Resultado: \"Python\"\n",
        "print(parte)"
      ],
      "metadata": {
        "colab": {
          "base_uri": "https://localhost:8080/"
        },
        "id": "9PA8uJW3wszw",
        "outputId": "5e261a7f-a550-4790-d8de-dd21432b8d88"
      },
      "execution_count": null,
      "outputs": [
        {
          "output_type": "stream",
          "name": "stdout",
          "text": [
            "Python\n"
          ]
        }
      ]
    },
    {
      "cell_type": "markdown",
      "source": [
        "4. Longitud de una cadena: Obtener el número de caracteres en una cadena usando len()."
      ],
      "metadata": {
        "id": "m1PjdREcwzSI"
      }
    },
    {
      "cell_type": "code",
      "metadata": {
        "id": "O-u0speF_VIM",
        "outputId": "14846b75-6432-4a39-c266-9a652e34c90f",
        "colab": {
          "base_uri": "https://localhost:8080/"
        }
      },
      "source": [
        "longitud = len(\"Python\")  # Resultado: 6\n",
        "print(longitud)"
      ],
      "execution_count": null,
      "outputs": [
        {
          "output_type": "stream",
          "name": "stdout",
          "text": [
            "6\n"
          ]
        }
      ]
    },
    {
      "cell_type": "markdown",
      "source": [
        "5. Métodos de cadena: Python proporciona muchos métodos útiles para trabajar con cadenas de texto. Aquí hay algunos ejemplos:"
      ],
      "metadata": {
        "id": "xyRUu3iTxA6g"
      }
    },
    {
      "cell_type": "code",
      "source": [
        "#Convertir a minúsculas (lower()):\n",
        "texto = \"HOLA\"\n",
        "texto_minuscula = texto.lower()  # Resultado: \"hola\"\n",
        "print(texto_minuscula)"
      ],
      "metadata": {
        "colab": {
          "base_uri": "https://localhost:8080/"
        },
        "id": "F93nYg9-xATA",
        "outputId": "0200588c-72c8-4b8e-d837-72b535c5d5d0"
      },
      "execution_count": null,
      "outputs": [
        {
          "output_type": "stream",
          "name": "stdout",
          "text": [
            "hola\n"
          ]
        }
      ]
    },
    {
      "cell_type": "code",
      "source": [
        "#Convertir a mayúsculas (upper()):\n",
        "texto = \"hola\"\n",
        "texto_mayuscula = texto.upper()  # Resultado: \"HOLA\"\n",
        "print(texto_mayuscula)"
      ],
      "metadata": {
        "colab": {
          "base_uri": "https://localhost:8080/"
        },
        "id": "SITMZGwr4EVs",
        "outputId": "7dc0e105-8d88-4a67-fd65-3a8a871a268f"
      },
      "execution_count": null,
      "outputs": [
        {
          "output_type": "stream",
          "name": "stdout",
          "text": [
            "HOLA\n"
          ]
        }
      ]
    },
    {
      "cell_type": "code",
      "source": [
        "#Reemplazar texto (replace()):\n",
        "frase = \"Me gusta Python\"\n",
        "nueva_frase = frase.replace(\"Python\", \"JavaScript\")  # Resultado: \"Me gusta JavaScript\"\n",
        "print(nueva_frase)"
      ],
      "metadata": {
        "colab": {
          "base_uri": "https://localhost:8080/"
        },
        "id": "kGqmLE8E4pB0",
        "outputId": "b3556961-d64d-42a9-abb7-cd07d1db0fcd"
      },
      "execution_count": null,
      "outputs": [
        {
          "output_type": "stream",
          "name": "stdout",
          "text": [
            "Me gusta JavaScript\n"
          ]
        }
      ]
    },
    {
      "cell_type": "code",
      "source": [
        "#Buscar texto (find()):\n",
        "frase = \"Python es genial\"\n",
        "posicion = frase.find(\"genial\")  # Resultado: 10 (índice donde empieza la palabra \"genial\")\n",
        "print(posicion)"
      ],
      "metadata": {
        "colab": {
          "base_uri": "https://localhost:8080/"
        },
        "id": "sshy2ScM4xB8",
        "outputId": "2e5da2f1-2730-4258-b0af-efe6b3f85cc5"
      },
      "execution_count": null,
      "outputs": [
        {
          "output_type": "stream",
          "name": "stdout",
          "text": [
            "10\n"
          ]
        }
      ]
    },
    {
      "cell_type": "markdown",
      "source": [
        "# Estructuras de Control: Condicionales (if, else, elif)\n",
        "\n",
        "Las estructuras condicionales permiten a Python tomar decisiones en base a condiciones evaluadas como verdaderas o falsas. Estas estructuras permiten controlar el flujo de un programa para que ejecute diferentes bloques de código en función de ciertas condiciones."
      ],
      "metadata": {
        "id": "puqRpCSFAbMg"
      }
    },
    {
      "cell_type": "markdown",
      "source": [
        "## Importancia de la indentación en Python:\n",
        "\n",
        "Python utiliza la indentación para definir bloques de código. Es crucial que el código esté correctamente indentado para evitar errores."
      ],
      "metadata": {
        "id": "aj59yQInAszi"
      }
    },
    {
      "cell_type": "code",
      "source": [
        "# Ejemplo de indentación correcta\n",
        "if True:\n",
        "    print(\"Esto está correctamente indentado\")  # Resultado: 'Esto está correctamente indentado'\n",
        "\n",
        "# Ejemplo de error por mala indentación (descomenta para probar):\n",
        "#if True:\n",
        "#print(\"Esto dará un error de indentación\")"
      ],
      "metadata": {
        "colab": {
          "base_uri": "https://localhost:8080/"
        },
        "id": "gUbDqeuQAz7y",
        "outputId": "1009cc99-f8dd-49f8-ea51-94ec11f6c6b5"
      },
      "execution_count": null,
      "outputs": [
        {
          "output_type": "stream",
          "name": "stdout",
          "text": [
            "Esto está correctamente indentado\n"
          ]
        }
      ]
    },
    {
      "cell_type": "markdown",
      "source": [
        "##if:\n",
        "La sentencia if evalúa una condición. Si la condición es verdadera, el bloque de código bajo el if se ejecuta.\n",
        "\n"
      ],
      "metadata": {
        "id": "jf6XVQVwBB3i"
      }
    },
    {
      "cell_type": "code",
      "source": [
        "#Sintaxis:\n",
        "\n",
        "#if condicion:\n",
        "  #Código que se ejecuta si la condición es verdadera"
      ],
      "metadata": {
        "id": "6P-4BC_mBPRc"
      },
      "execution_count": null,
      "outputs": []
    },
    {
      "cell_type": "code",
      "source": [
        "numero = 10\n",
        "if numero > 5:\n",
        "    print('El número es mayor que 5')  # Resultado: 'El número es mayor que 5'\n"
      ],
      "metadata": {
        "colab": {
          "base_uri": "https://localhost:8080/"
        },
        "id": "GcwiwD8JBURd",
        "outputId": "dca5dcb7-e1ab-47b8-8190-38b275a9e610"
      },
      "execution_count": null,
      "outputs": [
        {
          "output_type": "stream",
          "name": "stdout",
          "text": [
            "El número es mayor que 5\n"
          ]
        }
      ]
    },
    {
      "cell_type": "markdown",
      "source": [
        "## elif:\n",
        "La sentencia elif (abreviatura de \"else if\") permite agregar condiciones adicionales si la primera condición en el if es falsa. Puedes tener tantos elif como necesites."
      ],
      "metadata": {
        "id": "hpSjCsr1BfvT"
      }
    },
    {
      "cell_type": "code",
      "source": [
        "#Sintaxis:\n",
        "\n",
        "#if condicion1:\n",
        "    # Código si condicion1 es verdadera\n",
        "#elif condicion2:\n",
        "    # Código si condicion2 es verdadera"
      ],
      "metadata": {
        "id": "rd9zSejBBowc"
      },
      "execution_count": null,
      "outputs": []
    },
    {
      "cell_type": "code",
      "source": [
        "numero = 10\n",
        "if numero > 15:\n",
        "    print('El número es mayor que 15')\n",
        "elif numero > 5:\n",
        "    print('El número es mayor que 5')  # Resultado: 'El número es mayor que 5'\n"
      ],
      "metadata": {
        "id": "SU6q2ny3BvjS"
      },
      "execution_count": null,
      "outputs": []
    },
    {
      "cell_type": "markdown",
      "source": [
        "## else:\n",
        "La sentencia else se utiliza cuando ninguna de las condiciones anteriores es verdadera. Es la \"opción por defecto\" y no lleva ninguna condición."
      ],
      "metadata": {
        "id": "46IOcDV9CGCy"
      }
    },
    {
      "cell_type": "code",
      "source": [
        "#Sintaxis:\n",
        "\n",
        "#if condicion1:\n",
        "    # Código si condicion1 es verdadera\n",
        "#elif condicion2:\n",
        "    # Código si condicion2 es verdadera\n",
        "#else:\n",
        "    # Código si ninguna de las condiciones es verdadera"
      ],
      "metadata": {
        "id": "CFGsQm96CJYw"
      },
      "execution_count": null,
      "outputs": []
    },
    {
      "cell_type": "code",
      "source": [
        "numero = 3\n",
        "if numero > 5:\n",
        "    print('El número es mayor que 5')\n",
        "else:\n",
        "    print('El número es menor o igual que 5')  # Resultado: 'El número es menor o igual que 5'\n"
      ],
      "metadata": {
        "id": "ICkxUtyLCfWd"
      },
      "execution_count": null,
      "outputs": []
    },
    {
      "cell_type": "markdown",
      "source": [
        "# Operadores Lógicos: Condiciones múltiples\n",
        "\n",
        "Puedes utilizar los operadores lógicos and, or, y not para combinar múltiples condiciones en una sentencia if."
      ],
      "metadata": {
        "id": "Kj9Z6jA2CswO"
      }
    },
    {
      "cell_type": "code",
      "source": [
        "edad = 20\n",
        "permiso = True\n",
        "\n",
        "if edad >= 18 and permiso:\n",
        "    print('Puedes ingresar')  # Resultado: 'Puedes ingresar'"
      ],
      "metadata": {
        "id": "twNwXuCICwrc"
      },
      "execution_count": null,
      "outputs": []
    },
    {
      "cell_type": "markdown",
      "source": [
        "# Condicionales Anidados\n",
        "\n",
        "Es posible utilizar condicionales dentro de otros condicionales para evaluar múltiples niveles de decisiones."
      ],
      "metadata": {
        "id": "Jinp4dUwC216"
      }
    },
    {
      "cell_type": "code",
      "source": [
        "edad = 16\n",
        "if edad >= 18:\n",
        "    print('Eres mayor de edad')\n",
        "else:\n",
        "    if edad >= 13:\n",
        "        print('Eres adolescente')  # Resultado: 'Eres adolescente'\n",
        "    else:\n",
        "        print('Eres niño')\n"
      ],
      "metadata": {
        "id": "qy2-9_72C-B7"
      },
      "execution_count": null,
      "outputs": []
    },
    {
      "cell_type": "markdown",
      "source": [
        "# Comparaciones con Cadenas\n",
        "Las cadenas también pueden compararse alfabéticamente. Python evalúa las cadenas en orden lexicográfico (alfabético)."
      ],
      "metadata": {
        "id": "4c1vrBqjDDkl"
      }
    },
    {
      "cell_type": "code",
      "source": [
        "nombre1 = 'Ana'\n",
        "nombre2 = 'Pedro'\n",
        "\n",
        "if nombre1 < nombre2:\n",
        "    print(f'{nombre1} viene antes que {nombre2}')  # Resultado: 'Ana viene antes que Pedro'\n"
      ],
      "metadata": {
        "colab": {
          "base_uri": "https://localhost:8080/"
        },
        "id": "hRHOOGY4DGbz",
        "outputId": "f5cbd6ed-912f-4b68-df44-fd4884d32d9a"
      },
      "execution_count": null,
      "outputs": [
        {
          "output_type": "stream",
          "name": "stdout",
          "text": [
            "Ana viene antes que Pedro\n"
          ]
        }
      ]
    },
    {
      "cell_type": "markdown",
      "source": [
        "#Operadores de Comparación Menos Comunes\n",
        "El operador in verifica si un elemento se encuentra dentro de una lista, cadena, o colección."
      ],
      "metadata": {
        "id": "H9gMGIpeDxZb"
      }
    },
    {
      "cell_type": "code",
      "source": [
        "fruta = 'manzana'\n",
        "if 'n' in fruta:\n",
        "    print('La letra \"n\" está en \"manzana\"')  # Resultado: 'La letra \"n\" está en \"manzana\"'\n"
      ],
      "metadata": {
        "colab": {
          "base_uri": "https://localhost:8080/"
        },
        "id": "oQ96c2zaDzWI",
        "outputId": "d8c90d73-452c-4abb-8e68-ea2f591d5ede"
      },
      "execution_count": null,
      "outputs": [
        {
          "output_type": "stream",
          "name": "stdout",
          "text": [
            "La letra \"n\" está en \"manzana\"\n"
          ]
        }
      ]
    },
    {
      "cell_type": "markdown",
      "source": [
        "#Condicionales Ternarios\n",
        "Los condicionales ternarios permiten escribir condiciones simples en una sola línea."
      ],
      "metadata": {
        "id": "mpE9haLRD58b"
      }
    },
    {
      "cell_type": "code",
      "source": [
        "edad = 18\n",
        "mensaje = 'Mayor de edad' if edad >= 18 else 'Menor de edad'\n",
        "print(mensaje)  # Resultado: 'Mayor de edad'\n"
      ],
      "metadata": {
        "id": "fKm57COlEB_i",
        "outputId": "2565b675-8538-42c3-8ad4-ba73d7d211e2",
        "colab": {
          "base_uri": "https://localhost:8080/"
        }
      },
      "execution_count": null,
      "outputs": [
        {
          "output_type": "stream",
          "name": "stdout",
          "text": [
            "Mayor de edad\n"
          ]
        }
      ]
    }
  ]
}