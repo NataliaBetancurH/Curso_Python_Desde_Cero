{
  "nbformat": 4,
  "nbformat_minor": 0,
  "metadata": {
    "kernelspec": {
      "display_name": "Python 3",
      "language": "python",
      "name": "python3"
    },
    "language_info": {
      "codemirror_mode": {
        "name": "ipython",
        "version": 3
      },
      "file_extension": ".py",
      "mimetype": "text/x-python",
      "name": "python",
      "nbconvert_exporter": "python",
      "pygments_lexer": "ipython3",
      "version": "3.6.10"
    },
    "colab": {
      "provenance": []
    }
  },
  "cells": [
    {
      "cell_type": "markdown",
      "source": [
        "Módulo 1: Introducción a Python\n",
        "\n",
        "**Autor:    Natalia Betancur Herrera**\n",
        "\n",
        "Objetivos de la clase:\n",
        "\n",
        "* Instalación y uso de Google Colab\n",
        "* Primeros pasos en Python: variables y tipos de datos\n",
        "* Operadores aritméticos y lógicos\n",
        "* Estructuras de control: condicionales (if, else, elif)\n"
      ],
      "metadata": {
        "id": "Sv4yjqJ-M3Zw"
      }
    },
    {
      "cell_type": "markdown",
      "metadata": {
        "id": "52SUbXml_VFl"
      },
      "source": [
        "# ¿Qué es una variable?\n",
        "\n",
        "Una variable en Python es un espacio en la memoria donde podemos almacenar datos. Las variables no necesitan ser declaradas con un tipo de dato específico, ya que Python es un lenguaje de tipado dinámico."
      ]
    },
    {
      "cell_type": "code",
      "source": [
        "#Sintaxis: nombre_variable = valor\n",
        "nombre_variable = 3"
      ],
      "metadata": {
        "id": "RyjkLUqYNvvE"
      },
      "execution_count": null,
      "outputs": []
    },
    {
      "cell_type": "code",
      "source": [
        "#linea de codigo\n",
        "x = 1"
      ],
      "metadata": {
        "id": "296Cf-i9A8h6"
      },
      "execution_count": null,
      "outputs": []
    },
    {
      "cell_type": "code",
      "metadata": {
        "id": "upk4joD7_VG2",
        "colab": {
          "base_uri": "https://localhost:8080/"
        },
        "outputId": "0bac9853-851a-4980-dcfe-ec606e85f2c5"
      },
      "source": [
        "#Ejemplos\n",
        "edad = 27\n",
        "nombre = \"Natalia Betancur Herrera\"\n",
        "altura = 1.65\n",
        "print(\"Altura:\",altura)\n",
        "print(\"nombre:\",nombre)\n",
        "print(\"EDAD:\",edad)"
      ],
      "execution_count": null,
      "outputs": [
        {
          "output_type": "stream",
          "name": "stdout",
          "text": [
            "Altura: 1.65\n",
            "nombre: Natalia Betancur Herrera\n",
            "EDAD: 27\n"
          ]
        }
      ]
    },
    {
      "cell_type": "markdown",
      "source": [
        "# Tipos de datos\n",
        "\n",
        "Los tipos de datos en Python definen el tipo de valor que una variable puede almacenar, lo que permite al lenguaje gestionar correctamente las operaciones que realizamos con dichos valores. A diferencia de otros lenguajes, en Python no es necesario declarar el tipo de una variable, ya que Python lo infiere automáticamente cuando asignamos un valor. A continuación, exploraremos los tipos de datos más comunes"
      ],
      "metadata": {
        "id": "G37zhQbZOOSg"
      }
    },
    {
      "cell_type": "markdown",
      "source": [
        "\n",
        "1.   Números enteros (int): Representan números sin decimales."
      ],
      "metadata": {
        "id": "RHmjBOcKPJ-4"
      }
    },
    {
      "cell_type": "code",
      "source": [
        "#Ejemplo de asignación de números enteros\n",
        "edad = 30 #esta es la variable edad\n",
        "x1 = 2 # esta es la variable x1"
      ],
      "metadata": {
        "id": "TSY-SjVrPJaQ"
      },
      "execution_count": null,
      "outputs": []
    },
    {
      "cell_type": "code",
      "source": [
        "#Función para conocer el tipo de variable\n",
        "type(edad)"
      ],
      "metadata": {
        "colab": {
          "base_uri": "https://localhost:8080/"
        },
        "id": "I0Q1VQIGPG3v",
        "outputId": "e122ff67-1906-4493-b4d4-1921be48ed8c"
      },
      "execution_count": null,
      "outputs": [
        {
          "output_type": "execute_result",
          "data": {
            "text/plain": [
              "int"
            ]
          },
          "metadata": {},
          "execution_count": 13
        }
      ]
    },
    {
      "cell_type": "markdown",
      "source": [
        "\n",
        "2.   Números de punto flotante (float): Representan números con decimales."
      ],
      "metadata": {
        "id": "c6vo9okpP0kG"
      }
    },
    {
      "cell_type": "code",
      "source": [
        "#Ejemplo de asignación de números punto flotante\n",
        "altura = 1.75\n",
        "x2 = 3.2"
      ],
      "metadata": {
        "id": "eZTk07m6P0kG"
      },
      "execution_count": 1,
      "outputs": []
    },
    {
      "cell_type": "code",
      "source": [
        "#Función para conocer el tipo de variable\n",
        "type(altura)"
      ],
      "metadata": {
        "colab": {
          "base_uri": "https://localhost:8080/"
        },
        "outputId": "6167ece9-18b3-4114-a838-36adf8cab44a",
        "id": "fp7-cLLyP0kH"
      },
      "execution_count": 2,
      "outputs": [
        {
          "output_type": "execute_result",
          "data": {
            "text/plain": [
              "float"
            ]
          },
          "metadata": {},
          "execution_count": 2
        }
      ]
    },
    {
      "cell_type": "markdown",
      "source": [
        "\n",
        "3.   Cadenas de texto (str): Representan secuencias de caracteres."
      ],
      "metadata": {
        "id": "x2-pKs2pQF0A"
      }
    },
    {
      "cell_type": "code",
      "source": [
        "#Ejemplo de asignación de cadenas de texto\n",
        "nombre = \"Natalia\"\n",
        "x3 = 'hola mundo'"
      ],
      "metadata": {
        "id": "8U2chNuKQF0B"
      },
      "execution_count": null,
      "outputs": []
    },
    {
      "cell_type": "code",
      "source": [
        "#Función para conocer el tipo de variable\n",
        "type(x3)"
      ],
      "metadata": {
        "colab": {
          "base_uri": "https://localhost:8080/"
        },
        "outputId": "0ff68818-bb90-47f8-b2b3-91c55e939a85",
        "id": "-Wzc_VqmQF0B"
      },
      "execution_count": null,
      "outputs": [
        {
          "output_type": "execute_result",
          "data": {
            "text/plain": [
              "str"
            ]
          },
          "metadata": {},
          "execution_count": 22
        }
      ]
    },
    {
      "cell_type": "markdown",
      "source": [
        "\n",
        "4.  Booleanos (bool): Representan valores lógicos: True o False."
      ],
      "metadata": {
        "id": "Pw_thAiDQnGM"
      }
    },
    {
      "cell_type": "code",
      "source": [
        "#Ejemplo de asignación de booleanos\n",
        "es_estudiante = True\n",
        "x4 = True"
      ],
      "metadata": {
        "id": "7Lkcc5dsQnGN"
      },
      "execution_count": null,
      "outputs": []
    },
    {
      "cell_type": "code",
      "source": [
        "#Función para conocer el tipo de variable\n",
        "type(x4)"
      ],
      "metadata": {
        "colab": {
          "base_uri": "https://localhost:8080/"
        },
        "outputId": "5ca662aa-5564-4090-8833-bf59a89aad9e",
        "id": "cq5nAGgkQnGN"
      },
      "execution_count": null,
      "outputs": [
        {
          "output_type": "execute_result",
          "data": {
            "text/plain": [
              "bool"
            ]
          },
          "metadata": {},
          "execution_count": 13
        }
      ]
    },
    {
      "cell_type": "markdown",
      "metadata": {
        "id": "V1zeMdcF_VHw"
      },
      "source": [
        "# Entrada y salida de datos\n",
        "\n",
        "La interacción con el usuario es fundamental para recibir información (entrada de datos) y proporcionar resultados (salida de datos). En Python, esto se maneja principalmente con dos funciones clave:\n",
        "\n",
        "* input() permite al usuario ingresar datos a través del teclado.\n",
        "* print() se utiliza para mostrar mensajes y resultados en la consola."
      ]
    },
    {
      "cell_type": "code",
      "metadata": {
        "id": "7UNKJxAM_VHx",
        "outputId": "3a59101d-74bf-4168-a872-e560820971ee",
        "colab": {
          "base_uri": "https://localhost:8080/"
        }
      },
      "source": [
        "#Entrada de datos\n",
        "x = input('Ingrese el dato: ')"
      ],
      "execution_count": null,
      "outputs": [
        {
          "name": "stdout",
          "output_type": "stream",
          "text": [
            "Ingrese el dato: 1\n"
          ]
        }
      ]
    },
    {
      "cell_type": "code",
      "metadata": {
        "id": "Hc1SWGMg_VHy",
        "outputId": "e03e8170-61ac-4c93-8397-5799460a8e54",
        "colab": {
          "base_uri": "https://localhost:8080/"
        }
      },
      "source": [
        "#Entrada de datos\n",
        "y = input('Ingrese el dato: ')"
      ],
      "execution_count": null,
      "outputs": [
        {
          "name": "stdout",
          "output_type": "stream",
          "text": [
            "Ingrese el dato: 1\n"
          ]
        }
      ]
    },
    {
      "cell_type": "code",
      "metadata": {
        "id": "hI4U_rPs_VH4",
        "outputId": "7bd175db-767e-476f-bace-2dccb8ad8c41",
        "colab": {
          "base_uri": "https://localhost:8080/"
        }
      },
      "source": [
        "#Salida de datos\n",
        "print('mi edad es:', edad,' mi nombre es:', nombre)"
      ],
      "execution_count": null,
      "outputs": [
        {
          "output_type": "stream",
          "name": "stdout",
          "text": [
            "mi edad es: 30  mi nombre es: Natalia\n"
          ]
        }
      ]
    },
    {
      "cell_type": "markdown",
      "metadata": {
        "id": "RHhAvSG-_VH5"
      },
      "source": [
        "# Operaciones aritméticas\n",
        "\n",
        "Las operaciones aritméticas permiten realizar cálculos matemáticos básicos como suma, resta, multiplicación, y división. En Python, las operaciones aritméticas pueden realizarse de varias maneras dependiendo de las necesidades del problema. Puedes utilizar operadores básicos, funciones predefinidas o librerías especializadas."
      ]
    },
    {
      "cell_type": "markdown",
      "source": [
        "1. Suma"
      ],
      "metadata": {
        "id": "OQJQi66MXOYB"
      }
    },
    {
      "cell_type": "code",
      "source": [
        "#Operador básico\n",
        "suma = 5 + 3  # Resultado: 8\n",
        "print(suma)"
      ],
      "metadata": {
        "colab": {
          "base_uri": "https://localhost:8080/"
        },
        "id": "SzNx5o37VCX-",
        "outputId": "b5a3cf18-8400-41eb-ce80-7fc5b45076ae"
      },
      "execution_count": null,
      "outputs": [
        {
          "output_type": "stream",
          "name": "stdout",
          "text": [
            "8\n"
          ]
        }
      ]
    },
    {
      "cell_type": "code",
      "source": [
        "#Función predefinida\n",
        "suma = sum([5, 3])  # Resultado: 8\n",
        "print(suma)"
      ],
      "metadata": {
        "colab": {
          "base_uri": "https://localhost:8080/"
        },
        "id": "eLEeeUT1VNOH",
        "outputId": "5cdf03ea-4310-40f2-8e99-3b11132d92b0"
      },
      "execution_count": null,
      "outputs": [
        {
          "output_type": "stream",
          "name": "stdout",
          "text": [
            "8\n"
          ]
        }
      ]
    },
    {
      "cell_type": "code",
      "source": [
        "#Librería\n",
        "import numpy as np\n",
        "suma = np.add(5, 3)  # Resultado: 8\n",
        "print(suma)"
      ],
      "metadata": {
        "id": "_Arw6qh5VWiE",
        "colab": {
          "base_uri": "https://localhost:8080/"
        },
        "outputId": "a384149b-0772-4155-df9c-88363bc3f249"
      },
      "execution_count": null,
      "outputs": [
        {
          "output_type": "stream",
          "name": "stdout",
          "text": [
            "8\n"
          ]
        }
      ]
    },
    {
      "cell_type": "markdown",
      "source": [
        "2. Resta"
      ],
      "metadata": {
        "id": "JJkd_s3rXU5O"
      }
    },
    {
      "cell_type": "code",
      "source": [
        "#Operador básico\n",
        "resta = 10 - 2  # Resultado: 8\n",
        "print(resta)"
      ],
      "metadata": {
        "colab": {
          "base_uri": "https://localhost:8080/"
        },
        "id": "rLSgw1B7Y_mZ",
        "outputId": "88392e1c-8db1-4e59-dca7-4f25eed2a8e0"
      },
      "execution_count": null,
      "outputs": [
        {
          "output_type": "stream",
          "name": "stdout",
          "text": [
            "8\n"
          ]
        }
      ]
    },
    {
      "cell_type": "code",
      "source": [
        "#Función predefinida\n",
        "import operator\n",
        "resta = operator.sub(10, 2)  # Resultado: 8\n",
        "print(resta)"
      ],
      "metadata": {
        "colab": {
          "base_uri": "https://localhost:8080/"
        },
        "outputId": "e8577e46-ea44-4aad-8031-c38e0909d530",
        "id": "Seq_L6NIXU5O"
      },
      "execution_count": null,
      "outputs": [
        {
          "output_type": "stream",
          "name": "stdout",
          "text": [
            "8\n"
          ]
        }
      ]
    },
    {
      "cell_type": "code",
      "source": [
        "#Librería\n",
        "resta = np.subtract(10, 2)  # Resultado: 8\n",
        "print(resta)"
      ],
      "metadata": {
        "colab": {
          "base_uri": "https://localhost:8080/"
        },
        "id": "stYQsFq6XU5O",
        "outputId": "8c2d22b5-ee15-4326-fd61-97f425535df3"
      },
      "execution_count": null,
      "outputs": [
        {
          "output_type": "stream",
          "name": "stdout",
          "text": [
            "8\n"
          ]
        }
      ]
    },
    {
      "cell_type": "markdown",
      "source": [
        "3. Multiplicación"
      ],
      "metadata": {
        "id": "ngLNbYs7ZE5E"
      }
    },
    {
      "cell_type": "code",
      "source": [
        "#Operador básico\n",
        "multiplicacion = 4 * 7  # Resultado: 28\n",
        "print(multiplicacion)"
      ],
      "metadata": {
        "colab": {
          "base_uri": "https://localhost:8080/"
        },
        "outputId": "8eb52acc-66a4-4f15-85a7-fbc1bba9cd36",
        "id": "qJGFV8WLZE5E"
      },
      "execution_count": null,
      "outputs": [
        {
          "output_type": "stream",
          "name": "stdout",
          "text": [
            "28\n"
          ]
        }
      ]
    },
    {
      "cell_type": "code",
      "source": [
        "#Función predefinida\n",
        "import operator\n",
        "multiplicacion = operator.mul(4, 7)  # Resultado: 28\n",
        "print(multiplicacion)"
      ],
      "metadata": {
        "colab": {
          "base_uri": "https://localhost:8080/"
        },
        "outputId": "d03e96bd-576a-4a47-9b81-f22d3243760e",
        "id": "6-WokM2KZE5E"
      },
      "execution_count": null,
      "outputs": [
        {
          "output_type": "stream",
          "name": "stdout",
          "text": [
            "28\n"
          ]
        }
      ]
    },
    {
      "cell_type": "code",
      "source": [
        "#Librería\n",
        "multiplicacion = np.multiply(4, 7)  # Resultado: 28\n",
        "print(multiplicacion)"
      ],
      "metadata": {
        "colab": {
          "base_uri": "https://localhost:8080/"
        },
        "outputId": "2dcc7df5-abc2-47b9-8f6d-d078578a781b",
        "id": "IY400frLZE5F"
      },
      "execution_count": null,
      "outputs": [
        {
          "output_type": "stream",
          "name": "stdout",
          "text": [
            "28\n"
          ]
        }
      ]
    },
    {
      "cell_type": "markdown",
      "source": [
        "4. División"
      ],
      "metadata": {
        "id": "wXk6AKG7Z7ax"
      }
    },
    {
      "cell_type": "code",
      "source": [
        "#Operador básico\n",
        "division = 16 / 4  # Resultado: 4.0\n",
        "print(division)"
      ],
      "metadata": {
        "colab": {
          "base_uri": "https://localhost:8080/"
        },
        "outputId": "30ff091e-08a9-4ee3-fc93-6c0ead16b0d9",
        "id": "OD3by7gTZ7ay"
      },
      "execution_count": null,
      "outputs": [
        {
          "output_type": "stream",
          "name": "stdout",
          "text": [
            "4.0\n"
          ]
        }
      ]
    },
    {
      "cell_type": "code",
      "source": [
        "#Función predefinida\n",
        "import operator\n",
        "division = operator.truediv(16, 4)  # Resultado: 4.0\n",
        "print(division)"
      ],
      "metadata": {
        "colab": {
          "base_uri": "https://localhost:8080/"
        },
        "outputId": "0c89e40c-1c5c-44f8-977f-8e105109853c",
        "id": "lMbCeryXZ7ay"
      },
      "execution_count": null,
      "outputs": [
        {
          "output_type": "stream",
          "name": "stdout",
          "text": [
            "4.0\n"
          ]
        }
      ]
    },
    {
      "cell_type": "code",
      "source": [
        "#Librería\n",
        "division = np.divide(16, 4)  # Resultado: 4.0\n",
        "print(division)"
      ],
      "metadata": {
        "colab": {
          "base_uri": "https://localhost:8080/"
        },
        "outputId": "6390d06b-536f-4d3a-f1cf-b9f060f98c92",
        "id": "qS-IJfwcZ7ay"
      },
      "execution_count": null,
      "outputs": [
        {
          "output_type": "stream",
          "name": "stdout",
          "text": [
            "4.0\n"
          ]
        }
      ]
    },
    {
      "cell_type": "markdown",
      "source": [
        "Nota: Es importante diferenciar el uso de / para división y de // para división entera"
      ],
      "metadata": {
        "id": "z1pPQqUYac16"
      }
    },
    {
      "cell_type": "code",
      "source": [
        "#Operador básico división entera\n",
        "division = 6//5 # Resultado: 1\n",
        "print(division)"
      ],
      "metadata": {
        "colab": {
          "base_uri": "https://localhost:8080/"
        },
        "id": "1FDjfI45akdR",
        "outputId": "2af8c893-6bbe-437e-f75d-6a8e5116a545"
      },
      "execution_count": null,
      "outputs": [
        {
          "output_type": "stream",
          "name": "stdout",
          "text": [
            "1\n"
          ]
        }
      ]
    },
    {
      "cell_type": "markdown",
      "source": [
        "5. Exponente"
      ],
      "metadata": {
        "id": "oX2iTScLbmeV"
      }
    },
    {
      "cell_type": "code",
      "source": [
        "#Operador básico\n",
        "exponente = 2 ** 3  # Resultado: 8\n",
        "print(exponente)"
      ],
      "metadata": {
        "colab": {
          "base_uri": "https://localhost:8080/"
        },
        "outputId": "8b8c8c3b-4e49-4196-be88-17a9b0fce7f6",
        "id": "GQN4_uv_bmeV"
      },
      "execution_count": null,
      "outputs": [
        {
          "output_type": "stream",
          "name": "stdout",
          "text": [
            "8\n"
          ]
        }
      ]
    },
    {
      "cell_type": "code",
      "source": [
        "#Función predefinida\n",
        "exponente = pow(2, 3)  # Resultado: 8\n",
        "print(exponente)"
      ],
      "metadata": {
        "colab": {
          "base_uri": "https://localhost:8080/"
        },
        "outputId": "ec1bb02a-fd75-4d46-e86e-023b39c2c8d9",
        "id": "Z247iUYFbmeW"
      },
      "execution_count": null,
      "outputs": [
        {
          "output_type": "stream",
          "name": "stdout",
          "text": [
            "8\n"
          ]
        }
      ]
    },
    {
      "cell_type": "code",
      "source": [
        "#Librería\n",
        "import numpy as np\n",
        "exponente = np.power(2, 3)  # Resultado: 8\n",
        "print(exponente)"
      ],
      "metadata": {
        "colab": {
          "base_uri": "https://localhost:8080/"
        },
        "outputId": "109af5e7-3c60-4c8e-a8eb-409a20f19258",
        "id": "zblwzvQZbmeW"
      },
      "execution_count": null,
      "outputs": [
        {
          "output_type": "stream",
          "name": "stdout",
          "text": [
            "8\n"
          ]
        }
      ]
    },
    {
      "cell_type": "markdown",
      "source": [
        "6. Valor Absoluto"
      ],
      "metadata": {
        "id": "D0-DkAgNb6IB"
      }
    },
    {
      "cell_type": "code",
      "source": [
        "#Operador básico\n",
        "valor_absoluto = abs(-15)  # Resultado: 5\n",
        "print(valor_absoluto)"
      ],
      "metadata": {
        "colab": {
          "base_uri": "https://localhost:8080/"
        },
        "outputId": "9d157837-d24a-418b-83a8-2926113e7a3f",
        "id": "U7HGfJaCb6IB"
      },
      "execution_count": null,
      "outputs": [
        {
          "output_type": "stream",
          "name": "stdout",
          "text": [
            "15\n"
          ]
        }
      ]
    },
    {
      "cell_type": "code",
      "source": [
        "#Función predefinida\n",
        "valor_absoluto = operator.abs(-5)  # Resultado: 5\n",
        "print(valor_absoluto)"
      ],
      "metadata": {
        "colab": {
          "base_uri": "https://localhost:8080/"
        },
        "outputId": "7d2a2542-0124-4d62-e1a9-57909d43f064",
        "id": "doc-yBSYb6IB"
      },
      "execution_count": null,
      "outputs": [
        {
          "output_type": "stream",
          "name": "stdout",
          "text": [
            "5\n"
          ]
        }
      ]
    },
    {
      "cell_type": "code",
      "source": [
        "#Librería\n",
        "valor_absoluto = np.abs(-5)  # Resultado: 5\n",
        "print(valor_absoluto)"
      ],
      "metadata": {
        "colab": {
          "base_uri": "https://localhost:8080/"
        },
        "outputId": "ace7ae23-8237-47f3-e5c8-bc755730b102",
        "id": "2SsqrWlub6IC"
      },
      "execution_count": null,
      "outputs": [
        {
          "output_type": "stream",
          "name": "stdout",
          "text": [
            "5\n"
          ]
        }
      ]
    },
    {
      "cell_type": "markdown",
      "metadata": {
        "id": "zQ_r6I-u_VH7"
      },
      "source": [
        "# Operadores relacionales\n",
        "\n",
        "Las operaciones relacionales permiten comparar valores y determinar si una condición es verdadera o falsa. En Python, estas comparaciones se realizan utilizando operadores relacionales, que devuelven un valor booleano (True o False).\n",
        "\n",
        "Principales Operadores Relacionales:"
      ]
    },
    {
      "cell_type": "markdown",
      "source": [
        "1. Igualdad (==): Comprueba si dos valores son iguales."
      ],
      "metadata": {
        "id": "3r_EgquWrPiy"
      }
    },
    {
      "cell_type": "code",
      "source": [
        "es_igual = 'Hola ' == 'Hola '  # Resultado: True\n",
        "print(es_igual)"
      ],
      "metadata": {
        "colab": {
          "base_uri": "https://localhost:8080/"
        },
        "id": "4DxTrHaRq7Oh",
        "outputId": "f344a4ba-f481-4b69-84bc-1ff4f6304454"
      },
      "execution_count": null,
      "outputs": [
        {
          "output_type": "stream",
          "name": "stdout",
          "text": [
            "True\n"
          ]
        }
      ]
    },
    {
      "cell_type": "markdown",
      "source": [
        "2. Desigualdad (!=): Comprueba si dos valores son diferentes."
      ],
      "metadata": {
        "id": "Mm6dS3sVrWDS"
      }
    },
    {
      "cell_type": "code",
      "source": [
        "es_diferente = 5 != 3  # Resultado: True\n",
        "print(es_diferente)"
      ],
      "metadata": {
        "colab": {
          "base_uri": "https://localhost:8080/"
        },
        "id": "MUzhdr7OrZgR",
        "outputId": "8a891c83-bdb3-4bf6-849b-0b51b59739c8"
      },
      "execution_count": null,
      "outputs": [
        {
          "output_type": "stream",
          "name": "stdout",
          "text": [
            "True\n"
          ]
        }
      ]
    },
    {
      "cell_type": "markdown",
      "source": [
        "3. Mayor que (>): Comprueba si un valor es mayor que otro."
      ],
      "metadata": {
        "id": "klozBJMlrhbx"
      }
    },
    {
      "cell_type": "code",
      "source": [
        "mayor_que = 5 > 5  # Resultado: True\n",
        "print(mayor_que)"
      ],
      "metadata": {
        "colab": {
          "base_uri": "https://localhost:8080/"
        },
        "id": "VBwjcCM7refI",
        "outputId": "d34a1af9-e846-4072-a9f0-21bcfe3e7801"
      },
      "execution_count": null,
      "outputs": [
        {
          "output_type": "stream",
          "name": "stdout",
          "text": [
            "False\n"
          ]
        }
      ]
    },
    {
      "cell_type": "markdown",
      "source": [
        "4. Menor que (<): Comprueba si un valor es menor que otro."
      ],
      "metadata": {
        "id": "K7gUfpTIr2Qi"
      }
    },
    {
      "cell_type": "code",
      "source": [
        "menor_que = 3 < 7  # Resultado: True\n",
        "print(menor_que)"
      ],
      "metadata": {
        "colab": {
          "base_uri": "https://localhost:8080/"
        },
        "id": "0qVwQQJ6r1xI",
        "outputId": "bfb47756-9a03-43e9-b87f-649a66a61068"
      },
      "execution_count": null,
      "outputs": [
        {
          "output_type": "stream",
          "name": "stdout",
          "text": [
            "True\n"
          ]
        }
      ]
    },
    {
      "cell_type": "markdown",
      "source": [
        "5. Mayor o igual que (>=): Comprueba si un valor es mayor o igual que otro."
      ],
      "metadata": {
        "id": "jr54z6pQr8DY"
      }
    },
    {
      "cell_type": "code",
      "source": [
        "mayor_o_igual = 10 >= 10  # Resultado: True\n",
        "print(mayor_o_igual)"
      ],
      "metadata": {
        "colab": {
          "base_uri": "https://localhost:8080/"
        },
        "id": "m_TWm5ZXr_xY",
        "outputId": "a9ad8d6d-fafa-4755-a7c0-13005a94e9b7"
      },
      "execution_count": null,
      "outputs": [
        {
          "output_type": "stream",
          "name": "stdout",
          "text": [
            "True\n"
          ]
        }
      ]
    },
    {
      "cell_type": "markdown",
      "source": [
        "6. Menor o igual que (<=): Comprueba si un valor es menor o igual que otro."
      ],
      "metadata": {
        "id": "yb1QHjLesUeP"
      }
    },
    {
      "cell_type": "code",
      "source": [
        "menor_o_igual = 4 <= 4  # Resultado: True\n",
        "print(menor_o_igual)"
      ],
      "metadata": {
        "colab": {
          "base_uri": "https://localhost:8080/"
        },
        "id": "Uwis2tA3sWF_",
        "outputId": "93c37271-44ea-4bff-9b2d-5cf9b62daf4b"
      },
      "execution_count": null,
      "outputs": [
        {
          "output_type": "stream",
          "name": "stdout",
          "text": [
            "True\n"
          ]
        }
      ]
    },
    {
      "cell_type": "markdown",
      "metadata": {
        "id": "rSrL6xHi_VIA"
      },
      "source": [
        "# Modulo Math\n",
        "\n",
        "El módulo math es una biblioteca estándar en Python que proporciona acceso a funciones matemáticas avanzadas y constantes. Este módulo extiende las capacidades aritméticas básicas del lenguaje, permitiendo realizar cálculos más complejos como operaciones trigonométricas, exponenciales, logarítmicas, y manipulación de números en diferentes bases.\n",
        "\n",
        "¿Qué ofrece el módulo math?\n",
        "* Funciones matemáticas estándar como raíces cuadradas, logaritmos y exponenciales.\n",
        "* Funciones trigonométricas como seno, coseno y tangente.\n",
        "* Constantes matemáticas como pi y e."
      ]
    },
    {
      "cell_type": "code",
      "metadata": {
        "id": "T2nlkwcA_VIA",
        "colab": {
          "base_uri": "https://localhost:8080/"
        },
        "outputId": "b30d24c7-9292-43df-8509-a9582c630631"
      },
      "source": [
        "#Raíz Cuadrada\n",
        "import math\n",
        "\n",
        "raiz_cuadrada_16 = math.sqrt(16)  # Resultado: 4.0\n",
        "logaritmo_10 = math.log(10)  # Resultado: 2.302585092994046\n",
        "print('Raiz cuadrada de 16: ', raiz_cuadrada_16)\n",
        "print('logaritmo natural de 10 : ', logaritmo_10 )"
      ],
      "execution_count": null,
      "outputs": [
        {
          "output_type": "stream",
          "name": "stdout",
          "text": [
            "Raiz cuadrada de 16:  4.0\n",
            "logaritmo natural de 10 :  2.302585092994046\n"
          ]
        }
      ]
    },
    {
      "cell_type": "code",
      "metadata": {
        "id": "QS_NUvde_VIA",
        "outputId": "384f829b-77a8-4919-a570-46b4be919fdc",
        "colab": {
          "base_uri": "https://localhost:8080/"
        }
      },
      "source": [
        "#Funciones Trigonométricas\n",
        "seno_pi_2 = math.sin(math.pi/2)  # Resultado: 1.0\n",
        "coseno_0 = math.cos(0)  # Resultado: 1.0\n",
        "tangente_pi_4 = math.tan(math.pi/4)  # Resultado: 1.0\n",
        "print('Seno de pi medios: ', seno_pi_2)\n",
        "print('Coseno de cero: ', coseno_0)\n",
        "print('Tangente de pi cuartos: ', tangente_pi_4)"
      ],
      "execution_count": null,
      "outputs": [
        {
          "output_type": "stream",
          "name": "stdout",
          "text": [
            "Seno de pi medios:  1.0\n",
            "Coseno de cero:  1.0\n",
            "Tangente de pi cuartos:  0.9999999999999999\n"
          ]
        }
      ]
    },
    {
      "cell_type": "code",
      "metadata": {
        "id": "0Eh06Pwh_VID",
        "outputId": "4fae3b4f-784b-424a-8c65-9d3b124247b1",
        "colab": {
          "base_uri": "https://localhost:8080/"
        }
      },
      "source": [
        "#Constantes Matemáticas\n",
        "print('Valor de Pi', math.pi)  # Resultado: 3.141592653589793\n",
        "area_circulo = math.pi * (5 ** 2)  # Área de un círculo con radio 5\n",
        "print('Area del circulo con radio 5', math.pi)  # Resultado: 3.141592653589793"
      ],
      "execution_count": null,
      "outputs": [
        {
          "output_type": "stream",
          "name": "stdout",
          "text": [
            "Valor de Pi 3.141592653589793\n",
            "Area del circulo con radio 5 3.141592653589793\n"
          ]
        }
      ]
    },
    {
      "cell_type": "markdown",
      "metadata": {
        "id": "YDk65Ln-_VIJ"
      },
      "source": [
        "# Operaciones con cadenas de texto\n",
        "\n",
        "Las cadenas de texto (o strings) son secuencias de caracteres y uno de los tipos de datos más utilizados en Python, el cual, ofrece una variedad de formas para realizar operaciones con cadenas de texto, incluyendo concatenación, repetición, slicing (corte), y muchas funciones integradas que facilitan la manipulación de estas.\n",
        "\n",
        "Operaciones básicas con cadenas de texto:"
      ]
    },
    {
      "cell_type": "code",
      "source": [
        "# Comillas simples\n",
        "cadena1 = 'Texto entre comillas simples'\n",
        "print ('Cadena 1 (comillas simples): ', cadena1)\n",
        "\n",
        "\n",
        "# Comillas dobles\n",
        "cadena2 = \"Texto entre comillas dobles\"\n",
        "print ('Cadena 2 (comillas dobles): ', cadena2)\n",
        "\n",
        "\n",
        "# Cadena con codigo escapes\n",
        "cadena3 = 'Texto entre \\n\\tcomillas simples'\n",
        "print ('Cadena 3 (con escape): ', cadena3)\n",
        "\n",
        "\n",
        "\n",
        "# Cadena multilinea\n",
        "cadena4 = \"\"\"Texto linea 1\n",
        "linea 2\n",
        "linea 3\n",
        "linea 4\n",
        ".\n",
        ".\n",
        ".\n",
        ".\n",
        ".\n",
        "linea N\n",
        "\"\"\"\n",
        "print ('Cadena 4 (multilinea): ', cadena4)"
      ],
      "metadata": {
        "colab": {
          "base_uri": "https://localhost:8080/"
        },
        "id": "KVt4oatd54Ea",
        "outputId": "9f72f518-b834-4bc5-d002-b01065d2ead4"
      },
      "execution_count": null,
      "outputs": [
        {
          "output_type": "stream",
          "name": "stdout",
          "text": [
            "Cadena 1 (comillas simples):  Texto entre comillas simples\n",
            "Cadena 2 (comillas dobles):  Texto entre comillas dobles\n",
            "Cadena 3 (con escape):  Texto entre \n",
            "\tcomillas simples\n",
            "Cadena 4 (multilinea):  Texto linea 1\n",
            "linea 2\n",
            "linea 3\n",
            "linea 4\n",
            ".\n",
            ".\n",
            ".\n",
            ".\n",
            ".\n",
            "linea N\n",
            "\n"
          ]
        }
      ]
    },
    {
      "cell_type": "markdown",
      "source": [
        "1. Concatenación: Combinar dos o más cadenas de texto en una sola."
      ],
      "metadata": {
        "id": "uNPv3mckwClo"
      }
    },
    {
      "cell_type": "code",
      "source": [
        "cadena1 = \"Hola\"\n",
        "cadena2 = \"Mundo\"\n",
        "resultado = cadena1 + \" \" + cadena2  # Resultado: \"Hola Mundo\"\n",
        "print(resultado)"
      ],
      "metadata": {
        "colab": {
          "base_uri": "https://localhost:8080/"
        },
        "id": "Cim5lSFVwGBQ",
        "outputId": "aba4eda7-71b5-4fb7-d5d2-7d8127360aec"
      },
      "execution_count": null,
      "outputs": [
        {
          "output_type": "stream",
          "name": "stdout",
          "text": [
            "Hola Mundo\n"
          ]
        }
      ]
    },
    {
      "cell_type": "code",
      "metadata": {
        "id": "WvvT4Mbs_VIK",
        "outputId": "f2e85b41-c3de-4380-f39e-f2556814aa36",
        "colab": {
          "base_uri": "https://localhost:8080/",
          "height": 35
        }
      },
      "source": [
        "\"Primera \"+\"clase \"+\"de \"+ \"programacion\""
      ],
      "execution_count": null,
      "outputs": [
        {
          "output_type": "execute_result",
          "data": {
            "text/plain": [
              "'Primera clase de programacion'"
            ],
            "application/vnd.google.colaboratory.intrinsic+json": {
              "type": "string"
            }
          },
          "metadata": {},
          "execution_count": 23
        }
      ]
    },
    {
      "cell_type": "code",
      "source": [
        "3+2"
      ],
      "metadata": {
        "colab": {
          "base_uri": "https://localhost:8080/"
        },
        "id": "GbXPbUsJ4DyW",
        "outputId": "a42c3c5d-fe8d-498d-8b50-742630f4450d"
      },
      "execution_count": null,
      "outputs": [
        {
          "output_type": "execute_result",
          "data": {
            "text/plain": [
              "5"
            ]
          },
          "metadata": {},
          "execution_count": 50
        }
      ]
    },
    {
      "cell_type": "markdown",
      "source": [
        "2. Repetición: Repetir una cadena de texto varias veces."
      ],
      "metadata": {
        "id": "U1I2FaMPwb9w"
      }
    },
    {
      "cell_type": "code",
      "source": [
        "saludo = \"Hola! \"\n",
        "repeticion = saludo * 3  # Resultado: \"Hola! Hola! Hola! \"\n",
        "print(repeticion)"
      ],
      "metadata": {
        "colab": {
          "base_uri": "https://localhost:8080/"
        },
        "id": "bFtcnFVewgbZ",
        "outputId": "1bdc882c-0a21-4258-c053-825c865a4a5b"
      },
      "execution_count": null,
      "outputs": [
        {
          "output_type": "stream",
          "name": "stdout",
          "text": [
            "Hola! Hola! Hola! \n"
          ]
        }
      ]
    },
    {
      "cell_type": "markdown",
      "source": [
        "3. Corte: Extraer una parte de una cadena de texto."
      ],
      "metadata": {
        "id": "UzJeZ4pwwq4Y"
      }
    },
    {
      "cell_type": "code",
      "source": [
        "mensaje = \"Python es increíble\"\n",
        "parte = mensaje[0:13]  # Resultado: \"Python\"\n",
        "print(parte)"
      ],
      "metadata": {
        "colab": {
          "base_uri": "https://localhost:8080/"
        },
        "id": "9PA8uJW3wszw",
        "outputId": "4d4dffdc-e21d-49c6-c483-50c8ecad0765"
      },
      "execution_count": null,
      "outputs": [
        {
          "output_type": "stream",
          "name": "stdout",
          "text": [
            "Python es inc\n"
          ]
        }
      ]
    },
    {
      "cell_type": "markdown",
      "source": [
        "4. Longitud de una cadena: Obtener el número de caracteres en una cadena usando len()."
      ],
      "metadata": {
        "id": "m1PjdREcwzSI"
      }
    },
    {
      "cell_type": "code",
      "metadata": {
        "id": "O-u0speF_VIM",
        "outputId": "14846b75-6432-4a39-c266-9a652e34c90f",
        "colab": {
          "base_uri": "https://localhost:8080/"
        }
      },
      "source": [
        "longitud = len(\"Python\")  # Resultado: 6\n",
        "print(longitud)"
      ],
      "execution_count": null,
      "outputs": [
        {
          "output_type": "stream",
          "name": "stdout",
          "text": [
            "6\n"
          ]
        }
      ]
    },
    {
      "cell_type": "markdown",
      "source": [
        "5. Métodos de cadena: Python proporciona muchos métodos útiles para trabajar con cadenas de texto. Aquí hay algunos ejemplos:"
      ],
      "metadata": {
        "id": "xyRUu3iTxA6g"
      }
    },
    {
      "cell_type": "code",
      "source": [
        "#Convertir a minúsculas (lower()):\n",
        "texto = \"HOLA\"\n",
        "texto_minuscula = texto.lower()  # Resultado: \"hola\"\n",
        "print(texto_minuscula)"
      ],
      "metadata": {
        "colab": {
          "base_uri": "https://localhost:8080/"
        },
        "id": "F93nYg9-xATA",
        "outputId": "40dafad1-0c75-4dbb-cb57-9aafa9a2ba5e"
      },
      "execution_count": null,
      "outputs": [
        {
          "output_type": "stream",
          "name": "stdout",
          "text": [
            "hola\n"
          ]
        }
      ]
    },
    {
      "cell_type": "code",
      "source": [
        "#Convertir a mayúsculas (upper()):\n",
        "texto = \"hola\"\n",
        "texto_mayuscula = texto.upper()  # Resultado: \"HOLA\"\n",
        "print(texto_mayuscula)"
      ],
      "metadata": {
        "colab": {
          "base_uri": "https://localhost:8080/"
        },
        "id": "SITMZGwr4EVs",
        "outputId": "556d73f0-40e6-4b66-b018-12d9edfd3484"
      },
      "execution_count": null,
      "outputs": [
        {
          "output_type": "stream",
          "name": "stdout",
          "text": [
            "HOLA\n"
          ]
        }
      ]
    },
    {
      "cell_type": "code",
      "source": [
        "#Reemplazar texto (replace()):\n",
        "frase = \"Me gusta Python\"\n",
        "nueva_frase = frase.replace(\"Python\", \"JavaScript\")  # Resultado: \"Me gusta JavaScript\"\n",
        "print(nueva_frase)"
      ],
      "metadata": {
        "colab": {
          "base_uri": "https://localhost:8080/"
        },
        "id": "kGqmLE8E4pB0",
        "outputId": "667fe914-71eb-4989-a3db-6470f285a8b1"
      },
      "execution_count": null,
      "outputs": [
        {
          "output_type": "stream",
          "name": "stdout",
          "text": [
            "Me gusta JavaScript\n"
          ]
        }
      ]
    },
    {
      "cell_type": "code",
      "source": [
        "#Buscar texto (find()):\n",
        "frase = \"Python es genial\"\n",
        "posicion = frase.find(\"genial\")  # Resultado: 10 (índice donde empieza la palabra \"genial\")\n",
        "print(posicion)"
      ],
      "metadata": {
        "colab": {
          "base_uri": "https://localhost:8080/"
        },
        "id": "sshy2ScM4xB8",
        "outputId": "2e5da2f1-2730-4258-b0af-efe6b3f85cc5"
      },
      "execution_count": null,
      "outputs": [
        {
          "output_type": "stream",
          "name": "stdout",
          "text": [
            "10\n"
          ]
        }
      ]
    },
    {
      "cell_type": "markdown",
      "source": [
        "# Estructuras de Control: Condicionales (if, else, elif)\n",
        "\n",
        "Las estructuras condicionales permiten a Python tomar decisiones en base a condiciones evaluadas como verdaderas o falsas. Estas estructuras permiten controlar el flujo de un programa para que ejecute diferentes bloques de código en función de ciertas condiciones."
      ],
      "metadata": {
        "id": "puqRpCSFAbMg"
      }
    },
    {
      "cell_type": "markdown",
      "source": [
        "## Importancia de la indentación en Python:\n",
        "\n",
        "Python utiliza la indentación para definir bloques de código. Es crucial que el código esté correctamente indentado para evitar errores."
      ],
      "metadata": {
        "id": "aj59yQInAszi"
      }
    },
    {
      "cell_type": "code",
      "source": [
        "# Ejemplo de indentación correcta\n",
        "if True:\n",
        "  print(\"Esto está correctamente indentado\")  # Resultado: 'Esto está correctamente indentado'\n",
        "\n",
        "# Ejemplo de error por mala indentación (descomenta para probar):\n",
        "#if True:\n",
        "#print(\"Esto dará un error de indentación\")"
      ],
      "metadata": {
        "colab": {
          "base_uri": "https://localhost:8080/"
        },
        "id": "gUbDqeuQAz7y",
        "outputId": "2171b327-3895-482b-b16f-436fee9a7a1a"
      },
      "execution_count": null,
      "outputs": [
        {
          "output_type": "stream",
          "name": "stdout",
          "text": [
            "Esto está correctamente indentado\n"
          ]
        }
      ]
    },
    {
      "cell_type": "markdown",
      "source": [
        "##if:\n",
        "La sentencia if evalúa una condición. Si la condición es verdadera, el bloque de código bajo el if se ejecuta.\n",
        "\n"
      ],
      "metadata": {
        "id": "jf6XVQVwBB3i"
      }
    },
    {
      "cell_type": "code",
      "source": [
        "#Sintaxis:\n",
        "\n",
        "#if condicion:\n",
        "  #Código que se ejecuta si la condición es verdadera"
      ],
      "metadata": {
        "id": "6P-4BC_mBPRc"
      },
      "execution_count": null,
      "outputs": []
    },
    {
      "cell_type": "code",
      "source": [
        "numero = 12\n",
        "if numero > 5:\n",
        "    print('El número es mayor que 5')  # Resultado: 'El número es mayor que 5'\n"
      ],
      "metadata": {
        "colab": {
          "base_uri": "https://localhost:8080/"
        },
        "id": "GcwiwD8JBURd",
        "outputId": "99cdc685-4ab4-40a1-e2ac-e2f603a731a5"
      },
      "execution_count": null,
      "outputs": [
        {
          "output_type": "stream",
          "name": "stdout",
          "text": [
            "El número es mayor que 5\n"
          ]
        }
      ]
    },
    {
      "cell_type": "markdown",
      "source": [
        "## elif:\n",
        "La sentencia elif (abreviatura de \"else if\") permite agregar condiciones adicionales si la primera condición en el if es falsa. Puedes tener tantos elif como necesites."
      ],
      "metadata": {
        "id": "hpSjCsr1BfvT"
      }
    },
    {
      "cell_type": "code",
      "source": [
        "#Sintaxis:\n",
        "\n",
        "#if condicion1:\n",
        "    # Código si condicion1 es verdadera\n",
        "#elif condicion2:\n",
        "    # Código si condicion2 es verdadera"
      ],
      "metadata": {
        "id": "rd9zSejBBowc"
      },
      "execution_count": null,
      "outputs": []
    },
    {
      "cell_type": "code",
      "source": [
        "numero = 10\n",
        "if numero > 15:\n",
        "    print('El número es mayor que 15')\n",
        "elif numero > 5:\n",
        "    print('El número es mayor que 5')  # Resultado: 'El número es mayor que 5'\n"
      ],
      "metadata": {
        "id": "SU6q2ny3BvjS"
      },
      "execution_count": null,
      "outputs": []
    },
    {
      "cell_type": "markdown",
      "source": [
        "## else:\n",
        "La sentencia else se utiliza cuando ninguna de las condiciones anteriores es verdadera. Es la \"opción por defecto\" y no lleva ninguna condición."
      ],
      "metadata": {
        "id": "46IOcDV9CGCy"
      }
    },
    {
      "cell_type": "code",
      "source": [
        "#Sintaxis:\n",
        "\n",
        "#if condicion1:\n",
        "    # Código si condicion1 es verdadera\n",
        "#elif condicion2:\n",
        "    # Código si condicion2 es verdadera\n",
        "#else:\n",
        "    # Código si ninguna de las condiciones es verdadera"
      ],
      "metadata": {
        "id": "CFGsQm96CJYw"
      },
      "execution_count": null,
      "outputs": []
    },
    {
      "cell_type": "code",
      "source": [
        "numero = 3\n",
        "if numero > 5:\n",
        "    print('El número es mayor que 5')\n",
        "else:\n",
        "    print('El número es menor o igual que 5')  # Resultado: 'El número es menor o igual que 5'\n"
      ],
      "metadata": {
        "id": "ICkxUtyLCfWd"
      },
      "execution_count": null,
      "outputs": []
    },
    {
      "cell_type": "markdown",
      "source": [
        "# Operadores Lógicos: Condiciones múltiples\n",
        "\n",
        "Puedes utilizar los operadores lógicos and, or, y not para combinar múltiples condiciones en una sentencia if."
      ],
      "metadata": {
        "id": "Kj9Z6jA2CswO"
      }
    },
    {
      "cell_type": "code",
      "source": [
        "edad = 20\n",
        "permiso = True\n",
        "\n",
        "if edad >= 18 and permiso:\n",
        "    print('Puedes ingresar')  # Resultado: 'Puedes ingresar'"
      ],
      "metadata": {
        "id": "twNwXuCICwrc"
      },
      "execution_count": null,
      "outputs": []
    },
    {
      "cell_type": "markdown",
      "source": [
        "# Condicionales Anidados\n",
        "\n",
        "Es posible utilizar condicionales dentro de otros condicionales para evaluar múltiples niveles de decisiones."
      ],
      "metadata": {
        "id": "Jinp4dUwC216"
      }
    },
    {
      "cell_type": "code",
      "source": [
        "edad = 16\n",
        "if edad >= 18:\n",
        "    print('Eres mayor de edad')\n",
        "else:\n",
        "    if edad >= 13:\n",
        "        print('Eres adolescente')  # Resultado: 'Eres adolescente'\n",
        "    else:\n",
        "        print('Eres niño')\n"
      ],
      "metadata": {
        "id": "qy2-9_72C-B7"
      },
      "execution_count": null,
      "outputs": []
    },
    {
      "cell_type": "markdown",
      "source": [
        "# Comparaciones con Cadenas\n",
        "Las cadenas también pueden compararse alfabéticamente. Python evalúa las cadenas en orden lexicográfico (alfabético)."
      ],
      "metadata": {
        "id": "4c1vrBqjDDkl"
      }
    },
    {
      "cell_type": "code",
      "source": [
        "nombre1 = 'Ana'\n",
        "nombre2 = 'Pedro'\n",
        "\n",
        "if nombre1 < nombre2:\n",
        "    print(f'{nombre1} viene antes que {nombre2}')  # Resultado: 'Ana viene antes que Pedro'\n"
      ],
      "metadata": {
        "colab": {
          "base_uri": "https://localhost:8080/"
        },
        "id": "hRHOOGY4DGbz",
        "outputId": "7f0593f1-4ebe-45cc-a323-44f0b4d89798"
      },
      "execution_count": null,
      "outputs": [
        {
          "output_type": "stream",
          "name": "stdout",
          "text": [
            "Ana viene antes que Pedro\n"
          ]
        }
      ]
    },
    {
      "cell_type": "markdown",
      "source": [
        "#Operadores de Comparación Menos Comunes\n",
        "El operador in verifica si un elemento se encuentra dentro de una lista, cadena, o colección."
      ],
      "metadata": {
        "id": "H9gMGIpeDxZb"
      }
    },
    {
      "cell_type": "code",
      "source": [
        "fruta = 'manizales'\n",
        "if 'n' in fruta:\n",
        "    print('La letra \"n\" está en \"manzana\"')  # Resultado: 'La letra \"n\" está en \"manzana\"'\n"
      ],
      "metadata": {
        "colab": {
          "base_uri": "https://localhost:8080/"
        },
        "id": "oQ96c2zaDzWI",
        "outputId": "2974f843-1030-4794-8129-dd293c5b7376"
      },
      "execution_count": null,
      "outputs": [
        {
          "output_type": "stream",
          "name": "stdout",
          "text": [
            "La letra \"n\" está en \"manzana\"\n"
          ]
        }
      ]
    },
    {
      "cell_type": "markdown",
      "source": [
        "#Condicionales Ternarios\n",
        "Los condicionales ternarios permiten escribir condiciones simples en una sola línea."
      ],
      "metadata": {
        "id": "mpE9haLRD58b"
      }
    },
    {
      "cell_type": "code",
      "source": [
        "edad = 18\n",
        "mensaje = 'Mayor de edad' if edad >= 18 else 'Menor de edad'\n",
        "print(mensaje)  # Resultado: 'Mayor de edad'\n"
      ],
      "metadata": {
        "id": "fKm57COlEB_i",
        "outputId": "2565b675-8538-42c3-8ad4-ba73d7d211e2",
        "colab": {
          "base_uri": "https://localhost:8080/"
        }
      },
      "execution_count": null,
      "outputs": [
        {
          "output_type": "stream",
          "name": "stdout",
          "text": [
            "Mayor de edad\n"
          ]
        }
      ]
    }
  ]
}