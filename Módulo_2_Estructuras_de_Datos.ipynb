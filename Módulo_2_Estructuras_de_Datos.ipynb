{
  "nbformat": 4,
  "nbformat_minor": 0,
  "metadata": {
    "colab": {
      "provenance": []
    },
    "kernelspec": {
      "name": "python3",
      "display_name": "Python 3"
    },
    "language_info": {
      "name": "python"
    }
  },
  "cells": [
    {
      "cell_type": "markdown",
      "source": [
        "Módulo 2: Estructuras de Datos\n",
        "\n",
        "**Autor:    Natalia Betancur Herrera**\n",
        "\n",
        "Objetivos de la clase:\n",
        "\n",
        "* Listas y tuplas\n",
        "* Diccionarios y conjuntos\n",
        "* Bucles en Python: for y while\n",
        "* Comprensiones de listas\n"
      ],
      "metadata": {
        "id": "sce0_qaFFED5"
      }
    },
    {
      "cell_type": "markdown",
      "source": [
        "# Listas y Tuplas\n"
      ],
      "metadata": {
        "id": "u0NC9VxRFRG3"
      }
    },
    {
      "cell_type": "markdown",
      "source": [
        "## Listas\n",
        "\n",
        "Una lista en Python es una colección ordenada de elementos. Los elementos en una lista pueden ser de cualquier tipo de datos, incluidos números, cadenas, e incluso otras listas (listas anidadas). Las listas son mutables, lo que significa que sus elementos pueden ser modificados después de su creación."
      ],
      "metadata": {
        "id": "Tzdf1k-xFWPh"
      }
    },
    {
      "cell_type": "code",
      "source": [
        "#Sintaxis:\n",
        "#mi_lista = [elemento1, elemento2, elemento3]"
      ],
      "metadata": {
        "id": "LiNYO0LUF8o8"
      },
      "execution_count": null,
      "outputs": []
    },
    {
      "cell_type": "markdown",
      "source": [
        "### Características Principales de las Listas:\n",
        "\n",
        "A. Ordenadas:\n",
        "Las listas mantienen el orden de los elementos tal como se agregan. Esto significa que el primer elemento en la lista tiene un índice de 0, el segundo tiene un índice de 1, y así sucesivamente."
      ],
      "metadata": {
        "id": "whwj3wnHGGWq"
      }
    },
    {
      "cell_type": "code",
      "source": [
        "mi_lista = ['a', 'b', 'c']\n",
        "print(mi_lista[0])  # Resultado: 'a'\n",
        "print(mi_lista[2])  # Resultado: 'c'"
      ],
      "metadata": {
        "id": "UelfyX3HGTj8",
        "colab": {
          "base_uri": "https://localhost:8080/"
        },
        "outputId": "3a01a67a-15f5-439c-9c6d-da6573c2990a"
      },
      "execution_count": null,
      "outputs": [
        {
          "output_type": "stream",
          "name": "stdout",
          "text": [
            "a\n",
            "c\n"
          ]
        }
      ]
    },
    {
      "cell_type": "markdown",
      "source": [
        "B. Mutabilidad:\n",
        "A diferencia de las tuplas, las listas son mutables, lo que significa que se pueden modificar después de su creación. Esto incluye agregar, eliminar o modificar elementos."
      ],
      "metadata": {
        "id": "M1SW8DOVGnYh"
      }
    },
    {
      "cell_type": "code",
      "source": [
        "mi_lista = ['manzana', 'banana', 'naranja']\n",
        "mi_lista[1] = 'pera'\n",
        "print(mi_lista)  # Resultado: ['manzana', 'pera', 'naranja']"
      ],
      "metadata": {
        "id": "k5gUeBgbGrIO"
      },
      "execution_count": null,
      "outputs": []
    },
    {
      "cell_type": "markdown",
      "source": [
        "C. Permiten Duplicados:\n",
        "Las listas pueden contener elementos duplicados, es decir, múltiples elementos con el mismo valor."
      ],
      "metadata": {
        "id": "y7PuG-JHGw9-"
      }
    },
    {
      "cell_type": "code",
      "source": [
        "mi_lista = [1, 2, 2, 3, 4]\n",
        "print(mi_lista)  # Resultado: [1, 2, 2, 3, 4]"
      ],
      "metadata": {
        "id": "UjfmacXwG3qI",
        "colab": {
          "base_uri": "https://localhost:8080/"
        },
        "outputId": "9b4cb3dc-3f29-401c-be43-a06577a827e5"
      },
      "execution_count": null,
      "outputs": [
        {
          "output_type": "stream",
          "name": "stdout",
          "text": [
            "[1, 2, 2, 3, 4]\n"
          ]
        }
      ]
    },
    {
      "cell_type": "markdown",
      "source": [
        "D. Heterogeneidad:\n",
        "Una lista puede contener elementos de diferentes tipos de datos, como enteros, cadenas de texto, booleanos, etc."
      ],
      "metadata": {
        "id": "v2emGbJWG_T4"
      }
    },
    {
      "cell_type": "code",
      "source": [
        "mi_lista = [10, \"Texto\", True, 3.14]\n",
        "print(mi_lista)  # Resultado: [10, 'Texto', True, 3.14]"
      ],
      "metadata": {
        "id": "fD15gMGzHBwh",
        "colab": {
          "base_uri": "https://localhost:8080/"
        },
        "outputId": "e067fe9a-6633-46af-9501-97a6993dac52"
      },
      "execution_count": null,
      "outputs": [
        {
          "output_type": "stream",
          "name": "stdout",
          "text": [
            "[10, 'Texto', True, 3.14]\n"
          ]
        }
      ]
    },
    {
      "cell_type": "code",
      "source": [
        "type(mi_lista[2])"
      ],
      "metadata": {
        "colab": {
          "base_uri": "https://localhost:8080/"
        },
        "id": "_WhVEnFG3HUl",
        "outputId": "a1173083-feac-4475-ddcb-5e1afcc93efe"
      },
      "execution_count": null,
      "outputs": [
        {
          "output_type": "execute_result",
          "data": {
            "text/plain": [
              "bool"
            ]
          },
          "metadata": {},
          "execution_count": 4
        }
      ]
    },
    {
      "cell_type": "markdown",
      "source": [
        "###Funciones y Métodos Comunes de las Listas:\n",
        "Python ofrece una serie de funciones y métodos para trabajar con listas. A continuación, se describen los más comunes:"
      ],
      "metadata": {
        "id": "7jGmLK6IHS8z"
      }
    },
    {
      "cell_type": "markdown",
      "source": [
        "A. append() – Agregar elementos al final:\n",
        "Este método agrega un elemento al final de la lista."
      ],
      "metadata": {
        "id": "yLd4lvJCHdox"
      }
    },
    {
      "cell_type": "code",
      "source": [
        "mi_lista = ['manzana', 'banana']\n",
        "mi_lista.append('naranja')\n",
        "print(mi_lista)  # Resultado: ['manzana', 'banana', 'naranja']"
      ],
      "metadata": {
        "id": "JZhyjnZgHi_1",
        "colab": {
          "base_uri": "https://localhost:8080/"
        },
        "outputId": "7d9f1d82-39e9-494c-dac4-1309abb38fad"
      },
      "execution_count": null,
      "outputs": [
        {
          "output_type": "stream",
          "name": "stdout",
          "text": [
            "['manzana', 'banana', 'naranja']\n"
          ]
        }
      ]
    },
    {
      "cell_type": "markdown",
      "source": [
        "B. insert() – Insertar elementos en una posición específica:\n",
        "Con este método, puedes insertar un nuevo elemento en una posición específica."
      ],
      "metadata": {
        "id": "RsYyS6bsHoBC"
      }
    },
    {
      "cell_type": "code",
      "source": [
        "mi_lista = ['manzana', 'banana', 17]\n",
        "mi_lista.insert(20, 24765.534)\n",
        "print(mi_lista)  # Resultado: ['manzana', 'pera', 'banana']"
      ],
      "metadata": {
        "id": "UJe9ND9wHrqo",
        "colab": {
          "base_uri": "https://localhost:8080/"
        },
        "outputId": "45877835-e0de-44c5-f2c0-bc01032f695f"
      },
      "execution_count": null,
      "outputs": [
        {
          "output_type": "stream",
          "name": "stdout",
          "text": [
            "['manzana', 'banana', 17, 24765.534]\n"
          ]
        }
      ]
    },
    {
      "cell_type": "markdown",
      "source": [
        "C. remove() – Eliminar el primer elemento que coincida:\n",
        "Este método elimina el primer elemento que coincida con el valor dado."
      ],
      "metadata": {
        "id": "UESddZayHukr"
      }
    },
    {
      "cell_type": "code",
      "source": [
        "mi_lista = ['manzana', 'banana', 'naranja', 'banana']\n",
        "mi_lista.remove('banana')\n",
        "print(mi_lista)  # Resultado: ['manzana', 'naranja']"
      ],
      "metadata": {
        "id": "PwoEwgIJHvZY",
        "colab": {
          "base_uri": "https://localhost:8080/"
        },
        "outputId": "bb3136e7-d69b-45e5-db3a-6503c487e52c"
      },
      "execution_count": null,
      "outputs": [
        {
          "output_type": "stream",
          "name": "stdout",
          "text": [
            "['manzana', 'naranja', 'banana']\n"
          ]
        }
      ]
    },
    {
      "cell_type": "markdown",
      "source": [
        "D. pop() – Eliminar y retornar el elemento en una posición específica:\n",
        "El método pop() elimina el elemento en el índice especificado y lo devuelve."
      ],
      "metadata": {
        "id": "qI_eKBVCHxsP"
      }
    },
    {
      "cell_type": "code",
      "source": [
        "mi_lista = ['manzana', 'banana', 'naranja']\n",
        "elemento = mi_lista.pop(1)\n",
        "print(elemento)  # Resultado: 'banana'\n",
        "print(mi_lista)  # Resultado: ['manzana', 'naranja']"
      ],
      "metadata": {
        "id": "WoAiZkDUH0uJ",
        "colab": {
          "base_uri": "https://localhost:8080/"
        },
        "outputId": "96ad0df7-ab69-4747-9ebd-7665829b0cd5"
      },
      "execution_count": null,
      "outputs": [
        {
          "output_type": "stream",
          "name": "stdout",
          "text": [
            "banana\n",
            "['manzana', 'naranja']\n"
          ]
        }
      ]
    },
    {
      "cell_type": "markdown",
      "source": [
        "E. len() – Longitud de la lista:\n",
        "La función len() devuelve el número total de elementos en la lista."
      ],
      "metadata": {
        "id": "2OavF0F0H8SQ"
      }
    },
    {
      "cell_type": "code",
      "source": [
        "mi_lista = [1, 2, 3, 4]\n",
        "print(len(mi_lista))  # Resultado: 4"
      ],
      "metadata": {
        "id": "EDC8Enz1H9Iy",
        "colab": {
          "base_uri": "https://localhost:8080/"
        },
        "outputId": "355b4261-0408-4e15-e4ab-13f7fc59920e"
      },
      "execution_count": null,
      "outputs": [
        {
          "output_type": "stream",
          "name": "stdout",
          "text": [
            "4\n"
          ]
        }
      ]
    },
    {
      "cell_type": "markdown",
      "source": [
        "F. sort() – Ordenar los elementos:\n",
        "Este método ordena los elementos de la lista en orden ascendente o descendente."
      ],
      "metadata": {
        "id": "gyKb22WCICxA"
      }
    },
    {
      "cell_type": "code",
      "source": [
        "numeros = [4, 96, 38, 3, 5, 1, 3, 2]\n",
        "numeros.sort(reverse=True)\n",
        "print(numeros)  # Resultado: [1, 2, 3, 4]"
      ],
      "metadata": {
        "id": "s_tAEojRID02",
        "colab": {
          "base_uri": "https://localhost:8080/"
        },
        "outputId": "29be405f-c6d0-4d12-a0a5-024ff7aa3f5d"
      },
      "execution_count": null,
      "outputs": [
        {
          "output_type": "stream",
          "name": "stdout",
          "text": [
            "[96, 38, 5, 4, 3, 3, 2, 1]\n"
          ]
        }
      ]
    },
    {
      "cell_type": "markdown",
      "source": [
        "G. reverse() – Invertir el orden de la lista:\n",
        "El método reverse() invierte el orden de los elementos de la lista."
      ],
      "metadata": {
        "id": "ozvhVAFjII4e"
      }
    },
    {
      "cell_type": "code",
      "source": [
        "mi_lista = [1, 2, 6, 3, 4]\n",
        "mi_lista.reverse()\n",
        "print(mi_lista)  # Resultado: [4, 3, 2, 1]"
      ],
      "metadata": {
        "id": "3IUlornKILRm",
        "colab": {
          "base_uri": "https://localhost:8080/"
        },
        "outputId": "35648085-2af4-420d-f91d-32589ed093a8"
      },
      "execution_count": null,
      "outputs": [
        {
          "output_type": "stream",
          "name": "stdout",
          "text": [
            "[4, 3, 6, 2, 1]\n"
          ]
        }
      ]
    },
    {
      "cell_type": "markdown",
      "source": [
        "### Listas anidadas (listas dentro de listas):\n",
        "Es posible almacenar listas dentro de otras listas, lo que permite trabajar con estructuras de datos más complejas."
      ],
      "metadata": {
        "id": "AAKW1hS3IrBI"
      }
    },
    {
      "cell_type": "code",
      "source": [
        "mi_lista_anidada = [[1, 2, 3], [4, 5, 6], [7, 8, 9]]\n",
        "print(mi_lista_anidada[1][2])  # Resultado: 6"
      ],
      "metadata": {
        "id": "W7gYV0woIuRZ",
        "colab": {
          "base_uri": "https://localhost:8080/"
        },
        "outputId": "2b82320f-369c-4710-de52-7992d9ebea88"
      },
      "execution_count": null,
      "outputs": [
        {
          "output_type": "stream",
          "name": "stdout",
          "text": [
            "6\n"
          ]
        }
      ]
    },
    {
      "cell_type": "markdown",
      "source": [
        "### Otras operaciones con Listas"
      ],
      "metadata": {
        "id": "bONIwpQOJAD_"
      }
    },
    {
      "cell_type": "markdown",
      "source": [
        "Slicing de Listas (Sublistas):\n",
        "El \"slicing\" permite obtener sublistas a partir de una lista original."
      ],
      "metadata": {
        "id": "ulzyADwlIzkZ"
      }
    },
    {
      "cell_type": "code",
      "source": [
        "mi_lista = ['a', 'b', 'c', 'd', 'e']\n",
        "print(mi_lista[1:])  # Resultado: ['b', 'c', 'd']"
      ],
      "metadata": {
        "id": "JJ7e-gJEIysC",
        "colab": {
          "base_uri": "https://localhost:8080/"
        },
        "outputId": "64ae4b3d-1dfb-4081-bae6-6d8b801f0f09"
      },
      "execution_count": null,
      "outputs": [
        {
          "output_type": "stream",
          "name": "stdout",
          "text": [
            "['b', 'c', 'd', 'e']\n"
          ]
        }
      ]
    },
    {
      "cell_type": "markdown",
      "source": [
        "Concatenación de listas:\n",
        "Puedes unir dos o más listas utilizando el operador +."
      ],
      "metadata": {
        "id": "2Wdh_xQQJGCE"
      }
    },
    {
      "cell_type": "code",
      "source": [
        "lista1 = [1, 2, 3]\n",
        "lista2 = [4, 5, 6]\n",
        "lista_combinada = lista1 + lista2\n",
        "print(lista_combinada)  # Resultado: [1, 2, 3, 4, 5, 6]"
      ],
      "metadata": {
        "id": "cKxQt1jBJImq",
        "colab": {
          "base_uri": "https://localhost:8080/"
        },
        "outputId": "e8753766-72b2-4931-f1c4-b7c5ae1af8a4"
      },
      "execution_count": null,
      "outputs": [
        {
          "output_type": "stream",
          "name": "stdout",
          "text": [
            "[1, 2, 3, 4, 5, 6]\n"
          ]
        }
      ]
    },
    {
      "cell_type": "markdown",
      "source": [
        "Repetición de listas:\n",
        "Puedes repetir una lista un número determinado de veces utilizando el operador *."
      ],
      "metadata": {
        "id": "ArUk9K6XJMYC"
      }
    },
    {
      "cell_type": "code",
      "source": [
        "lista = [1, 50]\n",
        "lista_repetida = lista * 3\n",
        "print(lista_repetida)  # Resultado: ['a', 'b', 'a', 'b', 'a', 'b']"
      ],
      "metadata": {
        "id": "1Jfb5_hsJPzj",
        "colab": {
          "base_uri": "https://localhost:8080/"
        },
        "outputId": "4452b017-30cb-44a2-e243-5c3601859802"
      },
      "execution_count": null,
      "outputs": [
        {
          "output_type": "stream",
          "name": "stdout",
          "text": [
            "[1, 50, 1, 50, 1, 50]\n"
          ]
        }
      ]
    },
    {
      "cell_type": "markdown",
      "source": [
        "## Tuplas\n",
        "\n",
        "Una tupla es una colección ordenada e inmutable de elementos. Esto significa que una vez creada, no puedes modificar (agregar, eliminar o cambiar) sus elementos. Las tuplas se utilizan cuando quieres asegurarte de que los datos no se modifiquen.Como las tuplas son inmutables, requieren menos memoria y son más rápidas en comparación con las listas."
      ],
      "metadata": {
        "id": "XkWxR_hsKZ75"
      }
    },
    {
      "cell_type": "code",
      "source": [
        "# Sintaxis:\n",
        "# mi_tupla = (elemento1, elemento2, elemento3)"
      ],
      "metadata": {
        "id": "M8dzSpRhKi8L"
      },
      "execution_count": null,
      "outputs": []
    },
    {
      "cell_type": "markdown",
      "source": [
        "Características Principales de las Tuplas:\n",
        "1. Ordenadas:\n",
        "Las tuplas mantienen el orden de inserción, y los elementos pueden accederse mediante un índice, como en las listas."
      ],
      "metadata": {
        "id": "6a0EXm3BKxjz"
      }
    },
    {
      "cell_type": "code",
      "source": [
        "mi_tupla = 'a', 'b'\n",
        "mi_tupla"
      ],
      "metadata": {
        "colab": {
          "base_uri": "https://localhost:8080/"
        },
        "id": "61OyPRZsPris",
        "outputId": "762c236c-25d8-4a38-fd96-6d769f710790"
      },
      "execution_count": null,
      "outputs": [
        {
          "output_type": "execute_result",
          "data": {
            "text/plain": [
              "('a', 'b')"
            ]
          },
          "metadata": {},
          "execution_count": 29
        }
      ]
    },
    {
      "cell_type": "code",
      "source": [
        "mi_tupla = ('a', 'b', 'c')\n",
        "print(mi_tupla[0])  # Resultado: 'a'"
      ],
      "metadata": {
        "id": "RV5m7PEYKqoL",
        "colab": {
          "base_uri": "https://localhost:8080/"
        },
        "outputId": "9f2cf1f6-0c7c-40fa-b426-12da0cbf9a9a"
      },
      "execution_count": null,
      "outputs": [
        {
          "output_type": "stream",
          "name": "stdout",
          "text": [
            "a\n"
          ]
        }
      ]
    },
    {
      "cell_type": "markdown",
      "source": [
        "Inmutabilidad:\n",
        "A diferencia de las listas, las tuplas no pueden ser modificadas después de su creación."
      ],
      "metadata": {
        "id": "NisQXd7QK4Ri"
      }
    },
    {
      "cell_type": "code",
      "source": [
        "mi_tupla = (1, 2, 3)\n",
        "mi_tupla[1] = 10  # Esto generará un error"
      ],
      "metadata": {
        "id": "WXwSISTNK6li",
        "colab": {
          "base_uri": "https://localhost:8080/",
          "height": 159
        },
        "outputId": "9f6aedfb-0b17-489c-d074-ab2fdbbb8a23"
      },
      "execution_count": null,
      "outputs": [
        {
          "output_type": "error",
          "ename": "TypeError",
          "evalue": "'tuple' object does not support item assignment",
          "traceback": [
            "\u001b[0;31m---------------------------------------------------------------------------\u001b[0m",
            "\u001b[0;31mTypeError\u001b[0m                                 Traceback (most recent call last)",
            "\u001b[0;32m<ipython-input-30-80c42fd66428>\u001b[0m in \u001b[0;36m<cell line: 0>\u001b[0;34m()\u001b[0m\n\u001b[1;32m      1\u001b[0m \u001b[0mmi_tupla\u001b[0m \u001b[0;34m=\u001b[0m \u001b[0;34m(\u001b[0m\u001b[0;36m1\u001b[0m\u001b[0;34m,\u001b[0m \u001b[0;36m2\u001b[0m\u001b[0;34m,\u001b[0m \u001b[0;36m3\u001b[0m\u001b[0;34m)\u001b[0m\u001b[0;34m\u001b[0m\u001b[0;34m\u001b[0m\u001b[0m\n\u001b[0;32m----> 2\u001b[0;31m \u001b[0mmi_tupla\u001b[0m\u001b[0;34m[\u001b[0m\u001b[0;36m1\u001b[0m\u001b[0;34m]\u001b[0m \u001b[0;34m=\u001b[0m \u001b[0;36m10\u001b[0m  \u001b[0;31m# Esto generará un error\u001b[0m\u001b[0;34m\u001b[0m\u001b[0;34m\u001b[0m\u001b[0m\n\u001b[0m",
            "\u001b[0;31mTypeError\u001b[0m: 'tuple' object does not support item assignment"
          ]
        }
      ]
    },
    {
      "cell_type": "markdown",
      "source": [
        "Permiten Duplicados:\n",
        "Las tuplas, al igual que las listas, permiten elementos duplicados."
      ],
      "metadata": {
        "id": "Pe7ZGiDLK99E"
      }
    },
    {
      "cell_type": "code",
      "source": [
        "mi_tupla = (1, 2, 2, 3)\n",
        "print(mi_tupla)  # Resultado: (1, 2, 2, 3)"
      ],
      "metadata": {
        "id": "BSqwSIvVLBgK",
        "colab": {
          "base_uri": "https://localhost:8080/"
        },
        "outputId": "eb1633ab-906f-482c-86c7-6439aadd71fb"
      },
      "execution_count": null,
      "outputs": [
        {
          "output_type": "stream",
          "name": "stdout",
          "text": [
            "(1, 2, 2, 3)\n"
          ]
        }
      ]
    },
    {
      "cell_type": "markdown",
      "source": [
        "Heterogeneidad:\n",
        "Una tupla puede contener diferentes tipos de datos, como enteros, cadenas y booleanos."
      ],
      "metadata": {
        "id": "TnymBg4CLFkB"
      }
    },
    {
      "cell_type": "code",
      "source": [
        "mi_tupla = (1, \"Hola\", 3.14)\n",
        "print(mi_tupla)  # Resultado: (1, 'Hola', 3.14)"
      ],
      "metadata": {
        "id": "CyE-XaiGLE-i",
        "colab": {
          "base_uri": "https://localhost:8080/"
        },
        "outputId": "85b8af46-2583-4b96-9097-73021433ee64"
      },
      "execution_count": null,
      "outputs": [
        {
          "output_type": "stream",
          "name": "stdout",
          "text": [
            "(1, 'Hola', 3.14)\n"
          ]
        }
      ]
    },
    {
      "cell_type": "markdown",
      "source": [
        "Operaciones Comunes con Tuplas:\n",
        "\n",
        "A. Acceder a Elementos:\n",
        "Puedes acceder a los elementos de una tupla mediante su índice."
      ],
      "metadata": {
        "id": "WARR0hvLLUiY"
      }
    },
    {
      "cell_type": "code",
      "source": [
        "mi_tupla = ('a', 'b', 'c')\n",
        "print(mi_tupla[1])  # Resultado: 'b'"
      ],
      "metadata": {
        "id": "baP32jMFLlx6",
        "colab": {
          "base_uri": "https://localhost:8080/"
        },
        "outputId": "79ac125a-6cff-42c3-b524-970c052978b7"
      },
      "execution_count": null,
      "outputs": [
        {
          "output_type": "stream",
          "name": "stdout",
          "text": [
            "b\n"
          ]
        }
      ]
    },
    {
      "cell_type": "markdown",
      "source": [
        "B. Longitud de una Tupla:\n",
        "La función len() devuelve el número de elementos en la tupla."
      ],
      "metadata": {
        "id": "Yr3kVXGPLtMt"
      }
    },
    {
      "cell_type": "code",
      "source": [
        "mi_tupla = (1, 2, 3)\n",
        "print(len(mi_tupla))  # Resultado: 3"
      ],
      "metadata": {
        "id": "vUzxt3XwLunB",
        "colab": {
          "base_uri": "https://localhost:8080/"
        },
        "outputId": "da6ffb8e-6c85-432c-f7e3-c26c787affef"
      },
      "execution_count": null,
      "outputs": [
        {
          "output_type": "stream",
          "name": "stdout",
          "text": [
            "3\n"
          ]
        }
      ]
    },
    {
      "cell_type": "markdown",
      "source": [
        "C. Concatenación de Tuplas:\n",
        "Puedes unir tuplas utilizando el operador +."
      ],
      "metadata": {
        "id": "99QIHgAYL0ha"
      }
    },
    {
      "cell_type": "code",
      "source": [
        "tupla1 = (1, 2)\n",
        "tupla2 = (3, 4)\n",
        "tupla_combinada = tupla1 + tupla2\n",
        "print(tupla_combinada)  # Resultado: (1, 2, 3, 4)"
      ],
      "metadata": {
        "id": "p2mg46f0L31x",
        "colab": {
          "base_uri": "https://localhost:8080/"
        },
        "outputId": "9c3f330d-fc51-48dd-d6d7-3340494ae383"
      },
      "execution_count": null,
      "outputs": [
        {
          "output_type": "stream",
          "name": "stdout",
          "text": [
            "(1, 2, 3, 4)\n"
          ]
        }
      ]
    },
    {
      "cell_type": "code",
      "source": [
        "tupla = 1,2,4,5,6,2,5,8,2,7,2\n"
      ],
      "metadata": {
        "id": "rQDnR97kSCNg"
      },
      "execution_count": null,
      "outputs": []
    },
    {
      "cell_type": "code",
      "source": [
        "tuple([1,2,4,6,4])"
      ],
      "metadata": {
        "colab": {
          "base_uri": "https://localhost:8080/"
        },
        "id": "hy3cBC-DSHAi",
        "outputId": "b3e6e9d6-c1d0-4d60-ee1d-7be28a5a8054"
      },
      "execution_count": null,
      "outputs": [
        {
          "output_type": "execute_result",
          "data": {
            "text/plain": [
              "(1, 2, 4, 6, 4)"
            ]
          },
          "metadata": {},
          "execution_count": 38
        }
      ]
    },
    {
      "cell_type": "markdown",
      "source": [
        "# Diccionarios y conjuntos"
      ],
      "metadata": {
        "id": "Wv7_lWy2MmnU"
      }
    },
    {
      "cell_type": "markdown",
      "source": [
        "## Diccionarios\n",
        "\n",
        "Un diccionario en Python es una colección de pares clave-valor, donde cada clave está asociada con un valor. Es una estructura de datos no ordenada, y cada clave en el diccionario debe ser única."
      ],
      "metadata": {
        "id": "_5nQXeJqMrf4"
      }
    },
    {
      "cell_type": "code",
      "source": [
        "dict()"
      ],
      "metadata": {
        "colab": {
          "base_uri": "https://localhost:8080/"
        },
        "id": "IsmI3b1oY3Wv",
        "outputId": "a0fc5aa8-911b-464c-d1db-bcf709b3a43d"
      },
      "execution_count": null,
      "outputs": [
        {
          "output_type": "execute_result",
          "data": {
            "text/plain": [
              "{}"
            ]
          },
          "metadata": {},
          "execution_count": 41
        }
      ]
    },
    {
      "cell_type": "code",
      "source": [
        "#Sintaxis:\n",
        "#mi_diccionario = {clave1: valor1, clave2: valor2}"
      ],
      "metadata": {
        "id": "VWYuMIdJNLlh"
      },
      "execution_count": null,
      "outputs": []
    },
    {
      "cell_type": "code",
      "source": [
        "mi_diccionario = {'nombre': 'Ana', 'edad': 25, 'ciudad': 'Madrid'}\n",
        "print(mi_diccionario)"
      ],
      "metadata": {
        "colab": {
          "base_uri": "https://localhost:8080/"
        },
        "id": "X3nw49_9NwMy",
        "outputId": "f3c0c818-9b36-45e2-c791-6c00d975e355"
      },
      "execution_count": null,
      "outputs": [
        {
          "output_type": "stream",
          "name": "stdout",
          "text": [
            "{'nombre': 'Ana', 'edad': 25, 'ciudad': 'Madrid'}\n"
          ]
        }
      ]
    },
    {
      "cell_type": "markdown",
      "source": [
        "Características Principales de los Diccionarios:\n",
        "\n",
        "1. Claves Únicas:\n",
        "Cada clave dentro de un diccionario debe ser única. Si se intenta agregar un par clave-valor con una clave ya existente, el valor será actualizado."
      ],
      "metadata": {
        "id": "6sFdyrwANpdm"
      }
    },
    {
      "cell_type": "code",
      "source": [
        "mi_diccionario = {'nombre': 'Ana', 'edad': 25}\n"
      ],
      "metadata": {
        "id": "QCDUnBX0cBH0"
      },
      "execution_count": null,
      "outputs": []
    },
    {
      "cell_type": "code",
      "source": [
        "mi_diccionario['edad']\n"
      ],
      "metadata": {
        "colab": {
          "base_uri": "https://localhost:8080/"
        },
        "id": "joX_zEFZcDn4",
        "outputId": "04468bd6-c190-4df0-d319-4efa77c62774"
      },
      "execution_count": null,
      "outputs": [
        {
          "output_type": "execute_result",
          "data": {
            "text/plain": [
              "25"
            ]
          },
          "metadata": {},
          "execution_count": 45
        }
      ]
    },
    {
      "cell_type": "code",
      "source": [
        "mi_diccionario = {'nombre': 'Ana', 'edad': 25}\n",
        "mi_diccionario['edad'] = 30  # Actualiza el valor de la clave 'edad'\n",
        "print(mi_diccionario)  # Resultado: {'nombre': 'Ana', 'edad': 30}"
      ],
      "metadata": {
        "id": "IMw1BOsRN46i",
        "colab": {
          "base_uri": "https://localhost:8080/"
        },
        "outputId": "c1123290-de1a-4060-f728-b05cb0963989"
      },
      "execution_count": null,
      "outputs": [
        {
          "output_type": "stream",
          "name": "stdout",
          "text": [
            "{'nombre': 'Ana', 'edad': 30}\n"
          ]
        }
      ]
    },
    {
      "cell_type": "markdown",
      "source": [
        "2. Mutables:\n",
        "Los diccionarios son mutables, lo que significa que puedes agregar, eliminar o modificar pares clave-valor después de crear el diccionario.\n",
        "\n",
        "3. Heterogeneidad:\n",
        "Las claves y los valores de un diccionario pueden ser de cualquier tipo de datos, incluyendo números, cadenas, listas o incluso otros diccionarios."
      ],
      "metadata": {
        "id": "_c5w7VNlN71j"
      }
    },
    {
      "cell_type": "code",
      "source": [
        "mi_diccionario = {'nombre': 'Ana', 'edad': 25, 'hobbies': ['lectura', 'música']}\n",
        "print(mi_diccionario)"
      ],
      "metadata": {
        "id": "TjQgOHItOBZP"
      },
      "execution_count": null,
      "outputs": []
    },
    {
      "cell_type": "markdown",
      "source": [
        "Operaciones Comunes con Diccionarios:\n",
        "\n",
        "A. Acceder a Valores:\n",
        "Puedes acceder al valor de una clave específica."
      ],
      "metadata": {
        "id": "M85aGkrpOGed"
      }
    },
    {
      "cell_type": "code",
      "source": [
        "mi_diccionario = {'nombre': 'Ana', 'edad': 25}\n",
        "print(mi_diccionario['nombre'])  # Resultado: 'Ana'"
      ],
      "metadata": {
        "id": "6j99O0cPOJYG",
        "colab": {
          "base_uri": "https://localhost:8080/"
        },
        "outputId": "c6dab114-fa4a-4832-c5dc-5a409d6c0454"
      },
      "execution_count": null,
      "outputs": [
        {
          "output_type": "stream",
          "name": "stdout",
          "text": [
            "Ana\n"
          ]
        }
      ]
    },
    {
      "cell_type": "markdown",
      "source": [
        "B. Agregar o Modificar Valores:\n",
        "Puedes agregar un nuevo par clave-valor o modificar un valor existente."
      ],
      "metadata": {
        "id": "d9HKqtk6OOBu"
      }
    },
    {
      "cell_type": "code",
      "source": [
        "mi_diccionario = {'nombre': 'Ana', 'edad': 25}\n",
        "mi_diccionario['ciudad'] = 'Madrid'  # Agrega una nueva clave\n",
        "print(mi_diccionario)  # Resultado: {'nombre': 'Ana', 'edad': 25, 'ciudad': 'Madrid'}"
      ],
      "metadata": {
        "id": "1X9SvyaPOQQx",
        "colab": {
          "base_uri": "https://localhost:8080/"
        },
        "outputId": "78f882c2-65ea-4f75-9d46-cfb2a822b2fe"
      },
      "execution_count": null,
      "outputs": [
        {
          "output_type": "stream",
          "name": "stdout",
          "text": [
            "{'nombre': 'Ana', 'edad': 25, 'ciudad': 'Madrid'}\n"
          ]
        }
      ]
    },
    {
      "cell_type": "markdown",
      "source": [
        "C. Eliminar Elementos:\n",
        "Elimina un par clave-valor utilizando del."
      ],
      "metadata": {
        "id": "IJ7TDvTAOVwA"
      }
    },
    {
      "cell_type": "code",
      "source": [
        "mi_diccionario = {'nombre': 'Ana', 'edad': 25, 'ciudad': 'Madrid'}\n",
        "del mi_diccionario['edad']\n",
        "print(mi_diccionario)  # Resultado: {'nombre': 'Ana', 'ciudad': 'Madrid'}"
      ],
      "metadata": {
        "id": "T0g8NbDFOYGR",
        "colab": {
          "base_uri": "https://localhost:8080/"
        },
        "outputId": "90e67017-4729-4f68-efe8-2edee9e34389"
      },
      "execution_count": null,
      "outputs": [
        {
          "output_type": "stream",
          "name": "stdout",
          "text": [
            "{'nombre': 'Ana', 'ciudad': 'Madrid'}\n"
          ]
        }
      ]
    },
    {
      "cell_type": "markdown",
      "source": [
        "D. Ver Todas las Claves o Valores:\n",
        "Puedes obtener todas las claves o todos los valores del diccionario."
      ],
      "metadata": {
        "id": "8OkE5wf8ObHc"
      }
    },
    {
      "cell_type": "code",
      "source": [
        "mi_diccionario = {'nombre': 'Ana', 'edad': 25, 'ciudad': 'Madrid'}\n",
        "print(mi_diccionario.keys())   # Resultado: dict_keys(['nombre', 'edad', 'ciudad'])\n",
        "print(mi_diccionario.values()) # Resultado: dict_values(['Ana', 25, 'Madrid'])"
      ],
      "metadata": {
        "id": "VMPyxIj1OeEF",
        "colab": {
          "base_uri": "https://localhost:8080/"
        },
        "outputId": "9836cde3-b04e-4077-bfb8-2a0459d55e39"
      },
      "execution_count": null,
      "outputs": [
        {
          "output_type": "stream",
          "name": "stdout",
          "text": [
            "dict_keys(['nombre', 'edad', 'ciudad'])\n",
            "dict_values(['Ana', 25, 'Madrid'])\n"
          ]
        }
      ]
    },
    {
      "cell_type": "code",
      "source": [
        "Dic1 = {'Dias':['l', 'm', 'm', 'jueves', 'v']}\n",
        "Dic1['Dias'][3][5]"
      ],
      "metadata": {
        "colab": {
          "base_uri": "https://localhost:8080/",
          "height": 35
        },
        "id": "IsHYX8MFiE69",
        "outputId": "685ef35b-c5c4-4015-9279-8e6f0ed2459e"
      },
      "execution_count": null,
      "outputs": [
        {
          "output_type": "execute_result",
          "data": {
            "text/plain": [
              "'s'"
            ],
            "application/vnd.google.colaboratory.intrinsic+json": {
              "type": "string"
            }
          },
          "metadata": {},
          "execution_count": 58
        }
      ]
    },
    {
      "cell_type": "markdown",
      "source": [
        "Conjuntos (Sets)\n",
        "\n",
        "Un conjunto en Python es una colección desordenada de elementos únicos. Los conjuntos no permiten duplicados y son útiles para realizar operaciones matemáticas como la unión, intersección y diferencia."
      ],
      "metadata": {
        "id": "BZBK_Yq21wbH"
      }
    },
    {
      "cell_type": "code",
      "source": [
        "#Sintaxis\n",
        "#mi_conjunto = {elemento1, elemento2, elemento3}"
      ],
      "metadata": {
        "id": "1TLHcicZ10lI"
      },
      "execution_count": null,
      "outputs": []
    },
    {
      "cell_type": "markdown",
      "source": [
        "Características Principales de los Conjuntos:\n",
        "1. Desordenados:\n",
        "Los conjuntos no mantienen el orden de inserción de los elementos. No puedes acceder a un elemento por su posición o índice, como se hace en listas o tuplas."
      ],
      "metadata": {
        "id": "alpS-sd_2PH9"
      }
    },
    {
      "cell_type": "code",
      "source": [],
      "metadata": {
        "id": "xzZlVtBuj6J9"
      },
      "execution_count": null,
      "outputs": []
    },
    {
      "cell_type": "code",
      "source": [
        "mi_conjunto = {1, 5,2,4,4,4,4, 3, 4}\n",
        "print(mi_conjunto)  # Resultado: {1, 3, 4, 5}"
      ],
      "metadata": {
        "colab": {
          "base_uri": "https://localhost:8080/"
        },
        "id": "lGr5sO3Y2Npd",
        "outputId": "1d684b28-8468-45e8-a27c-d3756775ebac"
      },
      "execution_count": null,
      "outputs": [
        {
          "output_type": "stream",
          "name": "stdout",
          "text": [
            "{1, 2, 3, 4, 5}\n"
          ]
        }
      ]
    },
    {
      "cell_type": "markdown",
      "source": [
        "2. Elementos Únicos:\n",
        "Los conjuntos no permiten elementos duplicados. Si agregas un elemento que ya está presente, no cambiará el conjunto."
      ],
      "metadata": {
        "id": "wuO5CKvE2qjq"
      }
    },
    {
      "cell_type": "code",
      "source": [
        "mi_conjunto = {1, 2, 2, 3}\n",
        "print(mi_conjunto)  # Resultado: {1, 2, 3}"
      ],
      "metadata": {
        "colab": {
          "base_uri": "https://localhost:8080/"
        },
        "id": "L82ncag42tKY",
        "outputId": "637a8604-4b7d-459e-b2ca-af5163875179"
      },
      "execution_count": null,
      "outputs": [
        {
          "output_type": "stream",
          "name": "stdout",
          "text": [
            "{1, 2, 3}\n"
          ]
        }
      ]
    },
    {
      "cell_type": "markdown",
      "source": [
        "Operaciones Comunes con Conjuntos:\n",
        "\n",
        "A. Agregar Elementos:\n",
        "Puedes agregar un elemento al conjunto utilizando add()."
      ],
      "metadata": {
        "id": "J81LVkbm3Cdr"
      }
    },
    {
      "cell_type": "code",
      "source": [
        "mi_conjunto = {1, 2, 3}\n",
        "mi_conjunto.add(0)\n",
        "print(mi_conjunto)  # Resultado: {1, 2, 3, 4}"
      ],
      "metadata": {
        "id": "1GVPPdBn3GiE",
        "colab": {
          "base_uri": "https://localhost:8080/"
        },
        "outputId": "70d36ace-0500-46e6-9321-30593399cb56"
      },
      "execution_count": null,
      "outputs": [
        {
          "output_type": "stream",
          "name": "stdout",
          "text": [
            "{0, 1, 2, 3}\n"
          ]
        }
      ]
    },
    {
      "cell_type": "markdown",
      "source": [
        "B. Eliminar Elementos:\n",
        "Elimina un elemento específico utilizando remove() o discard()."
      ],
      "metadata": {
        "id": "Kcbdku3Y3N0K"
      }
    },
    {
      "cell_type": "code",
      "source": [
        "mi_conjunto = {1, 2, 3}\n",
        "mi_conjunto.remove(2)\n",
        "print(mi_conjunto)  # Resultado: {1, 3}"
      ],
      "metadata": {
        "id": "3eT_53Cm3TvR",
        "colab": {
          "base_uri": "https://localhost:8080/"
        },
        "outputId": "8e1f40da-5dc4-422a-b552-1e95a67f8ea8"
      },
      "execution_count": null,
      "outputs": [
        {
          "output_type": "stream",
          "name": "stdout",
          "text": [
            "{1, 3}\n"
          ]
        }
      ]
    },
    {
      "cell_type": "markdown",
      "source": [
        "C. Operaciones Matemáticas:\n",
        "\n",
        "\n",
        "\n",
        "*   Unión de Conjuntos: La unión combina los elementos de dos conjuntos.\n"
      ],
      "metadata": {
        "id": "iAjEL7E93bfR"
      }
    },
    {
      "cell_type": "code",
      "source": [
        "A = {1, 2, 3}\n",
        "B = {4, 5, 2}\n",
        "C = {1, 5, '8', 8, 9}\n",
        "union = A | B | C\n",
        "print(union)  # Resultado: {1, 2, 3, 4, 5}"
      ],
      "metadata": {
        "colab": {
          "base_uri": "https://localhost:8080/"
        },
        "id": "wv49vUiV3k9A",
        "outputId": "0bb8e9a4-e99f-49be-8230-55b4f47598dd"
      },
      "execution_count": null,
      "outputs": [
        {
          "output_type": "stream",
          "name": "stdout",
          "text": [
            "{1, 2, 3, 4, 5, 8, 9, '8'}\n"
          ]
        }
      ]
    },
    {
      "cell_type": "markdown",
      "source": [
        "\n",
        "*   Intersección de Conjuntos: La intersección devuelve los elementos que están en ambos conjuntos.\n",
        "\n",
        "\n"
      ],
      "metadata": {
        "id": "YJd9iSBO30Hy"
      }
    },
    {
      "cell_type": "code",
      "source": [
        "interseccion = A & B\n",
        "print(interseccion)  # Resultado: {3}"
      ],
      "metadata": {
        "id": "h0-tvjuJ37oZ",
        "colab": {
          "base_uri": "https://localhost:8080/"
        },
        "outputId": "c7726483-379a-4746-a91f-65f4f7c865ab"
      },
      "execution_count": null,
      "outputs": [
        {
          "output_type": "stream",
          "name": "stdout",
          "text": [
            "{2}\n"
          ]
        }
      ]
    },
    {
      "cell_type": "markdown",
      "source": [
        "\n",
        "\n",
        "*   Diferencia de Conjuntos: La diferencia devuelve los elementos que están en el primer conjunto pero no en el segundo.\n",
        "\n"
      ],
      "metadata": {
        "id": "iriHbAi84DKL"
      }
    },
    {
      "cell_type": "code",
      "source": [
        "diferencia = B - A\n",
        "print(diferencia)  # Resultado: {1, 2}"
      ],
      "metadata": {
        "id": "5kRBo6lj4Hur",
        "colab": {
          "base_uri": "https://localhost:8080/"
        },
        "outputId": "c2e1fbb6-f80e-4930-81b3-65c439e74b36"
      },
      "execution_count": null,
      "outputs": [
        {
          "output_type": "stream",
          "name": "stdout",
          "text": [
            "{4, 5}\n"
          ]
        }
      ]
    },
    {
      "cell_type": "markdown",
      "source": [
        "#Bucles for y while\n",
        "\n",
        "Bucle for: El bucle for en Python se utiliza para iterar sobre una secuencia (como una lista, tupla, diccionario, conjunto o cadena). Este bucle recorre los elementos de la secuencia uno por uno."
      ],
      "metadata": {
        "id": "lSSzW6_VEd73"
      }
    },
    {
      "cell_type": "code",
      "source": [
        "# Sintaxis:\n",
        "#for variable in secuencia:\n",
        "    # Código que se ejecuta por cada elemento"
      ],
      "metadata": {
        "id": "lKVSlhKXEtuu"
      },
      "execution_count": null,
      "outputs": []
    },
    {
      "cell_type": "markdown",
      "source": [
        "Características del bucle for:\n",
        "* Itera sobre cada elemento de la secuencia sin necesidad de usar un índice.\n",
        "* Funciona con cualquier colección iterable (listas, cadenas, diccionarios, etc.)."
      ],
      "metadata": {
        "id": "TAybU8MwE4gR"
      }
    },
    {
      "cell_type": "code",
      "source": [
        "#Iterar sobre una lista\n",
        "import time\n",
        "numeros = [1, 2, 3, 4, 5]\n",
        "for num in numeros:\n",
        "    time.sleep(1)\n",
        "    print(num)"
      ],
      "metadata": {
        "id": "tj6TPAh4FAhe",
        "colab": {
          "base_uri": "https://localhost:8080/"
        },
        "outputId": "0c9c8cba-7191-4ab3-9d2c-30b3b937f41a"
      },
      "execution_count": null,
      "outputs": [
        {
          "output_type": "stream",
          "name": "stdout",
          "text": [
            "1\n",
            "2\n",
            "3\n",
            "4\n",
            "5\n"
          ]
        }
      ]
    },
    {
      "cell_type": "code",
      "source": [
        "mi_diccionario = {'nombre': 'Ana', 'edad': 25}\n",
        "mi_diccionario.items()"
      ],
      "metadata": {
        "colab": {
          "base_uri": "https://localhost:8080/"
        },
        "id": "xfzMSrAgGiRj",
        "outputId": "f16ab9db-40c7-4005-f4f7-8a0c8564cdcd"
      },
      "execution_count": null,
      "outputs": [
        {
          "output_type": "execute_result",
          "data": {
            "text/plain": [
              "dict_items([('nombre', 'Ana'), ('edad', 25)])"
            ]
          },
          "metadata": {},
          "execution_count": 4
        }
      ]
    },
    {
      "cell_type": "code",
      "source": [
        "#Iterar sobre un diccionario\n",
        "mi_diccionario = {'nombre': 'Ana', 'edad': 25}\n",
        "for clave, valor in mi_diccionario.items():\n",
        "  time.sleep(0.5)\n",
        "  print(clave, valor)"
      ],
      "metadata": {
        "id": "vUN-wCFlFcv9",
        "colab": {
          "base_uri": "https://localhost:8080/"
        },
        "outputId": "ddf6d37c-fa92-46e6-f00d-c960421f5ff2"
      },
      "execution_count": null,
      "outputs": [
        {
          "output_type": "stream",
          "name": "stdout",
          "text": [
            "nombre Ana\n",
            "edad 25\n"
          ]
        }
      ]
    },
    {
      "cell_type": "markdown",
      "source": [
        "Bucle while:\n",
        "El bucle while ejecuta un bloque de código mientras una condición sea verdadera. Se utiliza cuando no sabes cuántas veces necesitas iterar."
      ],
      "metadata": {
        "id": "yDl4NZgkFkoe"
      }
    },
    {
      "cell_type": "code",
      "source": [
        "#Sintaxis:\n",
        "#while condicion:\n",
        "    # Código que se ejecuta mientras la condición sea verdadera"
      ],
      "metadata": {
        "id": "KsM3mNHMFrin"
      },
      "execution_count": null,
      "outputs": []
    },
    {
      "cell_type": "markdown",
      "source": [
        "Características del bucle while:\n",
        "* El bucle se ejecuta indefinidamente hasta que la condición se vuelva falsa.\n",
        "* Es útil para cuando no sabes el número exacto de iteraciones."
      ],
      "metadata": {
        "id": "OygBBfkmFzRG"
      }
    },
    {
      "cell_type": "code",
      "source": [
        "# Ejemplo 1: Contar hasta 5\n",
        "contador = 1\n",
        "import time\n",
        "while contador1:\n",
        "    time.sleep(0.2)\n",
        "    print(contador)\n",
        "    # contador += 1"
      ],
      "metadata": {
        "id": "Ip0nr415GEAh",
        "colab": {
          "base_uri": "https://localhost:8080/",
          "height": 1000
        },
        "collapsed": true,
        "outputId": "c36b4ee9-2c38-4297-ac3b-30972eae1543"
      },
      "execution_count": null,
      "outputs": [
        {
          "output_type": "stream",
          "name": "stdout",
          "text": [
            "1\n",
            "1\n",
            "1\n",
            "1\n",
            "1\n",
            "1\n",
            "1\n",
            "1\n",
            "1\n",
            "1\n",
            "1\n",
            "1\n",
            "1\n",
            "1\n",
            "1\n",
            "1\n",
            "1\n",
            "1\n",
            "1\n",
            "1\n",
            "1\n",
            "1\n",
            "1\n",
            "1\n",
            "1\n",
            "1\n",
            "1\n",
            "1\n",
            "1\n",
            "1\n",
            "1\n",
            "1\n",
            "1\n",
            "1\n",
            "1\n",
            "1\n",
            "1\n",
            "1\n",
            "1\n",
            "1\n",
            "1\n",
            "1\n",
            "1\n",
            "1\n",
            "1\n",
            "1\n",
            "1\n",
            "1\n",
            "1\n",
            "1\n",
            "1\n",
            "1\n",
            "1\n",
            "1\n",
            "1\n",
            "1\n",
            "1\n",
            "1\n",
            "1\n",
            "1\n",
            "1\n",
            "1\n",
            "1\n",
            "1\n",
            "1\n",
            "1\n",
            "1\n",
            "1\n",
            "1\n",
            "1\n",
            "1\n",
            "1\n",
            "1\n",
            "1\n",
            "1\n",
            "1\n",
            "1\n",
            "1\n",
            "1\n",
            "1\n",
            "1\n",
            "1\n",
            "1\n",
            "1\n",
            "1\n",
            "1\n",
            "1\n",
            "1\n",
            "1\n",
            "1\n",
            "1\n",
            "1\n",
            "1\n",
            "1\n",
            "1\n",
            "1\n",
            "1\n",
            "1\n",
            "1\n",
            "1\n",
            "1\n",
            "1\n",
            "1\n",
            "1\n",
            "1\n",
            "1\n",
            "1\n",
            "1\n",
            "1\n",
            "1\n",
            "1\n",
            "1\n",
            "1\n",
            "1\n",
            "1\n",
            "1\n",
            "1\n",
            "1\n",
            "1\n",
            "1\n",
            "1\n",
            "1\n",
            "1\n",
            "1\n",
            "1\n",
            "1\n",
            "1\n",
            "1\n",
            "1\n",
            "1\n",
            "1\n",
            "1\n",
            "1\n",
            "1\n",
            "1\n",
            "1\n",
            "1\n",
            "1\n",
            "1\n",
            "1\n",
            "1\n",
            "1\n",
            "1\n",
            "1\n",
            "1\n",
            "1\n",
            "1\n",
            "1\n",
            "1\n",
            "1\n",
            "1\n",
            "1\n",
            "1\n",
            "1\n",
            "1\n",
            "1\n",
            "1\n",
            "1\n",
            "1\n",
            "1\n",
            "1\n",
            "1\n",
            "1\n",
            "1\n",
            "1\n",
            "1\n",
            "1\n",
            "1\n",
            "1\n",
            "1\n",
            "1\n",
            "1\n",
            "1\n",
            "1\n",
            "1\n",
            "1\n",
            "1\n",
            "1\n",
            "1\n",
            "1\n",
            "1\n",
            "1\n",
            "1\n",
            "1\n",
            "1\n",
            "1\n",
            "1\n",
            "1\n",
            "1\n",
            "1\n",
            "1\n",
            "1\n",
            "1\n",
            "1\n",
            "1\n",
            "1\n",
            "1\n",
            "1\n",
            "1\n",
            "1\n",
            "1\n",
            "1\n",
            "1\n",
            "1\n",
            "1\n",
            "1\n",
            "1\n",
            "1\n",
            "1\n",
            "1\n",
            "1\n",
            "1\n",
            "1\n",
            "1\n",
            "1\n",
            "1\n",
            "1\n",
            "1\n",
            "1\n",
            "1\n",
            "1\n",
            "1\n",
            "1\n",
            "1\n",
            "1\n",
            "1\n",
            "1\n",
            "1\n",
            "1\n",
            "1\n",
            "1\n",
            "1\n",
            "1\n",
            "1\n",
            "1\n",
            "1\n",
            "1\n",
            "1\n",
            "1\n",
            "1\n",
            "1\n",
            "1\n",
            "1\n",
            "1\n",
            "1\n",
            "1\n",
            "1\n",
            "1\n",
            "1\n",
            "1\n",
            "1\n",
            "1\n",
            "1\n",
            "1\n",
            "1\n",
            "1\n",
            "1\n",
            "1\n",
            "1\n",
            "1\n",
            "1\n",
            "1\n",
            "1\n",
            "1\n",
            "1\n",
            "1\n",
            "1\n",
            "1\n",
            "1\n",
            "1\n",
            "1\n",
            "1\n",
            "1\n",
            "1\n",
            "1\n",
            "1\n",
            "1\n",
            "1\n",
            "1\n",
            "1\n",
            "1\n",
            "1\n",
            "1\n",
            "1\n",
            "1\n",
            "1\n",
            "1\n",
            "1\n",
            "1\n",
            "1\n",
            "1\n",
            "1\n",
            "1\n",
            "1\n",
            "1\n",
            "1\n",
            "1\n",
            "1\n",
            "1\n",
            "1\n",
            "1\n",
            "1\n",
            "1\n",
            "1\n",
            "1\n",
            "1\n",
            "1\n",
            "1\n",
            "1\n",
            "1\n",
            "1\n",
            "1\n",
            "1\n",
            "1\n",
            "1\n",
            "1\n",
            "1\n",
            "1\n",
            "1\n",
            "1\n",
            "1\n",
            "1\n",
            "1\n",
            "1\n",
            "1\n",
            "1\n"
          ]
        },
        {
          "output_type": "error",
          "ename": "KeyboardInterrupt",
          "evalue": "",
          "traceback": [
            "\u001b[0;31m---------------------------------------------------------------------------\u001b[0m",
            "\u001b[0;31mKeyboardInterrupt\u001b[0m                         Traceback (most recent call last)",
            "\u001b[0;32m<ipython-input-12-539c4798aa64>\u001b[0m in \u001b[0;36m<cell line: 0>\u001b[0;34m()\u001b[0m\n\u001b[1;32m      3\u001b[0m \u001b[0;32mimport\u001b[0m \u001b[0mtime\u001b[0m\u001b[0;34m\u001b[0m\u001b[0;34m\u001b[0m\u001b[0m\n\u001b[1;32m      4\u001b[0m \u001b[0;32mwhile\u001b[0m \u001b[0mcontador\u001b[0m\u001b[0;34m:\u001b[0m\u001b[0;34m\u001b[0m\u001b[0;34m\u001b[0m\u001b[0m\n\u001b[0;32m----> 5\u001b[0;31m     \u001b[0mtime\u001b[0m\u001b[0;34m.\u001b[0m\u001b[0msleep\u001b[0m\u001b[0;34m(\u001b[0m\u001b[0;36m0.2\u001b[0m\u001b[0;34m)\u001b[0m\u001b[0;34m\u001b[0m\u001b[0;34m\u001b[0m\u001b[0m\n\u001b[0m\u001b[1;32m      6\u001b[0m     \u001b[0mprint\u001b[0m\u001b[0;34m(\u001b[0m\u001b[0mcontador\u001b[0m\u001b[0;34m)\u001b[0m\u001b[0;34m\u001b[0m\u001b[0;34m\u001b[0m\u001b[0m\n\u001b[1;32m      7\u001b[0m     \u001b[0;31m# contador += 1\u001b[0m\u001b[0;34m\u001b[0m\u001b[0;34m\u001b[0m\u001b[0m\n",
            "\u001b[0;31mKeyboardInterrupt\u001b[0m: "
          ]
        }
      ]
    },
    {
      "cell_type": "code",
      "source": [
        "# Bucle infinito (controlado por el usuario)"
      ],
      "metadata": {
        "id": "E3JY2DxeGS4n"
      },
      "execution_count": null,
      "outputs": []
    },
    {
      "cell_type": "code",
      "source": [
        "while True:\n",
        "    respuesta = input(\"¿Te gusta la clase de programación? (si/no): \")\n",
        "    if respuesta == 'si':\n",
        "        break"
      ],
      "metadata": {
        "colab": {
          "base_uri": "https://localhost:8080/"
        },
        "id": "WU7RCMcjGX1r",
        "outputId": "23d5512b-5bf7-413d-f7aa-411feeac6775"
      },
      "execution_count": null,
      "outputs": [
        {
          "name": "stdout",
          "output_type": "stream",
          "text": [
            "¿Te gusta la clase de programación? (si/no): tal vez\n",
            "¿Te gusta la clase de programación? (si/no): nose \n",
            "¿Te gusta la clase de programación? (si/no): no\n",
            "¿Te gusta la clase de programación? (si/no): 123\n",
            "¿Te gusta la clase de programación? (si/no): si\n"
          ]
        }
      ]
    },
    {
      "cell_type": "code",
      "source": [
        "while True:\n",
        "    respuesta = input(\"¿Te gusta la clase de programación? (si/no): \")\n",
        "    if respuesta == 'si':\n",
        "        break\n",
        "    elif respuesta == 'SI':\n",
        "        break\n",
        "    elif respuesta == 'Si':\n",
        "        break\n",
        "    elif respuesta == 'Sí':\n",
        "        break\n",
        "    elif respuesta == 'sí':\n",
        "        break\n",
        "    elif respuesta == 'SÍ':\n",
        "        break"
      ],
      "metadata": {
        "colab": {
          "base_uri": "https://localhost:8080/"
        },
        "id": "biFDdsQUMn_o",
        "outputId": "74c2dabd-7a8e-4e68-e5e1-a88f0beb49f4"
      },
      "execution_count": null,
      "outputs": [
        {
          "name": "stdout",
          "output_type": "stream",
          "text": [
            "¿Te gusta la clase de programación? (si/no): si\n"
          ]
        }
      ]
    },
    {
      "cell_type": "code",
      "source": [],
      "metadata": {
        "colab": {
          "base_uri": "https://localhost:8080/",
          "height": 35
        },
        "id": "Li5cML43PvJ7",
        "outputId": "9b1d1641-94dc-421f-9e22-ee8185bf5a0f"
      },
      "execution_count": null,
      "outputs": [
        {
          "output_type": "execute_result",
          "data": {
            "text/plain": [
              "'si'"
            ],
            "application/vnd.google.colaboratory.intrinsic+json": {
              "type": "string"
            }
          },
          "metadata": {},
          "execution_count": 19
        }
      ]
    },
    {
      "cell_type": "code",
      "source": [
        "while True:\n",
        "    respuesta = input(\"¿Te gusta la clase de programación? (si/no): \")\n",
        "    print(respuesta)\n",
        "    respuesta = respuesta.lower()\n",
        "    respuesta = respuesta.replace('í','i')\n",
        "    print(respuesta)\n",
        "    if respuesta == 'si':\n",
        "        break"
      ],
      "metadata": {
        "colab": {
          "base_uri": "https://localhost:8080/"
        },
        "id": "TGcB4VgiN-G-",
        "outputId": "2476462d-a3d4-4f5f-bea2-a5f8e2d425ba"
      },
      "execution_count": null,
      "outputs": [
        {
          "output_type": "stream",
          "name": "stdout",
          "text": [
            "¿Te gusta la clase de programación? (si/no): Si\n",
            "Si\n",
            "si\n"
          ]
        }
      ]
    },
    {
      "cell_type": "markdown",
      "source": [
        "Control de Bucles:\n",
        "1. break:\n",
        "Termina el bucle de inmediato, sin completar las iteraciones restantes."
      ],
      "metadata": {
        "id": "icsT3kdbIrzY"
      }
    },
    {
      "cell_type": "code",
      "source": [
        "for num in range(10):\n",
        "    if num == 5:\n",
        "        break\n",
        "    print(num)"
      ],
      "metadata": {
        "id": "t4-GghCQIxeZ"
      },
      "execution_count": null,
      "outputs": []
    },
    {
      "cell_type": "markdown",
      "source": [
        "2. continue:\n",
        "Salta a la siguiente iteración del bucle, sin ejecutar el resto del código dentro de esa iteración."
      ],
      "metadata": {
        "id": "Dk8tPwaBI16y"
      }
    },
    {
      "cell_type": "code",
      "source": [
        "range(20)"
      ],
      "metadata": {
        "colab": {
          "base_uri": "https://localhost:8080/"
        },
        "id": "FkIpAYPVQp_o",
        "outputId": "1410950d-e342-4ca2-a80c-45f47d0b9009"
      },
      "execution_count": null,
      "outputs": [
        {
          "output_type": "execute_result",
          "data": {
            "text/plain": [
              "range(0, 20)"
            ]
          },
          "metadata": {},
          "execution_count": 21
        }
      ]
    },
    {
      "cell_type": "code",
      "source": [
        "for num in range(10):\n",
        "    if num % 2 == 0:\n",
        "        continue\n",
        "    print(num)"
      ],
      "metadata": {
        "id": "p-zNy0o9I49_",
        "colab": {
          "base_uri": "https://localhost:8080/"
        },
        "outputId": "9478d1bd-cdf8-42df-80e3-aafcaad2463f"
      },
      "execution_count": null,
      "outputs": [
        {
          "output_type": "stream",
          "name": "stdout",
          "text": [
            "1\n",
            "3\n",
            "5\n",
            "7\n",
            "9\n"
          ]
        }
      ]
    },
    {
      "cell_type": "markdown",
      "source": [
        "## Comprensiones de Listas\n",
        "\n",
        "Las comprensiones de listas son una forma concisa y eficiente de crear listas en Python. Te permiten generar listas nuevas aplicando una operación a cada elemento de una secuencia existente, todo en una sola línea."
      ],
      "metadata": {
        "id": "EXSwhWQqKCkb"
      }
    },
    {
      "cell_type": "code",
      "source": [
        "#Sintaxis:\n",
        "#[nueva_expresion for elemento in secuencia if condicion]"
      ],
      "metadata": {
        "id": "c4W3b7QKKUXi"
      },
      "execution_count": null,
      "outputs": []
    },
    {
      "cell_type": "markdown",
      "source": [
        "* nueva_expresion: lo que quieres que cada elemento se convierta.\n",
        "* elemento: el elemento que estás procesando en la secuencia.\n",
        "* secuencia: la secuencia original que estás iterando.\n",
        "* condicion (opcional): una condición opcional que debe cumplir cada elemento."
      ],
      "metadata": {
        "id": "LYaM5zXHKTUK"
      }
    },
    {
      "cell_type": "markdown",
      "source": [
        "Características de las Comprensiones de Listas:\n",
        "* Son más rápidas y más legibles que los bucles tradicionales cuando necesitas transformar o filtrar datos.\n",
        "* Usualmente reemplazan a los bucles for con la misma funcionalidad pero en una línea."
      ],
      "metadata": {
        "id": "j9Q853ttKjSC"
      }
    },
    {
      "cell_type": "code",
      "source": [
        "# Ejemplo 1: Crear una lista de cuadrados (forma tradicional)\n",
        "numeros = [1, 2, 3, 4, 5]\n",
        "cuadrados = []\n",
        "for num in numeros:\n",
        "    cuadrados.append(num ** 2)\n",
        "print(cuadrados)"
      ],
      "metadata": {
        "id": "cXS97gD2KqvQ"
      },
      "execution_count": null,
      "outputs": []
    },
    {
      "cell_type": "code",
      "source": [
        "# Ejemplo 1: Crear una lista de cuadrados (usando comprensiones)\n",
        "numeros = [1, 2, 3, 4, 5]\n",
        "cuadrados = [num ** 2 for num in numeros]\n",
        "print(cuadrados)"
      ],
      "metadata": {
        "id": "2BUYT68CKzR6"
      },
      "execution_count": null,
      "outputs": []
    },
    {
      "cell_type": "code",
      "source": [
        "# Ejemplo 2: Filtrar una lista (números pares forma tradicional)\n",
        "numeros = [1, 2, 3, 4, 5, 6]\n",
        "pares = []\n",
        "for num in numeros:\n",
        "    if num % 2 == 0:\n",
        "        pares.append(num)\n",
        "print(pares)"
      ],
      "metadata": {
        "colab": {
          "base_uri": "https://localhost:8080/"
        },
        "id": "3GZT-LdJLgta",
        "outputId": "2eb7e4ec-5fa6-4fc6-87de-01abb186279b"
      },
      "execution_count": null,
      "outputs": [
        {
          "output_type": "stream",
          "name": "stdout",
          "text": [
            "[2, 4, 6]\n"
          ]
        }
      ]
    },
    {
      "cell_type": "code",
      "source": [
        "# Ejemplo 2: Filtrar una lista (números pares usando comprensiones)\n",
        "numeros = [1, 2, 3, 4, 5, 6]\n",
        "pares = [num for num in numeros if num % 2 == 0]\n",
        "print(pares)"
      ],
      "metadata": {
        "colab": {
          "base_uri": "https://localhost:8080/"
        },
        "id": "4RvqBTj3LreT",
        "outputId": "cf807eb1-3e72-49de-da7c-c6516d02493d"
      },
      "execution_count": null,
      "outputs": [
        {
          "output_type": "stream",
          "name": "stdout",
          "text": [
            "[2, 4, 6]\n"
          ]
        }
      ]
    },
    {
      "cell_type": "markdown",
      "source": [
        "Ventajas de las Comprensiones de Listas:\n",
        "* Concisión: Simplifican la escritura del código al reducir el número de líneas.\n",
        "* Eficiencia: En muchos casos, son más rápidas que los bucles for tradicionales, debido a que están optimizadas en Python.\n",
        "* Claridad: Una vez que te acostumbras a su sintaxis, son fáciles de leer y entender.\n"
      ],
      "metadata": {
        "id": "1j83epXOMAkq"
      }
    }
  ]
}