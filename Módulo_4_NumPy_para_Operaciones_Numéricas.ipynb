{
  "nbformat": 4,
  "nbformat_minor": 0,
  "metadata": {
    "colab": {
      "provenance": []
    },
    "kernelspec": {
      "name": "python3",
      "display_name": "Python 3"
    },
    "language_info": {
      "name": "python"
    }
  },
  "cells": [
    {
      "cell_type": "markdown",
      "source": [
        "Módulo 4: NumPy para Operaciones Numéricas\n",
        "\n",
        "**Autor:    Natalia Betancur Herrera**\n",
        "\n",
        "Objetivos de la clase:\n",
        "\n",
        "* Introducción a NumPy\n",
        "* Importar NumPy y crear un array\n",
        "* Operaciones con Arrays\n",
        "* Producto de Matrices\n",
        "* Indexación y Slicing\n",
        "* Generación de Datos con NumPy\n",
        "* Funciones útiles de análisis\n",
        "* Funciones agregadas por eje\n",
        "\n"
      ],
      "metadata": {
        "id": "TTPMO-H57WoO"
      }
    },
    {
      "cell_type": "markdown",
      "source": [
        "# Introducción a NumPy\n",
        "\n",
        "¿Qué es NumPy?\n",
        "\n",
        "NumPy (Numerical Python) es una biblioteca fundamental para el cálculo numérico en Python. Proporciona soporte para arrays multidimensionales y una amplia gama de funciones matemáticas optimizadas.\n",
        "\n",
        "\n",
        "Instalación y uso en Colab\n",
        "\n",
        "NumPy viene preinstalado en Google Colab, pero si trabajas en un entorno local, puedes instalarlo con:"
      ],
      "metadata": {
        "id": "S3sBCfHx7yu2"
      }
    },
    {
      "cell_type": "code",
      "source": [
        "!pip install numpy"
      ],
      "metadata": {
        "id": "NU1E2ci48Hm5"
      },
      "execution_count": null,
      "outputs": []
    },
    {
      "cell_type": "markdown",
      "source": [
        "## Importar NumPy y crear un array"
      ],
      "metadata": {
        "id": "r66zCaHu_-ro"
      }
    },
    {
      "cell_type": "markdown",
      "source": [
        "¿Qué es un Array?\n",
        "\n",
        "Un array es una estructura de datos que almacena una colección de elementos del mismo tipo (generalmente números).\n",
        "\n",
        "Los arrays en NumPy son fundamentales para realizar cálculos vectorizados (operaciones matemáticas realizadas en todo el array de una sola vez) y manipular grandes conjuntos de datos."
      ],
      "metadata": {
        "id": "fM24orx9CEsH"
      }
    },
    {
      "cell_type": "code",
      "source": [
        "# Crear un array en NumPy\n",
        "\n",
        "import numpy as np\n",
        "\n",
        "# Crear un array 1D\n",
        "arr = np.array([1, 2, 3, 4, 5])\n",
        "print(\"Array:\", arr)"
      ],
      "metadata": {
        "colab": {
          "base_uri": "https://localhost:8080/"
        },
        "id": "dyFjMFN3EtWn",
        "outputId": "592ea418-9149-4d01-9027-e564651f24a7"
      },
      "execution_count": 2,
      "outputs": [
        {
          "output_type": "stream",
          "name": "stdout",
          "text": [
            "Array: [1 2 3 4 5]\n"
          ]
        }
      ]
    },
    {
      "cell_type": "markdown",
      "source": [
        "¿Qué es una Matriz?\n",
        "\n",
        "Una matriz es un tipo especial de array bidimensional. Es decir, un array que tiene dos dimensiones: filas y columnas. Las matrices son ampliamente utilizadas en álgebra lineal y para representar datos tabulares.\n"
      ],
      "metadata": {
        "id": "pbGlgxVzE7UR"
      }
    },
    {
      "cell_type": "code",
      "source": [
        "# Crear una matriz 2D\n",
        "\n",
        "matriz = np.array([[1, 2, 3], [4, 5, 6], [7, 8, 9]])\n",
        "print(\"Matriz:\")\n",
        "print(matriz)"
      ],
      "metadata": {
        "colab": {
          "base_uri": "https://localhost:8080/"
        },
        "id": "VNYznO4gFALO",
        "outputId": "f59670af-d161-440f-f920-0c757b6e9b05"
      },
      "execution_count": 3,
      "outputs": [
        {
          "output_type": "stream",
          "name": "stdout",
          "text": [
            "Matriz:\n",
            "[[1 2 3]\n",
            " [4 5 6]\n",
            " [7 8 9]]\n"
          ]
        }
      ]
    },
    {
      "cell_type": "markdown",
      "source": [
        "##  Operaciones con Arrays\n",
        "\n",
        "Operaciones Matemáticas Básicas\n",
        "\n",
        "NumPy permite realizar operaciones matemáticas sobre arrays de manera eficiente y rápida. Las operaciones que se pueden realizar incluyen la suma, multiplicación, división, etc."
      ],
      "metadata": {
        "id": "omlFSosiFOJZ"
      }
    },
    {
      "cell_type": "code",
      "source": [
        "# Operaciones básicas con arrays\n",
        "\n",
        "\n",
        "arr = np.array([1, 2, 3, 4, 5])\n",
        "\n",
        "# Operación de suma\n",
        "print(\"Suma de 10 a cada elemento:\", arr + 10)\n",
        "\n",
        "# Operación de resta\n",
        "print(\"Resta:\", arr - 2)\n",
        "\n",
        "# Operación de multiplicación\n",
        "print(\"Multiplicación por 2:\", arr * 2)\n",
        "\n",
        "# Operación de división\n",
        "print(\"División:\", arr / 2)\n",
        "\n",
        "# Operación de potencia\n",
        "print(\"Potencia:\", arr ** 2)\n",
        "\n",
        "# Raíz cuadrada de cada elemento\n",
        "print(\"Raíz cuadrada:\", np.sqrt(arr))"
      ],
      "metadata": {
        "colab": {
          "base_uri": "https://localhost:8080/"
        },
        "id": "KKJC5Hz0GOum",
        "outputId": "786f48b1-6b4e-40c4-98c5-a8cc8b95bb52"
      },
      "execution_count": 6,
      "outputs": [
        {
          "output_type": "stream",
          "name": "stdout",
          "text": [
            "Suma de 10 a cada elemento: [11 12 13 14 15]\n",
            "Resta: [-1  0  1  2  3]\n",
            "Multiplicación por 2: [ 2  4  6  8 10]\n",
            "División: [0.5 1.  1.5 2.  2.5]\n",
            "Potencia: [ 1  4  9 16 25]\n",
            "Raíz cuadrada: [1.         1.41421356 1.73205081 2.         2.23606798]\n"
          ]
        }
      ]
    },
    {
      "cell_type": "code",
      "source": [
        "# Operaciones con dos arrays\n",
        "a = np.array([1, 2, 3])\n",
        "b = np.array([4, 5, 6])\n",
        "\n",
        "\n",
        "# Suma elemento a elemento\n",
        "print(\"Suma de arrays:\", a + b)\n",
        "\n",
        "# Multiplicación elemento a elemento\n",
        "print(\"Multiplicación elemento a elemento:\", a * b)"
      ],
      "metadata": {
        "colab": {
          "base_uri": "https://localhost:8080/"
        },
        "id": "Ym6WoyrBfrmA",
        "outputId": "edcc696f-d488-46fb-855c-6b4119af2c76"
      },
      "execution_count": 7,
      "outputs": [
        {
          "output_type": "stream",
          "name": "stdout",
          "text": [
            "Suma de arrays: [5 7 9]\n",
            "Multiplicación elemento a elemento: [ 4 10 18]\n"
          ]
        }
      ]
    },
    {
      "cell_type": "markdown",
      "source": [
        "## Producto de Matrices\n",
        "\n",
        "El producto de matrices es una operación en la que se multiplican filas de la primera matriz por columnas de la segunda. A diferencia de la multiplicación elemento a elemento, esta operación combina filas y columnas y requiere que el número de columnas de la primera matriz coincida con el número de filas de la segunda."
      ],
      "metadata": {
        "id": "itavkRWPgO4V"
      }
    },
    {
      "cell_type": "code",
      "source": [
        "# Definimos dos matrices A y B\n",
        "A = np.array([[1, 2], [3, 4]])\n",
        "B = np.array([[5, 6], [7, 8]])\n",
        "\n",
        "# Producto matricial con np.dot\n",
        "producto = np.dot(A, B)\n",
        "print(\"Producto de matrices (np.dot):\")\n",
        "print(producto)\n",
        "\n",
        "\n",
        "# Producto con operador @\n",
        "producto2 = A @ B\n",
        "print(\"Producto de matrices (@):\")\n",
        "print(producto2)"
      ],
      "metadata": {
        "colab": {
          "base_uri": "https://localhost:8080/"
        },
        "id": "y2ndpZPzg6Qa",
        "outputId": "90af762e-e1cc-43be-98cf-11f5d8c0a983"
      },
      "execution_count": 9,
      "outputs": [
        {
          "output_type": "stream",
          "name": "stdout",
          "text": [
            "Producto de matrices (np.dot):\n",
            "[[19 22]\n",
            " [43 50]]\n",
            "Producto de matrices (@):\n",
            "[[19 22]\n",
            " [43 50]]\n"
          ]
        }
      ]
    },
    {
      "cell_type": "code",
      "source": [
        "# Producto de matrices más complejo: A (3x2) * B (2x3)\n",
        "\n",
        "# Matriz 3x2 con valores del 1 al 6\n",
        "A = np.arange(1, 7).reshape(3, 2)\n",
        "\n",
        "# Matriz 2x3 con valores del 7 al 12\n",
        "B = np.arange(7, 13).reshape(2, 3)\n",
        "\n",
        "# Producto de matrices A * B = C (3x3)\n",
        "C = A @ B\n",
        "print(\"Producto de matrices A (3x2) * B (2x3):\")\n",
        "print(C)"
      ],
      "metadata": {
        "colab": {
          "base_uri": "https://localhost:8080/"
        },
        "id": "vx7CDzdThKUQ",
        "outputId": "6d52f62a-4a65-46c0-a6e7-372841dbd3e2"
      },
      "execution_count": 11,
      "outputs": [
        {
          "output_type": "stream",
          "name": "stdout",
          "text": [
            "Producto de matrices A (3x2) * B (2x3):\n",
            "[[ 27  30  33]\n",
            " [ 61  68  75]\n",
            " [ 95 106 117]]\n"
          ]
        }
      ]
    },
    {
      "cell_type": "markdown",
      "source": [
        "## Indexación y Slicing\n",
        "\n",
        "\n"
      ],
      "metadata": {
        "id": "CfP1LgWSil_6"
      }
    },
    {
      "cell_type": "markdown",
      "source": [
        "¿Qué es la Indexación?\n",
        "\n",
        "La indexación es el proceso de acceder a elementos individuales dentro de un array o matriz utilizando su posición (índice)."
      ],
      "metadata": {
        "id": "uR9C4AwAit0B"
      }
    },
    {
      "cell_type": "code",
      "source": [
        "# Crear un array de ejemplo\n",
        "arr = np.array([10, 20, 30, 40, 50])\n",
        "\n",
        "# Acceder al primer elemento\n",
        "print(\"Primer elemento:\", arr[0])\n",
        "\n",
        "# Acceder al tercer elemento\n",
        "print(\"Tercer elemento:\", arr[2])\n",
        "\n",
        "# Acceder al último elemento\n",
        "print(\"Último elemento:\", arr[-1])"
      ],
      "metadata": {
        "colab": {
          "base_uri": "https://localhost:8080/"
        },
        "id": "oH_cfZpliwta",
        "outputId": "30195963-5a41-43dc-a707-e7dfe62df92e"
      },
      "execution_count": 12,
      "outputs": [
        {
          "output_type": "stream",
          "name": "stdout",
          "text": [
            "Primer elemento: 10\n",
            "Tercer elemento: 30\n",
            "Último elemento: 50\n"
          ]
        }
      ]
    },
    {
      "cell_type": "markdown",
      "source": [
        "¿Qué es el Slicing?\n",
        "\n",
        "El slicing (o corte) permite extraer subconjuntos de un array utilizando una notación basada en rangos: inicio:fin:paso. Es muy útil cuando se desea trabajar solo con una parte del array o matriz."
      ],
      "metadata": {
        "id": "PhkfYOAHjBu0"
      }
    },
    {
      "cell_type": "code",
      "source": [
        "# Crear un array del 0 al 9\n",
        "arr = np.array([0, 1, 2, 3, 4, 5, 6, 7, 8, 9])\n",
        "\n",
        "# Elementos de la posición 2 a la 5 (índice 6 no incluido)\n",
        "print(\"Elementos del índice 2 al 5:\", arr[2:6])\n",
        "\n",
        "# Elementos con paso de 2\n",
        "print(\"Cada dos elementos:\", arr[::2])\n",
        "\n",
        "# Array invertido\n",
        "print(\"Elementos del final hacia el inicio:\", arr[::-1])\n",
        "\n",
        "# Slicing en matrices\n",
        "mat = np.array([[1, 2, 3], [4, 5, 6], [7, 8, 9]])\n",
        "\n",
        "# Acceder a la primera fila\n",
        "print(\"Primera fila:\", mat[0])\n",
        "\n",
        "# Acceder a la segunda columna\n",
        "print(\"Segunda columna:\", mat[:, 1])\n",
        "\n",
        "# Extraer submatriz 2x2\n",
        "print(\"Submatriz 2x2:\")\n",
        "print(mat[0:2, 0:2])"
      ],
      "metadata": {
        "colab": {
          "base_uri": "https://localhost:8080/"
        },
        "id": "LQxEFZZLjBLq",
        "outputId": "76149ffe-2b24-45c4-9901-56aebfc3ae8d"
      },
      "execution_count": 13,
      "outputs": [
        {
          "output_type": "stream",
          "name": "stdout",
          "text": [
            "Elementos del índice 2 al 5: [2 3 4 5]\n",
            "Cada dos elementos: [0 2 4 6 8]\n",
            "Elementos del final hacia el inicio: [9 8 7 6 5 4 3 2 1 0]\n",
            "Primera fila: [1 2 3]\n",
            "Segunda columna: [2 5 8]\n",
            "Submatriz 2x2:\n",
            "[[1 2]\n",
            " [4 5]]\n"
          ]
        }
      ]
    },
    {
      "cell_type": "markdown",
      "source": [
        "## Generación de Datos con NumPy\n"
      ],
      "metadata": {
        "id": "BB3KPdkZkujz"
      }
    },
    {
      "cell_type": "markdown",
      "source": [
        "NumPy ofrece herramientas para generar datos, lo cual es útil para pruebas, simulaciones o entrenamiento de modelos. Las funciones más comunes incluyen:\n",
        "\n",
        "* np.random.rand(): genera números aleatorios decimales entre 0 y 1.\n",
        "\n",
        "* np.random.randint(inicio, fin, tamaño): genera números enteros aleatorios en un rango definido.\n",
        "\n",
        "* np.linspace(inicio, fin, cantidad): crea un array con un número fijo de valores espaciados uniformemente entre dos extremos.\n",
        "\n",
        "* np.arange(inicio, fin, paso): crea un array con valores dentro de un rango, definidos por un paso constante."
      ],
      "metadata": {
        "id": "1FLq_Rxjky2C"
      }
    },
    {
      "cell_type": "code",
      "source": [
        "# Números aleatorios entre 0 y 1\n",
        "random_numbers = np.random.rand(5)\n",
        "print(\"Números aleatorios entre 0 y 1:\", random_numbers)\n",
        "\n",
        "# Números aleatorios enteros entre 1 y 100\n",
        "enteros = np.random.randint(1, 100, size=5)\n",
        "print(\"Enteros aleatorios entre 1 y 100:\", enteros)\n",
        "\n",
        "# Crear valores espaciados entre 0 y 10\n",
        "linspace_arr = np.linspace(0, 10, 5)\n",
        "print(\"Valores entre 0 y 10:\", linspace_arr)\n",
        "\n",
        "# Crear un array con valores desde 0 hasta 20 con paso 3\n",
        "range_array = np.arange(0, 20, 3)\n",
        "print(\"Rango de 0 a 20, paso 3:\", range_array)"
      ],
      "metadata": {
        "colab": {
          "base_uri": "https://localhost:8080/"
        },
        "id": "hDe8HWtElEmK",
        "outputId": "f3032149-0c9f-4546-908e-0df7cd4f4033"
      },
      "execution_count": 14,
      "outputs": [
        {
          "output_type": "stream",
          "name": "stdout",
          "text": [
            "Números aleatorios entre 0 y 1: [0.07077354 0.8297099  0.70683826 0.2646506  0.34369739]\n",
            "Enteros aleatorios entre 1 y 100: [98 12 78 61  6]\n",
            "Valores entre 0 y 10: [ 0.   2.5  5.   7.5 10. ]\n",
            "Rango de 0 a 20, paso 3: [ 0  3  6  9 12 15 18]\n"
          ]
        }
      ]
    },
    {
      "cell_type": "markdown",
      "source": [
        "## Funciones útiles de análisis\n"
      ],
      "metadata": {
        "id": "EkPQ3maSlSfq"
      }
    },
    {
      "cell_type": "markdown",
      "source": [
        "Una vez que tienes datos, NumPy permite aplicar funciones estadísticas y analíticas de forma sencilla y rápida:\n",
        "\n",
        "* np.sum(): suma todos los elementos.\n",
        "\n",
        "* np.mean(): calcula la media (promedio).\n",
        "\n",
        "* np.std(): calcula la desviación estándar (dispersión de los datos).\n",
        "\n",
        "* np.max() y np.min(): devuelven el valor máximo y mínimo, respectivamente."
      ],
      "metadata": {
        "id": "cTtbJlzclU94"
      }
    },
    {
      "cell_type": "code",
      "source": [
        "# Crear array\n",
        "arr = np.array([3, 6, 2, 9, 5])\n",
        "\n",
        "# Calcular suma, media y desviación estándar\n",
        "print(\"Suma:\", np.sum(arr))\n",
        "print(\"Media:\", np.mean(arr))\n",
        "print(\"Desviación estándar:\", np.std(arr))\n",
        "\n",
        "# Máximo y mínimo\n",
        "print(\"Máximo:\", np.max(arr))\n",
        "print(\"Mínimo:\", np.min(arr))"
      ],
      "metadata": {
        "colab": {
          "base_uri": "https://localhost:8080/"
        },
        "id": "O9jsDc7-lcRa",
        "outputId": "4a54c3d9-94ba-43e5-f0f2-907926a6007b"
      },
      "execution_count": 15,
      "outputs": [
        {
          "output_type": "stream",
          "name": "stdout",
          "text": [
            "Suma: 25\n",
            "Media: 5.0\n",
            "Desviación estándar: 2.449489742783178\n",
            "Máximo: 9\n",
            "Mínimo: 2\n"
          ]
        }
      ]
    },
    {
      "cell_type": "markdown",
      "source": [
        "## Funciones agregadas por eje\n"
      ],
      "metadata": {
        "id": "mbcFXPPjmdQQ"
      }
    },
    {
      "cell_type": "markdown",
      "source": [
        "Las funciones agregadas como sum(), mean(), max(), entre otras, pueden aplicarse no solo al array completo, sino también a lo largo de un eje específico usando el parámetro axis. Esto permite calcular estadísticas por fila o por columna, lo cual es muy útil en el análisis de datos.\n",
        "\n",
        "* axis=0 → Aplica la función por columnas.\n",
        "\n",
        "* axis=1 → Aplica la función por filas."
      ],
      "metadata": {
        "id": "ahIhNkeUmf3Y"
      }
    },
    {
      "cell_type": "code",
      "source": [
        "# Crear matriz 2x3\n",
        "matriz = np.array([[1, 2, 3], [4, 5, 6]])\n",
        "\n",
        "# Suma de cada columna\n",
        "print(\"Suma por columnas:\", np.sum(matriz, axis=0))\n",
        "\n",
        "# Suma de cada fila\n",
        "print(\"Suma por filas:\", np.sum(matriz, axis=1))\n",
        "\n",
        "# Media de cada fila\n",
        "print(\"Media por filas:\", np.mean(matriz, axis=1))"
      ],
      "metadata": {
        "colab": {
          "base_uri": "https://localhost:8080/"
        },
        "id": "AEiXpH_SnJ6D",
        "outputId": "4e6bccd4-14b8-4b95-a03c-84df7d2b1932"
      },
      "execution_count": 19,
      "outputs": [
        {
          "output_type": "stream",
          "name": "stdout",
          "text": [
            "Suma por columnas: [5 7 9]\n",
            "Suma por filas: [ 6 15]\n",
            "Media por filas: [2. 5.]\n"
          ]
        }
      ]
    }
  ]
}