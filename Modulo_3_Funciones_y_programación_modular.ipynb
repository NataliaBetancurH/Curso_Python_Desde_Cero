{
  "nbformat": 4,
  "nbformat_minor": 0,
  "metadata": {
    "colab": {
      "provenance": []
    },
    "kernelspec": {
      "name": "python3",
      "display_name": "Python 3"
    },
    "language_info": {
      "name": "python"
    }
  },
  "cells": [
    {
      "cell_type": "markdown",
      "source": [
        "Módulo 3: Funciones y programación modular\n",
        "\n",
        "**Autor:    Natalia Betancur Herrera**\n",
        "\n",
        "Objetivos de la clase:\n",
        "\n",
        "* Definición de funciones\n",
        "* Parámetros y argumentos\n",
        "* Funciones anónimas (lambda)\n",
        "* Módulos y paquetes en Python\n"
      ],
      "metadata": {
        "id": "ELBFub2ggBOC"
      }
    },
    {
      "cell_type": "markdown",
      "source": [
        "# Definición de funciones\n",
        "\n",
        "¿Qué es una función en Python?\n",
        "\n",
        "Una función es un bloque de código reutilizable que realiza una tarea específica. Se usa para evitar la repetición de código y mejorar la organización del programa.\n"
      ],
      "metadata": {
        "id": "WP6bOmUtggqI"
      }
    },
    {
      "cell_type": "code",
      "execution_count": 1,
      "metadata": {
        "id": "cFm2D8hnf3Xd"
      },
      "outputs": [],
      "source": [
        "# Sintaxis de una función en Python\n",
        "\n",
        "def nombre_funcion():\n",
        "    # Código de la función\n",
        "    return valor  # (opcional)"
      ]
    },
    {
      "cell_type": "markdown",
      "source": [
        "* def: Palabra clave para definir una función.\n",
        "\n",
        "* nombre_funcion: Nombre de la función (debe ser descriptivo).\n",
        "\n",
        "* return: Devuelve un valor, pero no es obligatorio."
      ],
      "metadata": {
        "id": "TdwyudxuhIHG"
      }
    },
    {
      "cell_type": "code",
      "source": [
        "# Función sin parámetros\n",
        "\n",
        "def saludar():\n",
        "    print(\"¡Hola, bienvenido a Python!\")\n",
        "\n",
        "saludar()\n",
        "# Resultado: ¡Hola, bienvenido a Python!"
      ],
      "metadata": {
        "colab": {
          "base_uri": "https://localhost:8080/"
        },
        "id": "3-t7ZbPBhTQG",
        "outputId": "b2813d64-d6cb-401e-8e4f-dffe41b64b7a"
      },
      "execution_count": 2,
      "outputs": [
        {
          "output_type": "stream",
          "name": "stdout",
          "text": [
            "¡Hola, bienvenido a Python!\n"
          ]
        }
      ]
    },
    {
      "cell_type": "code",
      "source": [
        "# Función con retorno de valor\n",
        "\n",
        "def obtener_pi():\n",
        "    return 3.1416\n",
        "\n",
        "valor_pi = obtener_pi()\n",
        "print(valor_pi)\n",
        "# Resultado: 3.1416"
      ],
      "metadata": {
        "colab": {
          "base_uri": "https://localhost:8080/"
        },
        "id": "2Vd0r-K6hed9",
        "outputId": "f1b29e5c-6467-461b-9db3-13471a47dee6"
      },
      "execution_count": 3,
      "outputs": [
        {
          "output_type": "stream",
          "name": "stdout",
          "text": [
            "3.1416\n"
          ]
        }
      ]
    },
    {
      "cell_type": "markdown",
      "source": [
        "# Parámetros y argumentos\n",
        "\n",
        "¿Qué son los parámetros y argumentos?\n",
        "\n",
        "* Parámetros: Variables que se definen en la función y reciben valores cuando se llama la función.\n",
        "\n",
        "* Argumentos: Valores que se pasan a la función cuando se llama.\n"
      ],
      "metadata": {
        "id": "CtBhDGnZhwjg"
      }
    },
    {
      "cell_type": "code",
      "source": [
        "# Función con parámetros\n",
        "\n",
        "def suma(a, b):\n",
        "    return a + b\n",
        "\n",
        "resultado = suma(3, 5)\n",
        "print(resultado)\n",
        "# Resultado: 8"
      ],
      "metadata": {
        "colab": {
          "base_uri": "https://localhost:8080/"
        },
        "id": "-4e4PRURiOy4",
        "outputId": "3859e1e2-3565-4183-e3df-498ade3bd854"
      },
      "execution_count": 4,
      "outputs": [
        {
          "output_type": "stream",
          "name": "stdout",
          "text": [
            "8\n"
          ]
        }
      ]
    },
    {
      "cell_type": "markdown",
      "source": [
        "## Tipos de Argumentos en Python\n",
        "\n",
        "En Python, cuando llamamos a una función, podemos pasar argumentos de diferentes maneras. Veamos cada una con ejemplos:"
      ],
      "metadata": {
        "id": "B6qotWCxi3-J"
      }
    },
    {
      "cell_type": "markdown",
      "source": [
        "1. Argumentos Posicionales:\n",
        "Los argumentos se pasan en el mismo orden en que se definieron los parámetros en la función."
      ],
      "metadata": {
        "id": "oyHkDx-6jDa2"
      }
    },
    {
      "cell_type": "code",
      "source": [
        "def informacion(nombre, edad):\n",
        "    print(f\"Nombre: {nombre}, Edad: {edad}\")\n",
        "\n",
        "informacion(\"Ana\", 25)\n",
        "# Resultado: Nombre: Ana, Edad: 25"
      ],
      "metadata": {
        "colab": {
          "base_uri": "https://localhost:8080/"
        },
        "id": "rEbwc6EvjFq-",
        "outputId": "42001d3d-9cd1-4239-b322-09b133dc36a7"
      },
      "execution_count": 5,
      "outputs": [
        {
          "output_type": "stream",
          "name": "stdout",
          "text": [
            "Nombre: Ana, Edad: 25\n"
          ]
        }
      ]
    },
    {
      "cell_type": "markdown",
      "source": [
        " \"Ana\" se asigna a nombre y 25 a edad en el orden en que aparecen en la función."
      ],
      "metadata": {
        "id": "F8VrPRjbjeGn"
      }
    },
    {
      "cell_type": "markdown",
      "source": [
        "2. Argumentos con Nombre (Keyword Arguments):\n",
        "Se pasan indicando el nombre del parámetro, permitiendo flexibilidad en el orden."
      ],
      "metadata": {
        "id": "pWiIx-6rjUUv"
      }
    },
    {
      "cell_type": "code",
      "source": [
        "def informacion(nombre, edad):\n",
        "    print(f\"Nombre: {nombre}, Edad: {edad}\")\n",
        "\n",
        "informacion(edad=30, nombre=\"Carlos\")\n",
        "# Resultado: Nombre: Carlos, Edad: 30"
      ],
      "metadata": {
        "colab": {
          "base_uri": "https://localhost:8080/"
        },
        "id": "MEEe-6kYjVve",
        "outputId": "09fcac97-56b3-42cc-db97-5560456e3dea"
      },
      "execution_count": 6,
      "outputs": [
        {
          "output_type": "stream",
          "name": "stdout",
          "text": [
            "Nombre: Carlos, Edad: 30\n"
          ]
        }
      ]
    },
    {
      "cell_type": "markdown",
      "source": [
        "Como usamos los nombres de los parámetros (nombre= y edad=), podemos enviarlos en cualquier orden."
      ],
      "metadata": {
        "id": "3OHuGLqfjja-"
      }
    },
    {
      "cell_type": "markdown",
      "source": [
        "3. Valores por Defecto (Default Arguments):\n",
        "Se asigna un valor predeterminado a un parámetro. Si no se pasa un argumento, se usa el valor por defecto."
      ],
      "metadata": {
        "id": "dgvfSZi4jr32"
      }
    },
    {
      "cell_type": "code",
      "source": [
        "def saludar(nombre=\"Invitado\"):\n",
        "    print(f\"Hola, {nombre}\")\n",
        "\n",
        "saludar()  # No pasamos argumento\n",
        "# Resultado: Hola, Invitado\n",
        "\n",
        "saludar(\"Laura\")  # Pasamos argumento\n",
        "# Resultado: Hola, Laura"
      ],
      "metadata": {
        "colab": {
          "base_uri": "https://localhost:8080/"
        },
        "id": "ctFjhu7UjvAk",
        "outputId": "02e697b9-9542-4ad1-b82c-0a7dad97120c"
      },
      "execution_count": 7,
      "outputs": [
        {
          "output_type": "stream",
          "name": "stdout",
          "text": [
            "Hola, Invitado\n",
            "Hola, Laura\n"
          ]
        }
      ]
    },
    {
      "cell_type": "markdown",
      "source": [
        "\"Invitado\" es el valor por defecto de nombre. Si no enviamos un argumento, se usa este valor."
      ],
      "metadata": {
        "id": "omXw5xrdjzr-"
      }
    },
    {
      "cell_type": "markdown",
      "source": [
        "4. Número Variable de Argumentos:\n",
        "A veces, no sabemos cuántos argumentos recibirá la función. Para estos casos usamos:\n",
        "\n",
        "* *args → Recibe una cantidad variable de argumentos posicionales (se almacenan en una tupla).\n",
        "\n",
        "* **kwargs → Recibe una cantidad variable de argumentos con nombre (se almacenan en un diccionario)."
      ],
      "metadata": {
        "id": "fxypc_76kKcc"
      }
    },
    {
      "cell_type": "code",
      "source": [
        "#  Ejemplo con *args (argumentos posicionales múltiples)\n",
        "\n",
        "def sumar(*numeros):\n",
        "    total = sum(numeros)\n",
        "    print(f\"La suma es: {total}\")\n",
        "\n",
        "sumar(1, 2, 3, 4, 5)\n",
        "# Resultado: La suma es: 15"
      ],
      "metadata": {
        "colab": {
          "base_uri": "https://localhost:8080/"
        },
        "id": "M-ROCsrxk0H7",
        "outputId": "25a0c9b7-b220-4381-ee1f-cc30fcc216ab"
      },
      "execution_count": 8,
      "outputs": [
        {
          "output_type": "stream",
          "name": "stdout",
          "text": [
            "La suma es: 15\n"
          ]
        }
      ]
    },
    {
      "cell_type": "markdown",
      "source": [
        "*numeros guarda (1, 2, 3, 4, 5) en una tupla, permitiendo que la función reciba múltiples valores."
      ],
      "metadata": {
        "id": "cpdjdLSuk6BV"
      }
    },
    {
      "cell_type": "code",
      "source": [
        "# Ejemplo con **kwargs (argumentos con nombre múltiples)\n",
        "\n",
        "def mostrar_info(**info):\n",
        "    for clave, valor in info.items():\n",
        "        print(f\"{clave}: {valor}\")\n",
        "\n",
        "mostrar_info(nombre=\"Ana\", edad=25, ciudad=\"Bogotá\")\n",
        "# Resultado:\n",
        "# nombre: Ana\n",
        "# edad: 25\n",
        "# ciudad: Bogotá"
      ],
      "metadata": {
        "colab": {
          "base_uri": "https://localhost:8080/"
        },
        "id": "fK6wjU3Ik96c",
        "outputId": "8441a30c-2534-4abb-9655-f96166497ffd"
      },
      "execution_count": 9,
      "outputs": [
        {
          "output_type": "stream",
          "name": "stdout",
          "text": [
            "nombre: Ana\n",
            "edad: 25\n",
            "ciudad: Bogotá\n"
          ]
        }
      ]
    },
    {
      "cell_type": "markdown",
      "source": [
        "**info guarda los valores en un diccionario y los recorre con .items()."
      ],
      "metadata": {
        "id": "fBc9RnJdlHzO"
      }
    },
    {
      "cell_type": "markdown",
      "source": [
        "# Funciones anónimas (lambda)\n",
        "\n",
        "¿Qué es una función lambda?\n",
        "\n",
        "Una función lambda es una función anónima de una sola línea, ideal para operaciones rápidas sin necesidad de definir una función convencional."
      ],
      "metadata": {
        "id": "mROgIMetlUVU"
      }
    },
    {
      "cell_type": "code",
      "source": [
        "# Sintaxis de una función lambda\n",
        "\n",
        "lambda argumentos: expresión"
      ],
      "metadata": {
        "colab": {
          "base_uri": "https://localhost:8080/"
        },
        "id": "eF8yJXTVlhdz",
        "outputId": "ee5321e7-c68a-486b-d5fb-d713868d2bb4"
      },
      "execution_count": 11,
      "outputs": [
        {
          "output_type": "execute_result",
          "data": {
            "text/plain": [
              "<function __main__.<lambda>(argumentos)>"
            ]
          },
          "metadata": {},
          "execution_count": 11
        }
      ]
    },
    {
      "cell_type": "code",
      "source": [
        "# Función lambda para sumar dos números\n",
        "\n",
        "suma = lambda a, b: a + b\n",
        "print(suma(3, 5))\n",
        "# Resultado: 8"
      ],
      "metadata": {
        "colab": {
          "base_uri": "https://localhost:8080/"
        },
        "id": "iG7eg52qsLSk",
        "outputId": "4406698c-8e0f-4093-dfdd-58a4aa0cc976"
      },
      "execution_count": 12,
      "outputs": [
        {
          "output_type": "stream",
          "name": "stdout",
          "text": [
            "8\n"
          ]
        }
      ]
    },
    {
      "cell_type": "code",
      "source": [
        "# Uso en map()\n",
        "# map() aplica una función a cada elemento de una lista.\n",
        "\n",
        "numeros = [1, 2, 3, 4, 5]\n",
        "cuadrados = list(map(lambda x: x ** 2, numeros))\n",
        "print(cuadrados)\n",
        "# Resultado: [1, 4, 9, 16, 25]"
      ],
      "metadata": {
        "colab": {
          "base_uri": "https://localhost:8080/"
        },
        "id": "SunYMXzPsS58",
        "outputId": "56e44130-a030-4a2a-ea2a-8b0b59455485"
      },
      "execution_count": 13,
      "outputs": [
        {
          "output_type": "stream",
          "name": "stdout",
          "text": [
            "[1, 4, 9, 16, 25]\n"
          ]
        }
      ]
    },
    {
      "cell_type": "code",
      "source": [
        "# Uso en filter()\n",
        "# filter() selecciona elementos que cumplen una condición.\n",
        "\n",
        "numeros = [1, 2, 3, 4, 5]\n",
        "pares = list(filter(lambda x: x % 2 == 0, numeros))\n",
        "print(pares)\n",
        "# Resultado: [2, 4]"
      ],
      "metadata": {
        "colab": {
          "base_uri": "https://localhost:8080/"
        },
        "id": "VN1JbE5KsgNc",
        "outputId": "406dff1c-74a2-4da1-dc9f-d0f5a1978fd5"
      },
      "execution_count": 14,
      "outputs": [
        {
          "output_type": "stream",
          "name": "stdout",
          "text": [
            "[2, 4]\n"
          ]
        }
      ]
    },
    {
      "cell_type": "markdown",
      "source": [
        "# Módulos y paquetes en Python\n",
        "\n",
        "¿Qué es un módulo en Python?\n",
        "\n",
        "Un módulo es un archivo de Python (.py) que contiene funciones y variables reutilizables.\n",
        "\n",
        "¿Qué es un paquete en Python?\n",
        "\n",
        "Un paquete es una colección de módulos organizados en carpetas con un archivo especial __init__.py que permite tratarlas como una unidad."
      ],
      "metadata": {
        "id": "IUhUz9k_uNil"
      }
    },
    {
      "cell_type": "markdown",
      "source": [
        "1. Importar módulos"
      ],
      "metadata": {
        "id": "ON3rJgP1uvAO"
      }
    },
    {
      "cell_type": "code",
      "source": [
        "#  Importar un módulo completo (math)\n",
        "\n",
        "import math\n",
        "print(math.sqrt(25))  # Resultado: 5.0"
      ],
      "metadata": {
        "colab": {
          "base_uri": "https://localhost:8080/"
        },
        "id": "ADyGhydMuux-",
        "outputId": "9c3afe13-34c8-4b16-c685-4b6d21ca8d15"
      },
      "execution_count": 15,
      "outputs": [
        {
          "output_type": "stream",
          "name": "stdout",
          "text": [
            "5.0\n"
          ]
        }
      ]
    },
    {
      "cell_type": "code",
      "source": [
        "# Importar solo una función\n",
        "\n",
        "from math import sqrt\n",
        "print(sqrt(25))  # Resultado: 5.0"
      ],
      "metadata": {
        "colab": {
          "base_uri": "https://localhost:8080/"
        },
        "id": "DYpdXK3avHtd",
        "outputId": "d206c8df-43ee-47e9-eeb1-aaafdbc68d0a"
      },
      "execution_count": 16,
      "outputs": [
        {
          "output_type": "stream",
          "name": "stdout",
          "text": [
            "5.0\n"
          ]
        }
      ]
    },
    {
      "cell_type": "code",
      "source": [
        "# Importar con alias\n",
        "\n",
        "import math as m\n",
        "print(m.pi)  # Resultado: 3.141592653589793"
      ],
      "metadata": {
        "colab": {
          "base_uri": "https://localhost:8080/"
        },
        "id": "hV9jUAVRvN_N",
        "outputId": "1927441c-8d8d-4672-bf83-af555f55400e"
      },
      "execution_count": 17,
      "outputs": [
        {
          "output_type": "stream",
          "name": "stdout",
          "text": [
            "3.141592653589793\n"
          ]
        }
      ]
    },
    {
      "cell_type": "markdown",
      "source": [
        "2. Crear un módulo propio\n",
        "\n",
        "* Crea un archivo llamado mimodulo.py\n",
        "* Define funciones dentro del módulo"
      ],
      "metadata": {
        "id": "IRy-oSxJvoIe"
      }
    },
    {
      "cell_type": "code",
      "source": [
        "%%writefile mimodulo.py\n",
        "\n",
        "def saludar(nombre):\n",
        "    return f\"Hola, {nombre}!\"\n",
        "\n",
        "def despedirse(nombre):\n",
        "    return f\"Adiós, {nombre}!\""
      ],
      "metadata": {
        "colab": {
          "base_uri": "https://localhost:8080/"
        },
        "id": "CYVdzMdkvyDd",
        "outputId": "e5db0dd8-6264-465d-c697-5fe3182455cd"
      },
      "execution_count": 23,
      "outputs": [
        {
          "output_type": "stream",
          "name": "stdout",
          "text": [
            "Writing mimodulo.py\n"
          ]
        }
      ]
    },
    {
      "cell_type": "code",
      "source": [
        "# Usa el módulo en otro archivo\n",
        "\n",
        "import mimodulo\n",
        "\n",
        "print(mimodulo.saludar(\"Ana\"))\n",
        "print(mimodulo.despedirse(\"Carlos\"))"
      ],
      "metadata": {
        "colab": {
          "base_uri": "https://localhost:8080/"
        },
        "id": "3RJhbhktv3i9",
        "outputId": "71667e50-1b14-455e-e214-c43ee687d21a"
      },
      "execution_count": 29,
      "outputs": [
        {
          "output_type": "stream",
          "name": "stdout",
          "text": [
            "Hola, Ana!\n",
            "Adiós, Carlos!\n"
          ]
        }
      ]
    },
    {
      "cell_type": "markdown",
      "source": [
        "En Python, cuando trabajamos fuera de Google Colab, es común estructurar nuestro código en módulos separados. Para lograrlo, podemos crear un archivo .py con funciones y otro archivo que lo importe y ejecute."
      ],
      "metadata": {
        "id": "vMCnl5VIxNZk"
      }
    }
  ]
}